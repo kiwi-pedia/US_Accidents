{
 "cells": [
  {
   "cell_type": "markdown",
   "id": "7ad1e95b-5fb4-4c9e-88de-1ba338b34d83",
   "metadata": {},
   "source": [
    "# **Import Modules & Read data**"
   ]
  },
  {
   "cell_type": "code",
   "execution_count": 1,
   "id": "259da21a-f38f-4bb9-b400-edb86c007678",
   "metadata": {},
   "outputs": [],
   "source": [
    "import numpy as np\n",
    "import pandas as pd"
   ]
  },
  {
   "cell_type": "code",
   "execution_count": 2,
   "id": "7a3bafb7-1e70-4f0a-a953-62142ca814b1",
   "metadata": {},
   "outputs": [],
   "source": [
    "dataRaw=pd.read_csv('us_final.csv',header=0)"
   ]
  },
  {
   "cell_type": "code",
   "execution_count": 3,
   "id": "b1012415-cea9-4787-a5ff-a598951e670e",
   "metadata": {},
   "outputs": [],
   "source": [
    "dataRaw = dataRaw.drop(['SeverityRatio_15days'], axis=1)"
   ]
  },
  {
   "cell_type": "code",
   "execution_count": 4,
   "id": "4e8de35a-46a5-4525-8510-b5e5a1a6edb2",
   "metadata": {},
   "outputs": [],
   "source": [
    "data = dataRaw"
   ]
  },
  {
   "cell_type": "raw",
   "id": "4fede590-b04a-47ac-80fb-c7fb84c1dd97",
   "metadata": {},
   "source": [
    "data.columns.to_list()"
   ]
  },
  {
   "cell_type": "code",
   "execution_count": 5,
   "id": "27fed569-d45f-48ee-bc4d-3c9be043e24a",
   "metadata": {},
   "outputs": [],
   "source": [
    "data2 = data[[\n",
    " 'Severity_Bisection',\n",
    "\n",
    " 'Start_Lat',\n",
    " 'Start_Lng',\n",
    " 'Temperature(F)',\n",
    " 'Wind_Chill(F)',\n",
    " 'Humidity(%)',\n",
    " 'Pressure(in)',\n",
    " 'Visibility(mi)',\n",
    " 'Wind_Speed(mph)',\n",
    " 'Precipitation(in)',\n",
    "    \n",
    " 'Weather_Condition',\n",
    " 'Side',\n",
    " 'State',\n",
    " 'Month',\n",
    " 'Weekday',\n",
    " 'Light',\n",
    " 'Highway',\n",
    "   \n",
    " 'Bisection_WeatherCondition',\n",
    " 'Visibility_Bisection',\n",
    " 'Bisection_City',\n",
    " 'Bisection_County',\n",
    " 'Bisection_State',\n",
    "\n",
    " 'Amenity',\n",
    " 'Bump',\n",
    " 'Crossing',\n",
    " 'Give_Way',\n",
    " 'Junction',\n",
    " 'No_Exit',\n",
    " 'Railway',\n",
    " 'Roundabout',\n",
    " 'Station',\n",
    " 'Stop',\n",
    " 'Traffic_Calming',\n",
    " 'Traffic_Signal',\n",
    "\n",
    " 'SeverityRatio_Weekday',\n",
    " 'SeverityRatio_Month',\n",
    " 'SeverityRatio_Light',\n",
    " 'SeverityRatio_WeatherCondition',\n",
    " 'SeverityRatio_Visibility',\n",
    " 'SeverityRatio_City',\n",
    " 'SeverityRatio_County',\n",
    " 'SeverityRatio_State',\n",
    " 'SeverityRatio_Road',\n",
    " 'SeverityRatio_HighWay',\n",
    " 'SeverityRatio_30days',\n",
    " 'SeverityRatio_60days',\n",
    " 'SeverityRatio_90days',\n",
    " \n",
    " 'DeathRate',\n",
    " 'DeathRate2']]"
   ]
  },
  {
   "cell_type": "code",
   "execution_count": 6,
   "id": "2768f833-7819-4aa1-a1e1-6707bed93809",
   "metadata": {},
   "outputs": [
    {
     "data": {
      "text/plain": [
       "['Severity_Bisection',\n",
       " 'Start_Lat',\n",
       " 'Start_Lng',\n",
       " 'Temperature(F)',\n",
       " 'Wind_Chill(F)',\n",
       " 'Humidity(%)',\n",
       " 'Pressure(in)',\n",
       " 'Visibility(mi)',\n",
       " 'Wind_Speed(mph)',\n",
       " 'Precipitation(in)',\n",
       " 'Weather_Condition',\n",
       " 'Side',\n",
       " 'State',\n",
       " 'Month',\n",
       " 'Weekday',\n",
       " 'Light',\n",
       " 'Highway',\n",
       " 'Bisection_WeatherCondition',\n",
       " 'Visibility_Bisection',\n",
       " 'Bisection_City',\n",
       " 'Bisection_County',\n",
       " 'Bisection_State',\n",
       " 'Amenity',\n",
       " 'Bump',\n",
       " 'Crossing',\n",
       " 'Give_Way',\n",
       " 'Junction',\n",
       " 'No_Exit',\n",
       " 'Railway',\n",
       " 'Roundabout',\n",
       " 'Station',\n",
       " 'Stop',\n",
       " 'Traffic_Calming',\n",
       " 'Traffic_Signal',\n",
       " 'SeverityRatio_Weekday',\n",
       " 'SeverityRatio_Month',\n",
       " 'SeverityRatio_Light',\n",
       " 'SeverityRatio_WeatherCondition',\n",
       " 'SeverityRatio_Visibility',\n",
       " 'SeverityRatio_City',\n",
       " 'SeverityRatio_County',\n",
       " 'SeverityRatio_State',\n",
       " 'SeverityRatio_Road',\n",
       " 'SeverityRatio_HighWay',\n",
       " 'SeverityRatio_30days',\n",
       " 'SeverityRatio_60days',\n",
       " 'SeverityRatio_90days',\n",
       " 'DeathRate',\n",
       " 'DeathRate2']"
      ]
     },
     "execution_count": 6,
     "metadata": {},
     "output_type": "execute_result"
    }
   ],
   "source": [
    "data2.columns.to_list()"
   ]
  },
  {
   "cell_type": "markdown",
   "id": "533de031-25ad-4e28-9b6d-2cf484c9ae8e",
   "metadata": {},
   "source": [
    "# **Label Encoding**"
   ]
  },
  {
   "cell_type": "code",
   "execution_count": 7,
   "id": "d1755d58-cf0c-4971-8eed-449adc6c2ef4",
   "metadata": {},
   "outputs": [
    {
     "name": "stderr",
     "output_type": "stream",
     "text": [
      "/tmp/ipykernel_29366/1007615547.py:1: SettingWithCopyWarning: \n",
      "A value is trying to be set on a copy of a slice from a DataFrame\n",
      "\n",
      "See the caveats in the documentation: https://pandas.pydata.org/pandas-docs/stable/user_guide/indexing.html#returning-a-view-versus-a-copy\n",
      "  data2.replace({False: 0, True: 1}, inplace=True)\n"
     ]
    }
   ],
   "source": [
    "data2.replace({False: 0, True: 1}, inplace=True)"
   ]
  },
  {
   "cell_type": "code",
   "execution_count": 8,
   "id": "b6d470fa-31cc-499a-acdd-024bd032dc92",
   "metadata": {},
   "outputs": [],
   "source": [
    "# data2['DayNight'].replace({'Dark': 0, 'Dim': 1, 'Bright': 2}, inplace=True)"
   ]
  },
  {
   "cell_type": "code",
   "execution_count": 9,
   "id": "6106659e-4924-4c27-bba7-a4ed0f160ef6",
   "metadata": {},
   "outputs": [
    {
     "name": "stderr",
     "output_type": "stream",
     "text": [
      "/tmp/ipykernel_29366/210834288.py:1: SettingWithCopyWarning: \n",
      "A value is trying to be set on a copy of a slice from a DataFrame\n",
      "\n",
      "See the caveats in the documentation: https://pandas.pydata.org/pandas-docs/stable/user_guide/indexing.html#returning-a-view-versus-a-copy\n",
      "  data2['Bisection_WeatherCondition'].replace({'BadWeather': 0, 'GoodWeather': 1}, inplace=True)\n"
     ]
    }
   ],
   "source": [
    "data2['Bisection_WeatherCondition'].replace({'BadWeather': 0, 'GoodWeather': 1}, inplace=True)"
   ]
  },
  {
   "cell_type": "code",
   "execution_count": 10,
   "id": "94d8f4d7-4d49-4dfc-ba09-8cc105413991",
   "metadata": {},
   "outputs": [
    {
     "name": "stderr",
     "output_type": "stream",
     "text": [
      "/tmp/ipykernel_29366/2306237467.py:1: SettingWithCopyWarning: \n",
      "A value is trying to be set on a copy of a slice from a DataFrame\n",
      "\n",
      "See the caveats in the documentation: https://pandas.pydata.org/pandas-docs/stable/user_guide/indexing.html#returning-a-view-versus-a-copy\n",
      "  data2['Side'].replace({'L': 0, 'R': 1}, inplace=True)\n"
     ]
    }
   ],
   "source": [
    "data2['Side'].replace({'L': 0, 'R': 1}, inplace=True)"
   ]
  },
  {
   "cell_type": "code",
   "execution_count": 11,
   "id": "90abddd8-505b-4773-a38f-013fcfaf3107",
   "metadata": {},
   "outputs": [
    {
     "name": "stderr",
     "output_type": "stream",
     "text": [
      "/tmp/ipykernel_29366/93960287.py:1: SettingWithCopyWarning: \n",
      "A value is trying to be set on a copy of a slice from a DataFrame\n",
      "\n",
      "See the caveats in the documentation: https://pandas.pydata.org/pandas-docs/stable/user_guide/indexing.html#returning-a-view-versus-a-copy\n",
      "  data2['Visibility_Bisection'].replace({'level_1': 0, 'level_2': 1}, inplace=True)\n"
     ]
    }
   ],
   "source": [
    "data2['Visibility_Bisection'].replace({'level_1': 0, 'level_2': 1}, inplace=True)"
   ]
  },
  {
   "cell_type": "code",
   "execution_count": 12,
   "id": "e572b131-c975-4058-8e8a-299e6cba632a",
   "metadata": {},
   "outputs": [
    {
     "name": "stderr",
     "output_type": "stream",
     "text": [
      "/tmp/ipykernel_29366/2689946353.py:1: SettingWithCopyWarning: \n",
      "A value is trying to be set on a copy of a slice from a DataFrame\n",
      "\n",
      "See the caveats in the documentation: https://pandas.pydata.org/pandas-docs/stable/user_guide/indexing.html#returning-a-view-versus-a-copy\n",
      "  data2['Bisection_City'].replace({'BadCity': 0, 'GoodCity': 1}, inplace=True)\n"
     ]
    }
   ],
   "source": [
    "data2['Bisection_City'].replace({'BadCity': 0, 'GoodCity': 1}, inplace=True)"
   ]
  },
  {
   "cell_type": "code",
   "execution_count": 13,
   "id": "759d859d-4db7-43df-b6dd-1228b1178bdf",
   "metadata": {},
   "outputs": [
    {
     "name": "stderr",
     "output_type": "stream",
     "text": [
      "/tmp/ipykernel_29366/252464064.py:1: SettingWithCopyWarning: \n",
      "A value is trying to be set on a copy of a slice from a DataFrame\n",
      "\n",
      "See the caveats in the documentation: https://pandas.pydata.org/pandas-docs/stable/user_guide/indexing.html#returning-a-view-versus-a-copy\n",
      "  data2['Bisection_County'].replace({'BadCounty': 0, 'GoodCounty': 1}, inplace=True)\n"
     ]
    }
   ],
   "source": [
    "data2['Bisection_County'].replace({'BadCounty': 0, 'GoodCounty': 1}, inplace=True)"
   ]
  },
  {
   "cell_type": "code",
   "execution_count": 14,
   "id": "4b30c3ec-6c3c-4986-81be-3e95d97b4e3a",
   "metadata": {},
   "outputs": [],
   "source": [
    "from sklearn.preprocessing import LabelEncoder\n",
    "from sklearn.preprocessing import OneHotEncoder"
   ]
  },
  {
   "cell_type": "code",
   "execution_count": 15,
   "id": "1fbc61c4-8dbe-43ac-9370-00a09f5429c9",
   "metadata": {},
   "outputs": [],
   "source": [
    "# labelencoder = LabelEncoder()\n",
    "# data2.insert(1,'State_le', labelencoder.fit_transform(data['State']))\n",
    "# # data2.insert(1,'RoadType_le', labelencoder.fit_transform(data['RoadType']))\n",
    "# data2.insert(1,'City_le', labelencoder.fit_transform(data['City']))\n",
    "# data2.insert(1,'County_le', labelencoder.fit_transform(data['County']))\n",
    "# data2.insert(1,'Weather_Condition_le', labelencoder.fit_transform(data['Weather_Condition']))\n",
    "# data2.insert(1,'Month_le', labelencoder.fit_transform(data['Month']))\n",
    "# # data2.insert(1,'Highway_Bisection_le', labelencoder.fit_transform(data['Highway_Bisection']))\n",
    "# data2.insert(1,'Highway_Bisection_le', labelencoder.fit_transform(data['Highway_Bisection']))\n",
    "# data2.insert(1,'State_Bisection_le', labelencoder.fit_transform(data['State_Bisection']))\n",
    "\n",
    "\n",
    "# # City, County, State, Weather_Condition, Month, Highway_Bisection, State_Bisection\n"
   ]
  },
  {
   "cell_type": "code",
   "execution_count": 16,
   "id": "b1cc7175-a9a6-4000-ab94-df80bd72a03d",
   "metadata": {},
   "outputs": [],
   "source": [
    "labelencoder = LabelEncoder()\n",
    "data2.insert(1,'State_le', labelencoder.fit_transform(data['State']))\n",
    "# data2.insert(1,'RoadType_le', labelencoder.fit_transform(data['RoadType']))\n",
    "# data2.insert(1,'City_le', labelencoder.fit_transform(data['City']))\n",
    "# data2.insert(1,'County_le', labelencoder.fit_transform(data['County']))\n",
    "data2.insert(1,'Weather_Condition_le', labelencoder.fit_transform(data['Weather_Condition']))\n",
    "data2.insert(1,'Month_le', labelencoder.fit_transform(data['Month']))\n",
    "# data2.insert(1,'Highway_Bisection_le', labelencoder.fit_transform(data['Highway_Bisection']))\n",
    "data2.insert(1,'Highway_le', labelencoder.fit_transform(data['Highway']))\n",
    "data2.insert(1,'Bisection_State_le', labelencoder.fit_transform(data['Bisection_State']))\n",
    "data2.insert(1,'Weekday_le', labelencoder.fit_transform(data['Weekday']))\n",
    "data2.insert(1,'Light_le', labelencoder.fit_transform(data['Light']))\n",
    "\n",
    "\n",
    "data2 = data2.drop(['State',  'Weather_Condition', 'Month', 'Highway', 'Bisection_State', 'Light','Weekday'], axis=1)\n",
    "\n",
    "# City, County, State, Weather_Condition, Month, Highway_Bisection, State_Bisection\n"
   ]
  },
  {
   "cell_type": "code",
   "execution_count": 17,
   "id": "8ce304dc-29c1-41e6-9f1a-d897d880e433",
   "metadata": {},
   "outputs": [
    {
     "data": {
      "text/plain": [
       "['Severity_Bisection',\n",
       " 'Light_le',\n",
       " 'Weekday_le',\n",
       " 'Bisection_State_le',\n",
       " 'Highway_le',\n",
       " 'Month_le',\n",
       " 'Weather_Condition_le',\n",
       " 'State_le',\n",
       " 'Start_Lat',\n",
       " 'Start_Lng',\n",
       " 'Temperature(F)',\n",
       " 'Wind_Chill(F)',\n",
       " 'Humidity(%)',\n",
       " 'Pressure(in)',\n",
       " 'Visibility(mi)',\n",
       " 'Wind_Speed(mph)',\n",
       " 'Precipitation(in)',\n",
       " 'Side',\n",
       " 'Bisection_WeatherCondition',\n",
       " 'Visibility_Bisection',\n",
       " 'Bisection_City',\n",
       " 'Bisection_County',\n",
       " 'Amenity',\n",
       " 'Bump',\n",
       " 'Crossing',\n",
       " 'Give_Way',\n",
       " 'Junction',\n",
       " 'No_Exit',\n",
       " 'Railway',\n",
       " 'Roundabout',\n",
       " 'Station',\n",
       " 'Stop',\n",
       " 'Traffic_Calming',\n",
       " 'Traffic_Signal',\n",
       " 'SeverityRatio_Weekday',\n",
       " 'SeverityRatio_Month',\n",
       " 'SeverityRatio_Light',\n",
       " 'SeverityRatio_WeatherCondition',\n",
       " 'SeverityRatio_Visibility',\n",
       " 'SeverityRatio_City',\n",
       " 'SeverityRatio_County',\n",
       " 'SeverityRatio_State',\n",
       " 'SeverityRatio_Road',\n",
       " 'SeverityRatio_HighWay',\n",
       " 'SeverityRatio_30days',\n",
       " 'SeverityRatio_60days',\n",
       " 'SeverityRatio_90days',\n",
       " 'DeathRate',\n",
       " 'DeathRate2']"
      ]
     },
     "execution_count": 17,
     "metadata": {},
     "output_type": "execute_result"
    }
   ],
   "source": [
    "data2.columns.to_list()"
   ]
  },
  {
   "cell_type": "code",
   "execution_count": 18,
   "id": "1c636c52-a57a-4c89-85e4-26790604c084",
   "metadata": {},
   "outputs": [],
   "source": [
    "# cols_to_norm = ['Start_Lat',\n",
    "#  'Start_Lng',\n",
    "\n",
    "#  'Temperature(F)',\n",
    "#  'Wind_Chill(F)',\n",
    "#  'Humidity(%)',\n",
    "#  'Pressure(in)',\n",
    "#  'Visibility(mi)',\n",
    "#  'Wind_Speed(mph)',\n",
    "#  'Precipitation(in)',]\n",
    "# data2[cols_to_norm] = data2[cols_to_norm].apply(lambda x: (x - x.min()) / (x.max() - x.min())*0.6+0.2)"
   ]
  },
  {
   "cell_type": "code",
   "execution_count": 19,
   "id": "2bea8493-b893-4e69-807c-48bf194a65cd",
   "metadata": {},
   "outputs": [
    {
     "data": {
      "text/html": [
       "<div>\n",
       "<style scoped>\n",
       "    .dataframe tbody tr th:only-of-type {\n",
       "        vertical-align: middle;\n",
       "    }\n",
       "\n",
       "    .dataframe tbody tr th {\n",
       "        vertical-align: top;\n",
       "    }\n",
       "\n",
       "    .dataframe thead th {\n",
       "        text-align: right;\n",
       "    }\n",
       "</style>\n",
       "<table border=\"1\" class=\"dataframe\">\n",
       "  <thead>\n",
       "    <tr style=\"text-align: right;\">\n",
       "      <th></th>\n",
       "      <th>Severity_Bisection</th>\n",
       "      <th>Light_le</th>\n",
       "      <th>Weekday_le</th>\n",
       "      <th>Bisection_State_le</th>\n",
       "      <th>Highway_le</th>\n",
       "      <th>Month_le</th>\n",
       "      <th>Weather_Condition_le</th>\n",
       "      <th>State_le</th>\n",
       "      <th>Start_Lat</th>\n",
       "      <th>Start_Lng</th>\n",
       "      <th>...</th>\n",
       "      <th>SeverityRatio_City</th>\n",
       "      <th>SeverityRatio_County</th>\n",
       "      <th>SeverityRatio_State</th>\n",
       "      <th>SeverityRatio_Road</th>\n",
       "      <th>SeverityRatio_HighWay</th>\n",
       "      <th>SeverityRatio_30days</th>\n",
       "      <th>SeverityRatio_60days</th>\n",
       "      <th>SeverityRatio_90days</th>\n",
       "      <th>DeathRate</th>\n",
       "      <th>DeathRate2</th>\n",
       "    </tr>\n",
       "  </thead>\n",
       "  <tbody>\n",
       "    <tr>\n",
       "      <th>0</th>\n",
       "      <td>0</td>\n",
       "      <td>2</td>\n",
       "      <td>1</td>\n",
       "      <td>0</td>\n",
       "      <td>2</td>\n",
       "      <td>7</td>\n",
       "      <td>66</td>\n",
       "      <td>33</td>\n",
       "      <td>39.938490</td>\n",
       "      <td>-82.848490</td>\n",
       "      <td>...</td>\n",
       "      <td>0.215190</td>\n",
       "      <td>0.267530</td>\n",
       "      <td>0.182498</td>\n",
       "      <td>0.000000</td>\n",
       "      <td>0.034571</td>\n",
       "      <td>0.824561</td>\n",
       "      <td>0.685185</td>\n",
       "      <td>0.685185</td>\n",
       "      <td>16.2</td>\n",
       "      <td>1.0</td>\n",
       "    </tr>\n",
       "    <tr>\n",
       "      <th>1</th>\n",
       "      <td>0</td>\n",
       "      <td>2</td>\n",
       "      <td>1</td>\n",
       "      <td>0</td>\n",
       "      <td>0</td>\n",
       "      <td>7</td>\n",
       "      <td>49</td>\n",
       "      <td>33</td>\n",
       "      <td>39.970430</td>\n",
       "      <td>-83.019620</td>\n",
       "      <td>...</td>\n",
       "      <td>0.215190</td>\n",
       "      <td>0.267530</td>\n",
       "      <td>0.182498</td>\n",
       "      <td>0.349823</td>\n",
       "      <td>0.070680</td>\n",
       "      <td>0.824561</td>\n",
       "      <td>0.685185</td>\n",
       "      <td>0.685185</td>\n",
       "      <td>16.2</td>\n",
       "      <td>1.0</td>\n",
       "    </tr>\n",
       "    <tr>\n",
       "      <th>2</th>\n",
       "      <td>1</td>\n",
       "      <td>2</td>\n",
       "      <td>5</td>\n",
       "      <td>0</td>\n",
       "      <td>0</td>\n",
       "      <td>7</td>\n",
       "      <td>49</td>\n",
       "      <td>33</td>\n",
       "      <td>41.474552</td>\n",
       "      <td>-81.711522</td>\n",
       "      <td>...</td>\n",
       "      <td>0.184287</td>\n",
       "      <td>0.196343</td>\n",
       "      <td>0.182498</td>\n",
       "      <td>0.000000</td>\n",
       "      <td>0.070680</td>\n",
       "      <td>0.745763</td>\n",
       "      <td>0.609091</td>\n",
       "      <td>0.672727</td>\n",
       "      <td>16.2</td>\n",
       "      <td>1.0</td>\n",
       "    </tr>\n",
       "    <tr>\n",
       "      <th>3</th>\n",
       "      <td>1</td>\n",
       "      <td>2</td>\n",
       "      <td>5</td>\n",
       "      <td>0</td>\n",
       "      <td>2</td>\n",
       "      <td>7</td>\n",
       "      <td>49</td>\n",
       "      <td>33</td>\n",
       "      <td>41.479740</td>\n",
       "      <td>-81.666700</td>\n",
       "      <td>...</td>\n",
       "      <td>0.184287</td>\n",
       "      <td>0.196343</td>\n",
       "      <td>0.182498</td>\n",
       "      <td>0.000000</td>\n",
       "      <td>0.034571</td>\n",
       "      <td>0.745763</td>\n",
       "      <td>0.609091</td>\n",
       "      <td>0.672727</td>\n",
       "      <td>16.2</td>\n",
       "      <td>1.0</td>\n",
       "    </tr>\n",
       "    <tr>\n",
       "      <th>4</th>\n",
       "      <td>0</td>\n",
       "      <td>2</td>\n",
       "      <td>2</td>\n",
       "      <td>0</td>\n",
       "      <td>2</td>\n",
       "      <td>7</td>\n",
       "      <td>69</td>\n",
       "      <td>15</td>\n",
       "      <td>38.191050</td>\n",
       "      <td>-85.719020</td>\n",
       "      <td>...</td>\n",
       "      <td>0.134774</td>\n",
       "      <td>0.157684</td>\n",
       "      <td>0.177346</td>\n",
       "      <td>0.202785</td>\n",
       "      <td>0.034571</td>\n",
       "      <td>0.909091</td>\n",
       "      <td>0.627273</td>\n",
       "      <td>0.690909</td>\n",
       "      <td>15.6</td>\n",
       "      <td>1.0</td>\n",
       "    </tr>\n",
       "    <tr>\n",
       "      <th>...</th>\n",
       "      <td>...</td>\n",
       "      <td>...</td>\n",
       "      <td>...</td>\n",
       "      <td>...</td>\n",
       "      <td>...</td>\n",
       "      <td>...</td>\n",
       "      <td>...</td>\n",
       "      <td>...</td>\n",
       "      <td>...</td>\n",
       "      <td>...</td>\n",
       "      <td>...</td>\n",
       "      <td>...</td>\n",
       "      <td>...</td>\n",
       "      <td>...</td>\n",
       "      <td>...</td>\n",
       "      <td>...</td>\n",
       "      <td>...</td>\n",
       "      <td>...</td>\n",
       "      <td>...</td>\n",
       "      <td>...</td>\n",
       "      <td>...</td>\n",
       "    </tr>\n",
       "    <tr>\n",
       "      <th>2213157</th>\n",
       "      <td>0</td>\n",
       "      <td>2</td>\n",
       "      <td>0</td>\n",
       "      <td>1</td>\n",
       "      <td>2</td>\n",
       "      <td>2</td>\n",
       "      <td>7</td>\n",
       "      <td>24</td>\n",
       "      <td>45.672460</td>\n",
       "      <td>-111.006084</td>\n",
       "      <td>...</td>\n",
       "      <td>0.005613</td>\n",
       "      <td>0.009982</td>\n",
       "      <td>0.015171</td>\n",
       "      <td>0.000000</td>\n",
       "      <td>0.034571</td>\n",
       "      <td>0.012595</td>\n",
       "      <td>0.013865</td>\n",
       "      <td>0.014498</td>\n",
       "      <td>12.8</td>\n",
       "      <td>1.0</td>\n",
       "    </tr>\n",
       "    <tr>\n",
       "      <th>2213158</th>\n",
       "      <td>0</td>\n",
       "      <td>2</td>\n",
       "      <td>0</td>\n",
       "      <td>0</td>\n",
       "      <td>2</td>\n",
       "      <td>2</td>\n",
       "      <td>7</td>\n",
       "      <td>36</td>\n",
       "      <td>39.934154</td>\n",
       "      <td>-76.686683</td>\n",
       "      <td>...</td>\n",
       "      <td>0.063170</td>\n",
       "      <td>0.063055</td>\n",
       "      <td>0.090529</td>\n",
       "      <td>0.112832</td>\n",
       "      <td>0.034571</td>\n",
       "      <td>0.012595</td>\n",
       "      <td>0.013865</td>\n",
       "      <td>0.014498</td>\n",
       "      <td>5.4</td>\n",
       "      <td>1.0</td>\n",
       "    </tr>\n",
       "    <tr>\n",
       "      <th>2213159</th>\n",
       "      <td>0</td>\n",
       "      <td>2</td>\n",
       "      <td>0</td>\n",
       "      <td>1</td>\n",
       "      <td>0</td>\n",
       "      <td>2</td>\n",
       "      <td>7</td>\n",
       "      <td>38</td>\n",
       "      <td>33.938415</td>\n",
       "      <td>-80.979593</td>\n",
       "      <td>...</td>\n",
       "      <td>0.033770</td>\n",
       "      <td>0.024339</td>\n",
       "      <td>0.018754</td>\n",
       "      <td>0.000000</td>\n",
       "      <td>0.070680</td>\n",
       "      <td>0.012595</td>\n",
       "      <td>0.013865</td>\n",
       "      <td>0.014498</td>\n",
       "      <td>11.5</td>\n",
       "      <td>1.0</td>\n",
       "    </tr>\n",
       "    <tr>\n",
       "      <th>2213160</th>\n",
       "      <td>0</td>\n",
       "      <td>0</td>\n",
       "      <td>0</td>\n",
       "      <td>0</td>\n",
       "      <td>2</td>\n",
       "      <td>2</td>\n",
       "      <td>66</td>\n",
       "      <td>25</td>\n",
       "      <td>35.815495</td>\n",
       "      <td>-78.690847</td>\n",
       "      <td>...</td>\n",
       "      <td>0.019512</td>\n",
       "      <td>0.024187</td>\n",
       "      <td>0.071042</td>\n",
       "      <td>0.000000</td>\n",
       "      <td>0.034571</td>\n",
       "      <td>0.012595</td>\n",
       "      <td>0.013865</td>\n",
       "      <td>0.014498</td>\n",
       "      <td>13.1</td>\n",
       "      <td>1.0</td>\n",
       "    </tr>\n",
       "    <tr>\n",
       "      <th>2213161</th>\n",
       "      <td>0</td>\n",
       "      <td>0</td>\n",
       "      <td>0</td>\n",
       "      <td>0</td>\n",
       "      <td>0</td>\n",
       "      <td>2</td>\n",
       "      <td>66</td>\n",
       "      <td>41</td>\n",
       "      <td>29.887021</td>\n",
       "      <td>-95.424211</td>\n",
       "      <td>...</td>\n",
       "      <td>0.070980</td>\n",
       "      <td>0.078303</td>\n",
       "      <td>0.084803</td>\n",
       "      <td>0.000000</td>\n",
       "      <td>0.070680</td>\n",
       "      <td>0.012595</td>\n",
       "      <td>0.013865</td>\n",
       "      <td>0.014498</td>\n",
       "      <td>7.7</td>\n",
       "      <td>1.0</td>\n",
       "    </tr>\n",
       "  </tbody>\n",
       "</table>\n",
       "<p>2213162 rows × 49 columns</p>\n",
       "</div>"
      ],
      "text/plain": [
       "         Severity_Bisection  Light_le  Weekday_le  Bisection_State_le  \\\n",
       "0                         0         2           1                   0   \n",
       "1                         0         2           1                   0   \n",
       "2                         1         2           5                   0   \n",
       "3                         1         2           5                   0   \n",
       "4                         0         2           2                   0   \n",
       "...                     ...       ...         ...                 ...   \n",
       "2213157                   0         2           0                   1   \n",
       "2213158                   0         2           0                   0   \n",
       "2213159                   0         2           0                   1   \n",
       "2213160                   0         0           0                   0   \n",
       "2213161                   0         0           0                   0   \n",
       "\n",
       "         Highway_le  Month_le  Weather_Condition_le  State_le  Start_Lat  \\\n",
       "0                 2         7                    66        33  39.938490   \n",
       "1                 0         7                    49        33  39.970430   \n",
       "2                 0         7                    49        33  41.474552   \n",
       "3                 2         7                    49        33  41.479740   \n",
       "4                 2         7                    69        15  38.191050   \n",
       "...             ...       ...                   ...       ...        ...   \n",
       "2213157           2         2                     7        24  45.672460   \n",
       "2213158           2         2                     7        36  39.934154   \n",
       "2213159           0         2                     7        38  33.938415   \n",
       "2213160           2         2                    66        25  35.815495   \n",
       "2213161           0         2                    66        41  29.887021   \n",
       "\n",
       "          Start_Lng  ...  SeverityRatio_City  SeverityRatio_County  \\\n",
       "0        -82.848490  ...            0.215190              0.267530   \n",
       "1        -83.019620  ...            0.215190              0.267530   \n",
       "2        -81.711522  ...            0.184287              0.196343   \n",
       "3        -81.666700  ...            0.184287              0.196343   \n",
       "4        -85.719020  ...            0.134774              0.157684   \n",
       "...             ...  ...                 ...                   ...   \n",
       "2213157 -111.006084  ...            0.005613              0.009982   \n",
       "2213158  -76.686683  ...            0.063170              0.063055   \n",
       "2213159  -80.979593  ...            0.033770              0.024339   \n",
       "2213160  -78.690847  ...            0.019512              0.024187   \n",
       "2213161  -95.424211  ...            0.070980              0.078303   \n",
       "\n",
       "         SeverityRatio_State  SeverityRatio_Road  SeverityRatio_HighWay  \\\n",
       "0                   0.182498            0.000000               0.034571   \n",
       "1                   0.182498            0.349823               0.070680   \n",
       "2                   0.182498            0.000000               0.070680   \n",
       "3                   0.182498            0.000000               0.034571   \n",
       "4                   0.177346            0.202785               0.034571   \n",
       "...                      ...                 ...                    ...   \n",
       "2213157             0.015171            0.000000               0.034571   \n",
       "2213158             0.090529            0.112832               0.034571   \n",
       "2213159             0.018754            0.000000               0.070680   \n",
       "2213160             0.071042            0.000000               0.034571   \n",
       "2213161             0.084803            0.000000               0.070680   \n",
       "\n",
       "         SeverityRatio_30days  SeverityRatio_60days  SeverityRatio_90days  \\\n",
       "0                    0.824561              0.685185              0.685185   \n",
       "1                    0.824561              0.685185              0.685185   \n",
       "2                    0.745763              0.609091              0.672727   \n",
       "3                    0.745763              0.609091              0.672727   \n",
       "4                    0.909091              0.627273              0.690909   \n",
       "...                       ...                   ...                   ...   \n",
       "2213157              0.012595              0.013865              0.014498   \n",
       "2213158              0.012595              0.013865              0.014498   \n",
       "2213159              0.012595              0.013865              0.014498   \n",
       "2213160              0.012595              0.013865              0.014498   \n",
       "2213161              0.012595              0.013865              0.014498   \n",
       "\n",
       "         DeathRate  DeathRate2  \n",
       "0             16.2         1.0  \n",
       "1             16.2         1.0  \n",
       "2             16.2         1.0  \n",
       "3             16.2         1.0  \n",
       "4             15.6         1.0  \n",
       "...            ...         ...  \n",
       "2213157       12.8         1.0  \n",
       "2213158        5.4         1.0  \n",
       "2213159       11.5         1.0  \n",
       "2213160       13.1         1.0  \n",
       "2213161        7.7         1.0  \n",
       "\n",
       "[2213162 rows x 49 columns]"
      ]
     },
     "execution_count": 19,
     "metadata": {},
     "output_type": "execute_result"
    }
   ],
   "source": [
    "data2"
   ]
  },
  {
   "cell_type": "markdown",
   "id": "d42d4b8b-d475-4c54-b4ac-03f984217725",
   "metadata": {},
   "source": [
    "# **Train-Test Split**"
   ]
  },
  {
   "cell_type": "code",
   "execution_count": 20,
   "id": "60ace198-cafa-49d5-bcf0-7a751e49fc10",
   "metadata": {},
   "outputs": [
    {
     "name": "stdout",
     "output_type": "stream",
     "text": [
      "128427\n"
     ]
    }
   ],
   "source": [
    "numSeveritySevere = sum(data2['Severity_Bisection']==1)\n",
    "print(numSeveritySevere)\n",
    "\n",
    "dataSeverityMinor = data2[data2['Severity_Bisection']==0]\n",
    "#dataSeverityMinor"
   ]
  },
  {
   "cell_type": "code",
   "execution_count": 21,
   "id": "2d944c15-63c6-4450-a1ba-c3467c34de1a",
   "metadata": {},
   "outputs": [],
   "source": [
    "dataSeverityMinorTmp = dataSeverityMinor.sample(n=numSeveritySevere, replace=True)\n",
    "dataSeveritySevere = data2[data2['Severity_Bisection']==1]"
   ]
  },
  {
   "cell_type": "code",
   "execution_count": 22,
   "id": "9e14684f-cd5e-4e01-b33d-4aa341a9da17",
   "metadata": {},
   "outputs": [
    {
     "data": {
      "text/html": [
       "<div>\n",
       "<style scoped>\n",
       "    .dataframe tbody tr th:only-of-type {\n",
       "        vertical-align: middle;\n",
       "    }\n",
       "\n",
       "    .dataframe tbody tr th {\n",
       "        vertical-align: top;\n",
       "    }\n",
       "\n",
       "    .dataframe thead th {\n",
       "        text-align: right;\n",
       "    }\n",
       "</style>\n",
       "<table border=\"1\" class=\"dataframe\">\n",
       "  <thead>\n",
       "    <tr style=\"text-align: right;\">\n",
       "      <th></th>\n",
       "      <th>Severity_Bisection</th>\n",
       "      <th>Light_le</th>\n",
       "      <th>Weekday_le</th>\n",
       "      <th>Bisection_State_le</th>\n",
       "      <th>Highway_le</th>\n",
       "      <th>Month_le</th>\n",
       "      <th>Weather_Condition_le</th>\n",
       "      <th>State_le</th>\n",
       "      <th>Start_Lat</th>\n",
       "      <th>Start_Lng</th>\n",
       "      <th>...</th>\n",
       "      <th>SeverityRatio_City</th>\n",
       "      <th>SeverityRatio_County</th>\n",
       "      <th>SeverityRatio_State</th>\n",
       "      <th>SeverityRatio_Road</th>\n",
       "      <th>SeverityRatio_HighWay</th>\n",
       "      <th>SeverityRatio_30days</th>\n",
       "      <th>SeverityRatio_60days</th>\n",
       "      <th>SeverityRatio_90days</th>\n",
       "      <th>DeathRate</th>\n",
       "      <th>DeathRate2</th>\n",
       "    </tr>\n",
       "  </thead>\n",
       "  <tbody>\n",
       "    <tr>\n",
       "      <th>2</th>\n",
       "      <td>1</td>\n",
       "      <td>2</td>\n",
       "      <td>5</td>\n",
       "      <td>0</td>\n",
       "      <td>0</td>\n",
       "      <td>7</td>\n",
       "      <td>49</td>\n",
       "      <td>33</td>\n",
       "      <td>41.474552</td>\n",
       "      <td>-81.711522</td>\n",
       "      <td>...</td>\n",
       "      <td>0.184287</td>\n",
       "      <td>0.196343</td>\n",
       "      <td>0.182498</td>\n",
       "      <td>0.000000</td>\n",
       "      <td>0.070680</td>\n",
       "      <td>0.745763</td>\n",
       "      <td>0.609091</td>\n",
       "      <td>0.672727</td>\n",
       "      <td>16.2</td>\n",
       "      <td>1.0</td>\n",
       "    </tr>\n",
       "    <tr>\n",
       "      <th>3</th>\n",
       "      <td>1</td>\n",
       "      <td>2</td>\n",
       "      <td>5</td>\n",
       "      <td>0</td>\n",
       "      <td>2</td>\n",
       "      <td>7</td>\n",
       "      <td>49</td>\n",
       "      <td>33</td>\n",
       "      <td>41.479740</td>\n",
       "      <td>-81.666700</td>\n",
       "      <td>...</td>\n",
       "      <td>0.184287</td>\n",
       "      <td>0.196343</td>\n",
       "      <td>0.182498</td>\n",
       "      <td>0.000000</td>\n",
       "      <td>0.034571</td>\n",
       "      <td>0.745763</td>\n",
       "      <td>0.609091</td>\n",
       "      <td>0.672727</td>\n",
       "      <td>16.2</td>\n",
       "      <td>1.0</td>\n",
       "    </tr>\n",
       "    <tr>\n",
       "      <th>7</th>\n",
       "      <td>1</td>\n",
       "      <td>2</td>\n",
       "      <td>3</td>\n",
       "      <td>0</td>\n",
       "      <td>0</td>\n",
       "      <td>7</td>\n",
       "      <td>57</td>\n",
       "      <td>33</td>\n",
       "      <td>41.463557</td>\n",
       "      <td>-82.053729</td>\n",
       "      <td>...</td>\n",
       "      <td>0.226721</td>\n",
       "      <td>0.411765</td>\n",
       "      <td>0.182498</td>\n",
       "      <td>0.349823</td>\n",
       "      <td>0.070680</td>\n",
       "      <td>0.851064</td>\n",
       "      <td>0.610619</td>\n",
       "      <td>0.672566</td>\n",
       "      <td>16.2</td>\n",
       "      <td>1.0</td>\n",
       "    </tr>\n",
       "    <tr>\n",
       "      <th>15</th>\n",
       "      <td>1</td>\n",
       "      <td>0</td>\n",
       "      <td>0</td>\n",
       "      <td>0</td>\n",
       "      <td>0</td>\n",
       "      <td>7</td>\n",
       "      <td>71</td>\n",
       "      <td>36</td>\n",
       "      <td>40.068590</td>\n",
       "      <td>-75.670050</td>\n",
       "      <td>...</td>\n",
       "      <td>0.107212</td>\n",
       "      <td>0.063424</td>\n",
       "      <td>0.090529</td>\n",
       "      <td>0.112832</td>\n",
       "      <td>0.070680</td>\n",
       "      <td>0.773585</td>\n",
       "      <td>0.583333</td>\n",
       "      <td>0.641667</td>\n",
       "      <td>5.4</td>\n",
       "      <td>1.0</td>\n",
       "    </tr>\n",
       "    <tr>\n",
       "      <th>18</th>\n",
       "      <td>1</td>\n",
       "      <td>1</td>\n",
       "      <td>1</td>\n",
       "      <td>0</td>\n",
       "      <td>0</td>\n",
       "      <td>7</td>\n",
       "      <td>49</td>\n",
       "      <td>5</td>\n",
       "      <td>41.106740</td>\n",
       "      <td>-73.414460</td>\n",
       "      <td>...</td>\n",
       "      <td>0.029480</td>\n",
       "      <td>0.069091</td>\n",
       "      <td>0.118682</td>\n",
       "      <td>0.000000</td>\n",
       "      <td>0.070680</td>\n",
       "      <td>1.000000</td>\n",
       "      <td>0.581967</td>\n",
       "      <td>0.639344</td>\n",
       "      <td>13.6</td>\n",
       "      <td>1.0</td>\n",
       "    </tr>\n",
       "    <tr>\n",
       "      <th>...</th>\n",
       "      <td>...</td>\n",
       "      <td>...</td>\n",
       "      <td>...</td>\n",
       "      <td>...</td>\n",
       "      <td>...</td>\n",
       "      <td>...</td>\n",
       "      <td>...</td>\n",
       "      <td>...</td>\n",
       "      <td>...</td>\n",
       "      <td>...</td>\n",
       "      <td>...</td>\n",
       "      <td>...</td>\n",
       "      <td>...</td>\n",
       "      <td>...</td>\n",
       "      <td>...</td>\n",
       "      <td>...</td>\n",
       "      <td>...</td>\n",
       "      <td>...</td>\n",
       "      <td>...</td>\n",
       "      <td>...</td>\n",
       "      <td>...</td>\n",
       "    </tr>\n",
       "    <tr>\n",
       "      <th>2212450</th>\n",
       "      <td>1</td>\n",
       "      <td>2</td>\n",
       "      <td>0</td>\n",
       "      <td>0</td>\n",
       "      <td>0</td>\n",
       "      <td>2</td>\n",
       "      <td>57</td>\n",
       "      <td>4</td>\n",
       "      <td>40.388965</td>\n",
       "      <td>-104.993525</td>\n",
       "      <td>...</td>\n",
       "      <td>0.218841</td>\n",
       "      <td>1.466960</td>\n",
       "      <td>0.900387</td>\n",
       "      <td>0.571745</td>\n",
       "      <td>0.070680</td>\n",
       "      <td>0.012595</td>\n",
       "      <td>0.013865</td>\n",
       "      <td>0.014498</td>\n",
       "      <td>7.0</td>\n",
       "      <td>1.0</td>\n",
       "    </tr>\n",
       "    <tr>\n",
       "      <th>2212574</th>\n",
       "      <td>1</td>\n",
       "      <td>2</td>\n",
       "      <td>0</td>\n",
       "      <td>0</td>\n",
       "      <td>2</td>\n",
       "      <td>2</td>\n",
       "      <td>7</td>\n",
       "      <td>36</td>\n",
       "      <td>39.931236</td>\n",
       "      <td>-76.691833</td>\n",
       "      <td>...</td>\n",
       "      <td>0.063170</td>\n",
       "      <td>0.063055</td>\n",
       "      <td>0.090529</td>\n",
       "      <td>0.112832</td>\n",
       "      <td>0.034571</td>\n",
       "      <td>0.012595</td>\n",
       "      <td>0.013865</td>\n",
       "      <td>0.014498</td>\n",
       "      <td>5.4</td>\n",
       "      <td>1.0</td>\n",
       "    </tr>\n",
       "    <tr>\n",
       "      <th>2212781</th>\n",
       "      <td>1</td>\n",
       "      <td>2</td>\n",
       "      <td>0</td>\n",
       "      <td>1</td>\n",
       "      <td>3</td>\n",
       "      <td>2</td>\n",
       "      <td>13</td>\n",
       "      <td>8</td>\n",
       "      <td>28.553184</td>\n",
       "      <td>-81.347912</td>\n",
       "      <td>...</td>\n",
       "      <td>0.016352</td>\n",
       "      <td>0.019600</td>\n",
       "      <td>0.025859</td>\n",
       "      <td>0.003349</td>\n",
       "      <td>0.000000</td>\n",
       "      <td>0.012595</td>\n",
       "      <td>0.013865</td>\n",
       "      <td>0.014498</td>\n",
       "      <td>14.0</td>\n",
       "      <td>1.0</td>\n",
       "    </tr>\n",
       "    <tr>\n",
       "      <th>2213020</th>\n",
       "      <td>1</td>\n",
       "      <td>3</td>\n",
       "      <td>0</td>\n",
       "      <td>0</td>\n",
       "      <td>3</td>\n",
       "      <td>2</td>\n",
       "      <td>13</td>\n",
       "      <td>31</td>\n",
       "      <td>39.261507</td>\n",
       "      <td>-119.582354</td>\n",
       "      <td>...</td>\n",
       "      <td>0.026095</td>\n",
       "      <td>0.072183</td>\n",
       "      <td>0.081569</td>\n",
       "      <td>0.000000</td>\n",
       "      <td>0.000000</td>\n",
       "      <td>0.012595</td>\n",
       "      <td>0.013865</td>\n",
       "      <td>0.014498</td>\n",
       "      <td>7.4</td>\n",
       "      <td>1.0</td>\n",
       "    </tr>\n",
       "    <tr>\n",
       "      <th>2213107</th>\n",
       "      <td>1</td>\n",
       "      <td>0</td>\n",
       "      <td>0</td>\n",
       "      <td>0</td>\n",
       "      <td>3</td>\n",
       "      <td>2</td>\n",
       "      <td>71</td>\n",
       "      <td>9</td>\n",
       "      <td>33.756576</td>\n",
       "      <td>-84.468437</td>\n",
       "      <td>...</td>\n",
       "      <td>0.182691</td>\n",
       "      <td>0.184334</td>\n",
       "      <td>0.244619</td>\n",
       "      <td>0.166353</td>\n",
       "      <td>0.034571</td>\n",
       "      <td>0.012595</td>\n",
       "      <td>0.013865</td>\n",
       "      <td>0.014498</td>\n",
       "      <td>7.6</td>\n",
       "      <td>1.0</td>\n",
       "    </tr>\n",
       "  </tbody>\n",
       "</table>\n",
       "<p>128427 rows × 49 columns</p>\n",
       "</div>"
      ],
      "text/plain": [
       "         Severity_Bisection  Light_le  Weekday_le  Bisection_State_le  \\\n",
       "2                         1         2           5                   0   \n",
       "3                         1         2           5                   0   \n",
       "7                         1         2           3                   0   \n",
       "15                        1         0           0                   0   \n",
       "18                        1         1           1                   0   \n",
       "...                     ...       ...         ...                 ...   \n",
       "2212450                   1         2           0                   0   \n",
       "2212574                   1         2           0                   0   \n",
       "2212781                   1         2           0                   1   \n",
       "2213020                   1         3           0                   0   \n",
       "2213107                   1         0           0                   0   \n",
       "\n",
       "         Highway_le  Month_le  Weather_Condition_le  State_le  Start_Lat  \\\n",
       "2                 0         7                    49        33  41.474552   \n",
       "3                 2         7                    49        33  41.479740   \n",
       "7                 0         7                    57        33  41.463557   \n",
       "15                0         7                    71        36  40.068590   \n",
       "18                0         7                    49         5  41.106740   \n",
       "...             ...       ...                   ...       ...        ...   \n",
       "2212450           0         2                    57         4  40.388965   \n",
       "2212574           2         2                     7        36  39.931236   \n",
       "2212781           3         2                    13         8  28.553184   \n",
       "2213020           3         2                    13        31  39.261507   \n",
       "2213107           3         2                    71         9  33.756576   \n",
       "\n",
       "          Start_Lng  ...  SeverityRatio_City  SeverityRatio_County  \\\n",
       "2        -81.711522  ...            0.184287              0.196343   \n",
       "3        -81.666700  ...            0.184287              0.196343   \n",
       "7        -82.053729  ...            0.226721              0.411765   \n",
       "15       -75.670050  ...            0.107212              0.063424   \n",
       "18       -73.414460  ...            0.029480              0.069091   \n",
       "...             ...  ...                 ...                   ...   \n",
       "2212450 -104.993525  ...            0.218841              1.466960   \n",
       "2212574  -76.691833  ...            0.063170              0.063055   \n",
       "2212781  -81.347912  ...            0.016352              0.019600   \n",
       "2213020 -119.582354  ...            0.026095              0.072183   \n",
       "2213107  -84.468437  ...            0.182691              0.184334   \n",
       "\n",
       "         SeverityRatio_State  SeverityRatio_Road  SeverityRatio_HighWay  \\\n",
       "2                   0.182498            0.000000               0.070680   \n",
       "3                   0.182498            0.000000               0.034571   \n",
       "7                   0.182498            0.349823               0.070680   \n",
       "15                  0.090529            0.112832               0.070680   \n",
       "18                  0.118682            0.000000               0.070680   \n",
       "...                      ...                 ...                    ...   \n",
       "2212450             0.900387            0.571745               0.070680   \n",
       "2212574             0.090529            0.112832               0.034571   \n",
       "2212781             0.025859            0.003349               0.000000   \n",
       "2213020             0.081569            0.000000               0.000000   \n",
       "2213107             0.244619            0.166353               0.034571   \n",
       "\n",
       "         SeverityRatio_30days  SeverityRatio_60days  SeverityRatio_90days  \\\n",
       "2                    0.745763              0.609091              0.672727   \n",
       "3                    0.745763              0.609091              0.672727   \n",
       "7                    0.851064              0.610619              0.672566   \n",
       "15                   0.773585              0.583333              0.641667   \n",
       "18                   1.000000              0.581967              0.639344   \n",
       "...                       ...                   ...                   ...   \n",
       "2212450              0.012595              0.013865              0.014498   \n",
       "2212574              0.012595              0.013865              0.014498   \n",
       "2212781              0.012595              0.013865              0.014498   \n",
       "2213020              0.012595              0.013865              0.014498   \n",
       "2213107              0.012595              0.013865              0.014498   \n",
       "\n",
       "         DeathRate  DeathRate2  \n",
       "2             16.2         1.0  \n",
       "3             16.2         1.0  \n",
       "7             16.2         1.0  \n",
       "15             5.4         1.0  \n",
       "18            13.6         1.0  \n",
       "...            ...         ...  \n",
       "2212450        7.0         1.0  \n",
       "2212574        5.4         1.0  \n",
       "2212781       14.0         1.0  \n",
       "2213020        7.4         1.0  \n",
       "2213107        7.6         1.0  \n",
       "\n",
       "[128427 rows x 49 columns]"
      ]
     },
     "execution_count": 22,
     "metadata": {},
     "output_type": "execute_result"
    }
   ],
   "source": [
    "dataSeveritySevere"
   ]
  },
  {
   "cell_type": "code",
   "execution_count": 23,
   "id": "840ce1d9-5326-4bab-8b42-d8b5a16d214e",
   "metadata": {},
   "outputs": [],
   "source": [
    "data3 = pd.concat([dataSeverityMinorTmp, dataSeveritySevere])\n",
    "data3 = data3.reset_index(drop=True)"
   ]
  },
  {
   "cell_type": "code",
   "execution_count": 24,
   "id": "3c61c399-a362-4c26-9d0f-1a8456223a32",
   "metadata": {},
   "outputs": [
    {
     "data": {
      "text/plain": [
       "['Severity_Bisection',\n",
       " 'Light_le',\n",
       " 'Weekday_le',\n",
       " 'Bisection_State_le',\n",
       " 'Highway_le',\n",
       " 'Month_le',\n",
       " 'Weather_Condition_le',\n",
       " 'State_le',\n",
       " 'Start_Lat',\n",
       " 'Start_Lng',\n",
       " 'Temperature(F)',\n",
       " 'Wind_Chill(F)',\n",
       " 'Humidity(%)',\n",
       " 'Pressure(in)',\n",
       " 'Visibility(mi)',\n",
       " 'Wind_Speed(mph)',\n",
       " 'Precipitation(in)',\n",
       " 'Side',\n",
       " 'Bisection_WeatherCondition',\n",
       " 'Visibility_Bisection',\n",
       " 'Bisection_City',\n",
       " 'Bisection_County',\n",
       " 'Amenity',\n",
       " 'Bump',\n",
       " 'Crossing',\n",
       " 'Give_Way',\n",
       " 'Junction',\n",
       " 'No_Exit',\n",
       " 'Railway',\n",
       " 'Roundabout',\n",
       " 'Station',\n",
       " 'Stop',\n",
       " 'Traffic_Calming',\n",
       " 'Traffic_Signal',\n",
       " 'SeverityRatio_Weekday',\n",
       " 'SeverityRatio_Month',\n",
       " 'SeverityRatio_Light',\n",
       " 'SeverityRatio_WeatherCondition',\n",
       " 'SeverityRatio_Visibility',\n",
       " 'SeverityRatio_City',\n",
       " 'SeverityRatio_County',\n",
       " 'SeverityRatio_State',\n",
       " 'SeverityRatio_Road',\n",
       " 'SeverityRatio_HighWay',\n",
       " 'SeverityRatio_30days',\n",
       " 'SeverityRatio_60days',\n",
       " 'SeverityRatio_90days',\n",
       " 'DeathRate',\n",
       " 'DeathRate2']"
      ]
     },
     "execution_count": 24,
     "metadata": {},
     "output_type": "execute_result"
    }
   ],
   "source": [
    "data3.columns.to_list()"
   ]
  },
  {
   "cell_type": "code",
   "execution_count": 25,
   "id": "62bd341c-17b4-47e7-b2c5-bf6a65769ce7",
   "metadata": {},
   "outputs": [],
   "source": [
    "labels = data3['Severity_Bisection']\n",
    "data3 = data3.drop(['Severity_Bisection'], axis=1)\n",
    "\n",
    "from sklearn.model_selection import train_test_split\n",
    "X_train, X_test, y_train, y_test = train_test_split(data3, labels,test_size=0.2, random_state=100)"
   ]
  },
  {
   "cell_type": "code",
   "execution_count": 26,
   "id": "e2610cf3-8027-4119-b25b-b003804c8623",
   "metadata": {},
   "outputs": [
    {
     "name": "stdout",
     "output_type": "stream",
     "text": [
      "<class 'pandas.core.frame.DataFrame'>\n",
      "RangeIndex: 256854 entries, 0 to 256853\n",
      "Data columns (total 48 columns):\n",
      " #   Column                          Non-Null Count   Dtype  \n",
      "---  ------                          --------------   -----  \n",
      " 0   Light_le                        256854 non-null  int64  \n",
      " 1   Weekday_le                      256854 non-null  int64  \n",
      " 2   Bisection_State_le              256854 non-null  int64  \n",
      " 3   Highway_le                      256854 non-null  int64  \n",
      " 4   Month_le                        256854 non-null  int64  \n",
      " 5   Weather_Condition_le            256854 non-null  int64  \n",
      " 6   State_le                        256854 non-null  int64  \n",
      " 7   Start_Lat                       256854 non-null  float64\n",
      " 8   Start_Lng                       256854 non-null  float64\n",
      " 9   Temperature(F)                  256854 non-null  float64\n",
      " 10  Wind_Chill(F)                   256854 non-null  float64\n",
      " 11  Humidity(%)                     256854 non-null  float64\n",
      " 12  Pressure(in)                    256854 non-null  float64\n",
      " 13  Visibility(mi)                  256854 non-null  float64\n",
      " 14  Wind_Speed(mph)                 256854 non-null  float64\n",
      " 15  Precipitation(in)               256854 non-null  float64\n",
      " 16  Side                            256854 non-null  int64  \n",
      " 17  Bisection_WeatherCondition      256854 non-null  int64  \n",
      " 18  Visibility_Bisection            256854 non-null  int64  \n",
      " 19  Bisection_City                  256854 non-null  int64  \n",
      " 20  Bisection_County                256854 non-null  int64  \n",
      " 21  Amenity                         256854 non-null  int64  \n",
      " 22  Bump                            256854 non-null  int64  \n",
      " 23  Crossing                        256854 non-null  int64  \n",
      " 24  Give_Way                        256854 non-null  int64  \n",
      " 25  Junction                        256854 non-null  int64  \n",
      " 26  No_Exit                         256854 non-null  int64  \n",
      " 27  Railway                         256854 non-null  int64  \n",
      " 28  Roundabout                      256854 non-null  int64  \n",
      " 29  Station                         256854 non-null  int64  \n",
      " 30  Stop                            256854 non-null  int64  \n",
      " 31  Traffic_Calming                 256854 non-null  int64  \n",
      " 32  Traffic_Signal                  256854 non-null  int64  \n",
      " 33  SeverityRatio_Weekday           256854 non-null  float64\n",
      " 34  SeverityRatio_Month             256854 non-null  float64\n",
      " 35  SeverityRatio_Light             256854 non-null  float64\n",
      " 36  SeverityRatio_WeatherCondition  256854 non-null  float64\n",
      " 37  SeverityRatio_Visibility        256854 non-null  float64\n",
      " 38  SeverityRatio_City              256854 non-null  float64\n",
      " 39  SeverityRatio_County            256854 non-null  float64\n",
      " 40  SeverityRatio_State             256854 non-null  float64\n",
      " 41  SeverityRatio_Road              256854 non-null  float64\n",
      " 42  SeverityRatio_HighWay           256854 non-null  float64\n",
      " 43  SeverityRatio_30days            256854 non-null  float64\n",
      " 44  SeverityRatio_60days            256854 non-null  float64\n",
      " 45  SeverityRatio_90days            256854 non-null  float64\n",
      " 46  DeathRate                       256854 non-null  float64\n",
      " 47  DeathRate2                      256854 non-null  float64\n",
      "dtypes: float64(24), int64(24)\n",
      "memory usage: 94.1 MB\n"
     ]
    }
   ],
   "source": [
    "data3.info()"
   ]
  },
  {
   "cell_type": "markdown",
   "id": "ee8a40c2-615d-482f-9b4e-fa08d32b1f7f",
   "metadata": {
    "id": "lXJtTMQrhzXv"
   },
   "source": [
    "# **XGBOOST**"
   ]
  },
  {
   "cell_type": "code",
   "execution_count": 27,
   "id": "431c705b-5d8f-4403-a4e3-db70d74133d1",
   "metadata": {
    "id": "9mWhXbTv0SLR"
   },
   "outputs": [
    {
     "name": "stderr",
     "output_type": "stream",
     "text": [
      "/home/kiwi/anaconda3/envs/tcfst/lib/python3.9/site-packages/xgboost/compat.py:36: FutureWarning: pandas.Int64Index is deprecated and will be removed from pandas in a future version. Use pandas.Index with the appropriate dtype instead.\n",
      "  from pandas import MultiIndex, Int64Index\n"
     ]
    }
   ],
   "source": [
    "from xgboost.sklearn import XGBClassifier\n",
    "xgbc = XGBClassifier(        \n",
    "        n_estimators=100,     #樹的個數\n",
    "        learning_rate= 0.1,    # 如同學習率 \n",
    "        max_depth=20,       # 構建樹的深度，越大越容易過擬合    \n",
    "        subsample=1,         # 隨機取樣訓練樣本 訓練例項的子取樣比\n",
    "        gamma=0,         # 用於控制是否後剪枝的引數,越大越保守，一般0.1、0.2這樣子\n",
    "        reg_lambda=2,#0.8,   #1       # 控制模型複雜度的權重值的L2正則化項引數，引數越大，模型越不容易過擬合。\n",
    "        max_delta_step=0,        #最大增量步長，我們允許每個樹的權重估計。\n",
    "        colsample_bytree=1,         # 生成樹時進行的列取樣 \n",
    "        min_child_weight=0.01, \n",
    "                     # 這個引數預設是 1，是每個葉子裡面 h 的和至少是多少，對正負樣本不均衡時的 0-1 分類而言\n",
    "                     # 假設 h 在 0.01 附近，min_child_weight 為 1 意味著葉子節點中最少需要包含 100 個樣本。\n",
    "                     #這個引數非常影響結果，控制葉142子節點中二階導的和的最小值，該引數值越小，越容易 overfitting。\n",
    "        seed=999,   #隨機種子\n",
    "#        reg_alpha=0,        # L1 正則項引數\n",
    "        #scale_pos_weight=1,        #如果取值大於0的話，在類別樣本不平衡的情況下有助於快速收斂。平衡正負權重\n",
    "        #objective= 'multi:softmax',         #多分類的問題 指定學習任務和相應的學習目標\n",
    "        #num_class=10,        # 類別數，多分類與 multisoftmax 並用\n",
    "#        silent=0 ,        # 設定成1則沒有執行資訊輸出，最好是設定為0.是否在執行升級時列印訊息。\n",
    "#        nthread=4,        # cpu 執行緒數 預設最大\n",
    "        #eval_metric= 'auc'\n",
    ")\n"
   ]
  },
  {
   "cell_type": "code",
   "execution_count": 28,
   "id": "a7c0e298-d6d2-48e8-b83f-e679b9a91d07",
   "metadata": {
    "id": "KEzt-No4elyX"
   },
   "outputs": [
    {
     "name": "stderr",
     "output_type": "stream",
     "text": [
      "/home/kiwi/anaconda3/envs/tcfst/lib/python3.9/site-packages/xgboost/sklearn.py:1224: UserWarning: The use of label encoder in XGBClassifier is deprecated and will be removed in a future release. To remove this warning, do the following: 1) Pass option use_label_encoder=False when constructing XGBClassifier object; and 2) Encode your labels (y) as integers starting with 0, i.e. 0, 1, 2, ..., [num_class - 1].\n",
      "  warnings.warn(label_encoder_deprecation_msg, UserWarning)\n",
      "/home/kiwi/anaconda3/envs/tcfst/lib/python3.9/site-packages/xgboost/data.py:250: FutureWarning: pandas.Int64Index is deprecated and will be removed from pandas in a future version. Use pandas.Index with the appropriate dtype instead.\n",
      "  elif isinstance(data.columns, (pd.Int64Index, pd.RangeIndex)):\n"
     ]
    },
    {
     "name": "stdout",
     "output_type": "stream",
     "text": [
      "[22:13:32] WARNING: ../src/learner.cc:1115: Starting in XGBoost 1.3.0, the default evaluation metric used with the objective 'binary:logistic' was changed from 'error' to 'logloss'. Explicitly set eval_metric if you'd like to restore the old behavior.\n",
      "[1 0 1 ... 0 0 0]\n"
     ]
    }
   ],
   "source": [
    "xgbc.fit(X_train, y_train)\n",
    "XGB_pred=xgbc.predict(X_test)\n",
    "print(XGB_pred)"
   ]
  },
  {
   "cell_type": "code",
   "execution_count": 29,
   "id": "9632903a-7cf3-466b-981a-5e2a5c9b63ed",
   "metadata": {
    "id": "ZeFNmBUR8WF-"
   },
   "outputs": [
    {
     "name": "stdout",
     "output_type": "stream",
     "text": [
      "0.9971481825747142\n"
     ]
    }
   ],
   "source": [
    "XGBtrain_score=xgbc.score(X_train, y_train)\n",
    "print(XGBtrain_score)"
   ]
  },
  {
   "cell_type": "code",
   "execution_count": 30,
   "id": "59950539-af94-45e3-ba53-f9b2eb56019e",
   "metadata": {
    "id": "Jhpa7pWeZibb"
   },
   "outputs": [
    {
     "name": "stdout",
     "output_type": "stream",
     "text": [
      "The Accuracy of XGBOOST Classifier on testing set: 0.9105331801989449\n"
     ]
    }
   ],
   "source": [
    "XGBtest_score=xgbc.score(X_test,y_test)\n",
    "print('The Accuracy of XGBOOST Classifier on testing set:', XGBtest_score)"
   ]
  },
  {
   "cell_type": "code",
   "execution_count": 31,
   "id": "49de2538-306d-4907-b072-d97850efc133",
   "metadata": {
    "id": "FRcF2ZTJZipJ"
   },
   "outputs": [
    {
     "name": "stdout",
     "output_type": "stream",
     "text": [
      "              precision    recall  f1-score   support\n",
      "\n",
      "           0       0.92      0.90      0.91     25710\n",
      "           1       0.90      0.92      0.91     25661\n",
      "\n",
      "    accuracy                           0.91     51371\n",
      "   macro avg       0.91      0.91      0.91     51371\n",
      "weighted avg       0.91      0.91      0.91     51371\n",
      "\n",
      "[[23082  2628]\n",
      " [ 1968 23693]]\n"
     ]
    }
   ],
   "source": [
    "from sklearn.metrics import classification_report, confusion_matrix\n",
    "\n",
    "print(classification_report(y_test,XGB_pred))\n",
    "print(confusion_matrix(y_test,XGB_pred))"
   ]
  },
  {
   "cell_type": "markdown",
   "id": "5b696674-6a17-4921-bc45-f1d30f334060",
   "metadata": {
    "id": "iMmxJNQVp3u8"
   },
   "source": [
    "# C4.5 - CART"
   ]
  },
  {
   "cell_type": "code",
   "execution_count": 32,
   "id": "b71ae999-694d-490d-b4de-c76a25a7eb0a",
   "metadata": {
    "id": "JQBjpfWVUZgi"
   },
   "outputs": [],
   "source": [
    "from sklearn.tree import DecisionTreeClassifier # Import Decision Tree Classifier\n",
    "from sklearn import metrics #Import scikit-learn metrics module for accuracy calculation"
   ]
  },
  {
   "cell_type": "code",
   "execution_count": 33,
   "id": "b24ab217-0635-47bc-9e52-3889c804dc41",
   "metadata": {
    "id": "xRymVwyUp9dz"
   },
   "outputs": [
    {
     "name": "stdout",
     "output_type": "stream",
     "text": [
      "[1 0 1 ... 0 0 0]\n"
     ]
    }
   ],
   "source": [
    "# Create Decision Tree classifer object\n",
    "# max_depth=5,min_samples_leaf=20 決定修剪的Threshole\n",
    "CartC45 = DecisionTreeClassifier(criterion=\"gini\",max_depth=5,min_samples_leaf=20)  #CART-->gini c4.5-->entropy min_samples_leaf=20, max_depth=4\n",
    "\n",
    "# Train Decision Tree Classifer\n",
    "CartC45.fit(X_train,y_train)\n",
    "CartC45_pred =CartC45.predict(X_test)\n",
    "print(CartC45_pred)"
   ]
  },
  {
   "cell_type": "code",
   "execution_count": 34,
   "id": "c3ace746-4722-4244-9851-b52b89db2e85",
   "metadata": {
    "id": "8r8PUEVZcXUZ"
   },
   "outputs": [
    {
     "name": "stdout",
     "output_type": "stream",
     "text": [
      "192673    1\n",
      "113802    0\n",
      "237216    1\n",
      "28345     0\n",
      "242396    1\n",
      "         ..\n",
      "163278    1\n",
      "54428     0\n",
      "34676     0\n",
      "101953    0\n",
      "245346    1\n",
      "Name: Severity_Bisection, Length: 51371, dtype: int64\n"
     ]
    }
   ],
   "source": [
    "print(y_test)"
   ]
  },
  {
   "cell_type": "code",
   "execution_count": 35,
   "id": "8dcb45a9-7d4b-47d9-9c4e-17e3674b391f",
   "metadata": {
    "id": "Xl8lAsadp9mE"
   },
   "outputs": [
    {
     "name": "stdout",
     "output_type": "stream",
     "text": [
      "0.8838541387852037\n"
     ]
    }
   ],
   "source": [
    "CartC45train_score=CartC45.score(X_train, y_train)\n",
    "print(CartC45train_score)"
   ]
  },
  {
   "cell_type": "code",
   "execution_count": 36,
   "id": "0bf44745-a915-4a52-99ca-38e4330173a6",
   "metadata": {
    "id": "RF8C2Jaxp9sH"
   },
   "outputs": [
    {
     "name": "stdout",
     "output_type": "stream",
     "text": [
      "The Accuracy of CART/C4.5 Classifier on testing set: 0.882268205797045\n"
     ]
    }
   ],
   "source": [
    "CartC45test_score=CartC45.score(X_test,y_test)\n",
    "print('The Accuracy of CART/C4.5 Classifier on testing set:', CartC45test_score)"
   ]
  },
  {
   "cell_type": "code",
   "execution_count": 37,
   "id": "bc5605e9-57a4-4388-8073-177323c7f8fe",
   "metadata": {
    "id": "CngRuVz3Zq0F"
   },
   "outputs": [
    {
     "name": "stdout",
     "output_type": "stream",
     "text": [
      "              precision    recall  f1-score   support\n",
      "\n",
      "           0       0.90      0.86      0.88     25710\n",
      "           1       0.87      0.90      0.88     25661\n",
      "\n",
      "    accuracy                           0.88     51371\n",
      "   macro avg       0.88      0.88      0.88     51371\n",
      "weighted avg       0.88      0.88      0.88     51371\n",
      "\n",
      "[[22174  3536]\n",
      " [ 2512 23149]]\n"
     ]
    }
   ],
   "source": [
    "print(classification_report(y_test,CartC45_pred))\n",
    "print(confusion_matrix(y_test,CartC45_pred))"
   ]
  },
  {
   "cell_type": "code",
   "execution_count": null,
   "id": "d9aeab66-36b4-4e9f-a54a-dfd18b69bad2",
   "metadata": {},
   "outputs": [],
   "source": []
  },
  {
   "cell_type": "markdown",
   "id": "87585f43-4741-4adf-8bad-15ad4a622da6",
   "metadata": {
    "id": "vi9JghP-UZ-5"
   },
   "source": [
    "# ExtraTrees"
   ]
  },
  {
   "cell_type": "code",
   "execution_count": 38,
   "id": "c196ed2f-4901-4661-805c-0bc574359e06",
   "metadata": {
    "id": "IWlQ-5Gg3sb1"
   },
   "outputs": [],
   "source": [
    "from sklearn.ensemble import ExtraTreesClassifier\n",
    "ETreec = ExtraTreesClassifier(max_depth=30,n_estimators=10,criterion='gini')"
   ]
  },
  {
   "cell_type": "code",
   "execution_count": 39,
   "id": "0620f905-575c-48af-a2fd-2d770c95f7e0",
   "metadata": {
    "id": "sDA63tHRUndW"
   },
   "outputs": [
    {
     "name": "stdout",
     "output_type": "stream",
     "text": [
      "[1 0 1 ... 0 0 0]\n"
     ]
    }
   ],
   "source": [
    "ETreec.fit(X_train, y_train)\n",
    "ETree_pred=ETreec.predict(X_test)\n",
    "print(ETree_pred)"
   ]
  },
  {
   "cell_type": "code",
   "execution_count": 40,
   "id": "2b99ba0f-df32-4429-b118-7e57e6b0171a",
   "metadata": {
    "id": "RMNwnXp8UnhE"
   },
   "outputs": [
    {
     "name": "stdout",
     "output_type": "stream",
     "text": [
      "0.994666225429841\n"
     ]
    }
   ],
   "source": [
    "ETreetrain_score=ETreec.score(X_train, y_train)\n",
    "print(ETreetrain_score)"
   ]
  },
  {
   "cell_type": "code",
   "execution_count": 41,
   "id": "2500d6a2-112f-4dab-98b4-070c514d7894",
   "metadata": {
    "id": "FXule039UnlC"
   },
   "outputs": [
    {
     "name": "stdout",
     "output_type": "stream",
     "text": [
      "The Accuracy of ExtraTrees Classifier on testing set: 0.9007611298203266\n"
     ]
    }
   ],
   "source": [
    "ETreetest_score=ETreec.score(X_test,y_test)\n",
    "print('The Accuracy of ExtraTrees Classifier on testing set:', ETreetest_score)\n"
   ]
  },
  {
   "cell_type": "code",
   "execution_count": 42,
   "id": "9e79f8e8-0f7b-4ec4-9a3a-dbd9bc432a64",
   "metadata": {
    "id": "yge1ZrUFUnsu"
   },
   "outputs": [
    {
     "name": "stdout",
     "output_type": "stream",
     "text": [
      "              precision    recall  f1-score   support\n",
      "\n",
      "           0       0.90      0.90      0.90     25710\n",
      "           1       0.90      0.91      0.90     25661\n",
      "\n",
      "    accuracy                           0.90     51371\n",
      "   macro avg       0.90      0.90      0.90     51371\n",
      "weighted avg       0.90      0.90      0.90     51371\n",
      "\n",
      "[[23045  2665]\n",
      " [ 2433 23228]]\n"
     ]
    }
   ],
   "source": [
    "print(classification_report(y_test,ETree_pred))\n",
    "print(confusion_matrix(y_test,ETree_pred))"
   ]
  },
  {
   "cell_type": "markdown",
   "id": "e68dbacb-5b8e-48dc-ad84-d9df2dfd3634",
   "metadata": {
    "id": "PRJ4SVNShmI_"
   },
   "source": [
    "# RandomForest"
   ]
  },
  {
   "cell_type": "code",
   "execution_count": 43,
   "id": "58c56475-e644-4ef9-bc30-693e6d8440d4",
   "metadata": {
    "id": "2bCS01x077oZ"
   },
   "outputs": [],
   "source": [
    "from sklearn.ensemble import RandomForestClassifier\n",
    "rfc=RandomForestClassifier(bootstrap=True, ccp_alpha=0.0, class_weight=None,\n",
    "                       criterion='gini', max_depth=None, max_features='auto',\n",
    "                       max_leaf_nodes=None, max_samples=None,\n",
    "                       min_impurity_decrease=0.0, \n",
    "                       min_samples_leaf=40, min_samples_split=2,\n",
    "                       min_weight_fraction_leaf=0.0, n_estimators=1000,\n",
    "                       n_jobs=None, oob_score=False, random_state=None,\n",
    "                       verbose=0, warm_start=False)\n",
    "#rfc=RandomForestClassifier()#使用預設直"
   ]
  },
  {
   "cell_type": "code",
   "execution_count": 44,
   "id": "9da06eed-7f55-4b63-a87a-30e2a33bed99",
   "metadata": {
    "id": "axe_ATKI3sB5"
   },
   "outputs": [
    {
     "name": "stdout",
     "output_type": "stream",
     "text": [
      "[1 0 1 ... 0 0 0]\n"
     ]
    }
   ],
   "source": [
    "rfc.fit(X_train, y_train)\n",
    "RF_pred=rfc.predict(X_test)\n",
    "print(RF_pred)"
   ]
  },
  {
   "cell_type": "code",
   "execution_count": 45,
   "id": "d5d0acf0-f8af-4767-b814-4ba33f55ef7d",
   "metadata": {
    "id": "r6LDe3Ft6-ET"
   },
   "outputs": [
    {
     "name": "stdout",
     "output_type": "stream",
     "text": [
      "0.9015490332533591\n"
     ]
    }
   ],
   "source": [
    "RFtrain_score=rfc.score(X_train, y_train)\n",
    "print(RFtrain_score)"
   ]
  },
  {
   "cell_type": "code",
   "execution_count": 46,
   "id": "68e25f4c-8852-49cc-9a81-441e288b0e43",
   "metadata": {
    "id": "NvJc3m5k3sLQ"
   },
   "outputs": [
    {
     "name": "stdout",
     "output_type": "stream",
     "text": [
      "The Accuracy of RandomForest Classifier on testing set: 0.8979385256272995\n"
     ]
    }
   ],
   "source": [
    "RFtest_score=rfc.score(X_test,y_test)\n",
    "print('The Accuracy of RandomForest Classifier on testing set:', RFtest_score)"
   ]
  },
  {
   "cell_type": "code",
   "execution_count": 47,
   "id": "b444c26f-d94d-4ce1-a78a-d1b4bc9ec3f4",
   "metadata": {
    "id": "iO5IGAIzKgx_"
   },
   "outputs": [
    {
     "name": "stdout",
     "output_type": "stream",
     "text": [
      "              precision    recall  f1-score   support\n",
      "\n",
      "           0       0.91      0.88      0.90     25710\n",
      "           1       0.89      0.91      0.90     25661\n",
      "\n",
      "    accuracy                           0.90     51371\n",
      "   macro avg       0.90      0.90      0.90     51371\n",
      "weighted avg       0.90      0.90      0.90     51371\n",
      "\n",
      "[[22662  3048]\n",
      " [ 2195 23466]]\n"
     ]
    }
   ],
   "source": [
    "print(classification_report(y_test,RF_pred))\n",
    "print(confusion_matrix(y_test,RF_pred))"
   ]
  },
  {
   "cell_type": "code",
   "execution_count": null,
   "id": "462184f7-e658-429f-9945-af4bc81621ea",
   "metadata": {
    "id": "Gn-ENaLXKg3d"
   },
   "outputs": [],
   "source": []
  },
  {
   "cell_type": "code",
   "execution_count": null,
   "id": "b6570ffc-5c93-42a0-a820-047beeef99ee",
   "metadata": {
    "id": "KAjaW5b8Kg7b"
   },
   "outputs": [],
   "source": []
  },
  {
   "cell_type": "markdown",
   "id": "57ed87c1-760e-40a5-9ced-ab8a7882698d",
   "metadata": {
    "id": "vVnSFYMpW2sE"
   },
   "source": [
    "# AdaBoost"
   ]
  },
  {
   "cell_type": "code",
   "execution_count": 48,
   "id": "7c2ecd33-7e0e-4ddf-ba49-92560288f437",
   "metadata": {
    "id": "R4fyrXviUnwM"
   },
   "outputs": [],
   "source": [
    "from sklearn.ensemble import AdaBoostClassifier#若為數值要改成  AdaBoostregressor\n",
    "AdaBoostc = AdaBoostClassifier(random_state=0)"
   ]
  },
  {
   "cell_type": "code",
   "execution_count": 49,
   "id": "0abe3496-25f7-4b7a-a0d4-b41db8a6a662",
   "metadata": {
    "id": "z3tar0i3W4Ro"
   },
   "outputs": [
    {
     "name": "stdout",
     "output_type": "stream",
     "text": [
      "[1 0 1 ... 0 0 0]\n"
     ]
    }
   ],
   "source": [
    "AdaBoostc.fit(X_train, y_train)\n",
    "AdaBoostc_pred=AdaBoostc.predict(X_test)\n",
    "print(AdaBoostc_pred)"
   ]
  },
  {
   "cell_type": "code",
   "execution_count": 50,
   "id": "f9986c28-fb7e-4f47-9ab3-19e4f79cce0b",
   "metadata": {
    "id": "qEeojyCkW4Vw"
   },
   "outputs": [
    {
     "name": "stdout",
     "output_type": "stream",
     "text": [
      "0.877347517799526\n"
     ]
    }
   ],
   "source": [
    "AdaBoosttrain_score=AdaBoostc.score(X_train, y_train)\n",
    "print(AdaBoosttrain_score)"
   ]
  },
  {
   "cell_type": "code",
   "execution_count": 51,
   "id": "6c3a1830-fadd-4aeb-84ab-75065d893aa0",
   "metadata": {
    "id": "mNdyrcBhW4c_"
   },
   "outputs": [
    {
     "name": "stdout",
     "output_type": "stream",
     "text": [
      "The Accuracy of AdaBoost Classifier on testing set: 0.8787642833505285\n"
     ]
    }
   ],
   "source": [
    "AdaBoosttest_score=AdaBoostc.score(X_test,y_test)\n",
    "print('The Accuracy of AdaBoost Classifier on testing set:', AdaBoosttest_score)"
   ]
  },
  {
   "cell_type": "code",
   "execution_count": 52,
   "id": "9dae4c50-953e-459d-bf53-799c7ed71f54",
   "metadata": {
    "id": "7vXP8772W4g0"
   },
   "outputs": [
    {
     "name": "stdout",
     "output_type": "stream",
     "text": [
      "              precision    recall  f1-score   support\n",
      "\n",
      "           0       0.88      0.87      0.88     25710\n",
      "           1       0.87      0.88      0.88     25661\n",
      "\n",
      "    accuracy                           0.88     51371\n",
      "   macro avg       0.88      0.88      0.88     51371\n",
      "weighted avg       0.88      0.88      0.88     51371\n",
      "\n",
      "[[22458  3252]\n",
      " [ 2976 22685]]\n"
     ]
    }
   ],
   "source": [
    "print(classification_report(y_test,AdaBoostc_pred))\n",
    "print(confusion_matrix(y_test,AdaBoostc_pred))"
   ]
  },
  {
   "cell_type": "markdown",
   "id": "7d211cae-91ac-4602-b984-4965b27dc8ac",
   "metadata": {
    "id": "xmSTHCfJhSoH"
   },
   "source": [
    "# **LightGBM**"
   ]
  },
  {
   "cell_type": "code",
   "execution_count": 53,
   "id": "e4237656-17ae-4354-a457-207b7b223d12",
   "metadata": {
    "id": "oiSDE7IvTHSA"
   },
   "outputs": [],
   "source": [
    "import numpy as np\n",
    "import pandas as pd\n",
    "import lightgbm as lgb\n",
    "from sklearn.preprocessing import LabelBinarizer\n"
   ]
  },
  {
   "cell_type": "code",
   "execution_count": 54,
   "id": "87ad432d-1567-4aa1-a1c9-f966fc68f761",
   "metadata": {
    "id": "V2IwFi-qhCyf"
   },
   "outputs": [],
   "source": [
    "import lightgbm as lgb\n",
    "lgbmc = lgb.LGBMClassifier()\n"
   ]
  },
  {
   "cell_type": "code",
   "execution_count": 55,
   "id": "55263eb0-ee55-496e-864f-752aebd2e749",
   "metadata": {
    "id": "UkUi3RL-wpJ-"
   },
   "outputs": [
    {
     "name": "stdout",
     "output_type": "stream",
     "text": [
      "[1 0 1 ... 0 0 0]\n"
     ]
    }
   ],
   "source": [
    "lgbmc.fit(X_train, y_train)\n",
    "LGBM_pred=lgbmc.predict(X_test)\n",
    "print(LGBM_pred)"
   ]
  },
  {
   "cell_type": "code",
   "execution_count": 56,
   "id": "0b65abca-36ed-4b31-84cd-cc286e741ea8",
   "metadata": {
    "id": "rFv0BNYvhC66"
   },
   "outputs": [
    {
     "name": "stdout",
     "output_type": "stream",
     "text": [
      "0.9002399225240044\n"
     ]
    }
   ],
   "source": [
    "LGBMtrain_score=lgbmc.score(X_train, y_train)\n",
    "print(LGBMtrain_score)"
   ]
  },
  {
   "cell_type": "code",
   "execution_count": 57,
   "id": "03ea6266-98f7-4938-a017-2852c7a9014e",
   "metadata": {
    "id": "CydScMUBimwa"
   },
   "outputs": [
    {
     "name": "stdout",
     "output_type": "stream",
     "text": [
      "The Accuracy of LightGBM Classifier on testing set: 0.8981331879854393\n"
     ]
    }
   ],
   "source": [
    "LGBMtest_score=lgbmc.score(X_test,y_test)\n",
    "print('The Accuracy of LightGBM Classifier on testing set:', LGBMtest_score)"
   ]
  },
  {
   "cell_type": "code",
   "execution_count": 58,
   "id": "61d7d8b5-cad2-4010-8207-f0ba91f0fff2",
   "metadata": {
    "id": "SRX5a3LxhC2a"
   },
   "outputs": [
    {
     "name": "stdout",
     "output_type": "stream",
     "text": [
      "              precision    recall  f1-score   support\n",
      "\n",
      "           0       0.91      0.88      0.90     25710\n",
      "           1       0.88      0.92      0.90     25661\n",
      "\n",
      "    accuracy                           0.90     51371\n",
      "   macro avg       0.90      0.90      0.90     51371\n",
      "weighted avg       0.90      0.90      0.90     51371\n",
      "\n",
      "[[22651  3059]\n",
      " [ 2174 23487]]\n"
     ]
    }
   ],
   "source": [
    "print(classification_report(y_test,LGBM_pred))\n",
    "print(confusion_matrix(y_test,LGBM_pred))"
   ]
  },
  {
   "cell_type": "markdown",
   "id": "2380cb65-e1f6-429f-9dd2-9a5bebb41a2b",
   "metadata": {
    "id": "UMB7N52IinGY"
   },
   "source": [
    "# ***CatBOOST***\n",
    "\n"
   ]
  },
  {
   "cell_type": "code",
   "execution_count": 59,
   "id": "4136e943-22c4-4749-82eb-9ea807fa49cc",
   "metadata": {
    "id": "bnUt2_3ZjZra"
   },
   "outputs": [
    {
     "name": "stdout",
     "output_type": "stream",
     "text": [
      "Enabling notebook extension jupyter-js-widgets/extension...\n",
      "      - Validating: \u001b[32mOK\u001b[0m\n"
     ]
    }
   ],
   "source": [
    "# !pip install catboost\n",
    "# !pip install ipywidgets\n",
    "!jupyter nbextension enable --py widgetsnbextension"
   ]
  },
  {
   "cell_type": "code",
   "execution_count": 60,
   "id": "68e4f041-76ad-4d95-99ac-69820736c306",
   "metadata": {
    "id": "buEoHirZpVNL"
   },
   "outputs": [],
   "source": [
    "import numpy as np\n",
    "import pandas as pd\n",
    "import matplotlib.pyplot as plt\n",
    "# plt.style.use('ggplot') \n",
    "# import seaborn as sns\n",
    "from catboost import CatBoostClassifier, Pool, cv\n",
    "from sklearn.metrics import accuracy_score\n",
    "from sklearn.preprocessing import MinMaxScaler\n",
    "from sklearn.feature_selection import VarianceThreshold\n"
   ]
  },
  {
   "cell_type": "code",
   "execution_count": 61,
   "id": "15424160-cdc9-4c5e-be89-b98bf3255462",
   "metadata": {
    "id": "FwBkSb1701FM"
   },
   "outputs": [],
   "source": [
    "CatBc = CatBoostClassifier(iterations=20,\n",
    "  learning_rate=1,\n",
    "  depth=2,\n",
    "  loss_function='MultiClass')"
   ]
  },
  {
   "cell_type": "code",
   "execution_count": 62,
   "id": "24eaff09-9538-4be2-9216-c681720c0f95",
   "metadata": {
    "id": "GWcW0Rc8z7du"
   },
   "outputs": [
    {
     "name": "stdout",
     "output_type": "stream",
     "text": [
      "0:\tlearn: 0.4274028\ttotal: 62.8ms\tremaining: 1.19s\n",
      "1:\tlearn: 0.3566719\ttotal: 79.5ms\tremaining: 716ms\n",
      "2:\tlearn: 0.3369566\ttotal: 92.5ms\tremaining: 524ms\n",
      "3:\tlearn: 0.3316021\ttotal: 105ms\tremaining: 419ms\n",
      "4:\tlearn: 0.3265643\ttotal: 118ms\tremaining: 353ms\n",
      "5:\tlearn: 0.3240235\ttotal: 134ms\tremaining: 312ms\n",
      "6:\tlearn: 0.3193366\ttotal: 147ms\tremaining: 272ms\n",
      "7:\tlearn: 0.3175700\ttotal: 158ms\tremaining: 238ms\n",
      "8:\tlearn: 0.3151609\ttotal: 170ms\tremaining: 208ms\n",
      "9:\tlearn: 0.3137161\ttotal: 182ms\tremaining: 182ms\n",
      "10:\tlearn: 0.3117316\ttotal: 194ms\tremaining: 159ms\n",
      "11:\tlearn: 0.3100703\ttotal: 207ms\tremaining: 138ms\n",
      "12:\tlearn: 0.3088993\ttotal: 218ms\tremaining: 117ms\n",
      "13:\tlearn: 0.3075511\ttotal: 230ms\tremaining: 98.4ms\n",
      "14:\tlearn: 0.3067578\ttotal: 242ms\tremaining: 80.5ms\n",
      "15:\tlearn: 0.3061882\ttotal: 253ms\tremaining: 63.3ms\n",
      "16:\tlearn: 0.3050657\ttotal: 268ms\tremaining: 47.2ms\n",
      "17:\tlearn: 0.3041302\ttotal: 281ms\tremaining: 31.2ms\n",
      "18:\tlearn: 0.3032631\ttotal: 293ms\tremaining: 15.4ms\n",
      "19:\tlearn: 0.3026820\ttotal: 305ms\tremaining: 0us\n"
     ]
    }
   ],
   "source": [
    "CatBc.fit(X_train, y_train)\n",
    "CatB_pred=CatBc.predict(X_test)\n",
    "# print(CatB_pred)"
   ]
  },
  {
   "cell_type": "code",
   "execution_count": 63,
   "id": "41f30916-73ff-4f80-a4b3-782f862f0e43",
   "metadata": {
    "id": "tMX3j47Y0H5U"
   },
   "outputs": [
    {
     "name": "stdout",
     "output_type": "stream",
     "text": [
      "0.8840926013344169\n"
     ]
    }
   ],
   "source": [
    "CatBtrain_score=CatBc.score(X_train, y_train)\n",
    "print(CatBtrain_score)"
   ]
  },
  {
   "cell_type": "code",
   "execution_count": 64,
   "id": "439cfd53-2754-4623-8b5d-707959114b8e",
   "metadata": {
    "id": "XfxEDMXi0H8z"
   },
   "outputs": [
    {
     "name": "stdout",
     "output_type": "stream",
     "text": [
      "The Accuracy of CatBOOST Classifier on testing set: 0.8858889256584455\n"
     ]
    }
   ],
   "source": [
    "CatBest_score=CatBc.score(X_test,y_test)\n",
    "print('The Accuracy of CatBOOST Classifier on testing set:',CatBest_score)"
   ]
  },
  {
   "cell_type": "code",
   "execution_count": 65,
   "id": "3cd11e4e-68a4-4112-838a-e23aa711a931",
   "metadata": {
    "id": "TDJfhYOVtCsp"
   },
   "outputs": [
    {
     "name": "stdout",
     "output_type": "stream",
     "text": [
      "              precision    recall  f1-score   support\n",
      "\n",
      "           0       0.90      0.87      0.88     25710\n",
      "           1       0.87      0.90      0.89     25661\n",
      "\n",
      "    accuracy                           0.89     51371\n",
      "   macro avg       0.89      0.89      0.89     51371\n",
      "weighted avg       0.89      0.89      0.89     51371\n",
      "\n",
      "[[22382  3328]\n",
      " [ 2534 23127]]\n"
     ]
    }
   ],
   "source": [
    "print(classification_report(y_test,CatB_pred))\n",
    "print(confusion_matrix(y_test,CatB_pred))"
   ]
  },
  {
   "cell_type": "code",
   "execution_count": null,
   "id": "730cf590-6366-4b08-af1c-a39f4313b8c5",
   "metadata": {
    "id": "Ia9dZuMEhqZ1"
   },
   "outputs": [],
   "source": []
  }
 ],
 "metadata": {
  "kernelspec": {
   "display_name": "Python 3 (ipykernel)",
   "language": "python",
   "name": "python3"
  },
  "language_info": {
   "codemirror_mode": {
    "name": "ipython",
    "version": 3
   },
   "file_extension": ".py",
   "mimetype": "text/x-python",
   "name": "python",
   "nbconvert_exporter": "python",
   "pygments_lexer": "ipython3",
   "version": "3.7.1"
  }
 },
 "nbformat": 4,
 "nbformat_minor": 5
}
