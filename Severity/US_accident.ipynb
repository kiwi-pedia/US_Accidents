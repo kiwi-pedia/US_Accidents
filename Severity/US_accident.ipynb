{
 "cells": [
  {
   "cell_type": "markdown",
   "id": "6daec6bf-e154-41ef-83b0-6fffe094e94f",
   "metadata": {},
   "source": [
    "# **Data Source:**\n",
    "https://www.kaggle.com/datasets/sobhanmoosavi/us-accidents; https://www.iihs.org/topics/fatality-statistics"
   ]
  },
  {
   "cell_type": "markdown",
   "id": "5eda0d0d-f38a-4076-961f-adb2750b73b0",
   "metadata": {},
   "source": [
    "## **Import Modules**"
   ]
  },
  {
   "cell_type": "code",
   "execution_count": 1,
   "id": "646aa1d0-72e0-4d0b-b08b-39227329cee8",
   "metadata": {},
   "outputs": [],
   "source": [
    "import numpy as np\n",
    "import pandas as pd\n",
    "import matplotlib.pyplot as plt"
   ]
  },
  {
   "cell_type": "markdown",
   "id": "71eb9a5e-a4a0-4feb-83fe-a3a3c4c71dac",
   "metadata": {},
   "source": [
    "## **Read Raw Data**"
   ]
  },
  {
   "cell_type": "code",
   "execution_count": 2,
   "id": "90e8b670-6320-4377-b714-76e5b69ec462",
   "metadata": {},
   "outputs": [],
   "source": [
    "dataRaw=pd.read_csv('./US_Accidents_Dec21_updated.csv', header=0)"
   ]
  },
  {
   "cell_type": "code",
   "execution_count": 3,
   "id": "d8e5360f-6b7b-4e5f-a32b-96756a228e8f",
   "metadata": {},
   "outputs": [
    {
     "data": {
      "text/plain": [
       "['ID',\n",
       " 'Severity',\n",
       " 'Start_Time',\n",
       " 'End_Time',\n",
       " 'Start_Lat',\n",
       " 'Start_Lng',\n",
       " 'End_Lat',\n",
       " 'End_Lng',\n",
       " 'Distance(mi)',\n",
       " 'Description',\n",
       " 'Number',\n",
       " 'Street',\n",
       " 'Side',\n",
       " 'City',\n",
       " 'County',\n",
       " 'State',\n",
       " 'Zipcode',\n",
       " 'Country',\n",
       " 'Timezone',\n",
       " 'Airport_Code',\n",
       " 'Weather_Timestamp',\n",
       " 'Temperature(F)',\n",
       " 'Wind_Chill(F)',\n",
       " 'Humidity(%)',\n",
       " 'Pressure(in)',\n",
       " 'Visibility(mi)',\n",
       " 'Wind_Direction',\n",
       " 'Wind_Speed(mph)',\n",
       " 'Precipitation(in)',\n",
       " 'Weather_Condition',\n",
       " 'Amenity',\n",
       " 'Bump',\n",
       " 'Crossing',\n",
       " 'Give_Way',\n",
       " 'Junction',\n",
       " 'No_Exit',\n",
       " 'Railway',\n",
       " 'Roundabout',\n",
       " 'Station',\n",
       " 'Stop',\n",
       " 'Traffic_Calming',\n",
       " 'Traffic_Signal',\n",
       " 'Turning_Loop',\n",
       " 'Sunrise_Sunset',\n",
       " 'Civil_Twilight',\n",
       " 'Nautical_Twilight',\n",
       " 'Astronomical_Twilight']"
      ]
     },
     "execution_count": 3,
     "metadata": {},
     "output_type": "execute_result"
    }
   ],
   "source": [
    "dataRaw.columns.to_list()"
   ]
  },
  {
   "cell_type": "code",
   "execution_count": 4,
   "id": "14ead3fc-3bbd-4f1c-ac5c-72c604a6c47a",
   "metadata": {},
   "outputs": [],
   "source": [
    "data = dataRaw"
   ]
  },
  {
   "cell_type": "markdown",
   "id": "748fa3c5-4354-445f-af68-0c6f811f4675",
   "metadata": {},
   "source": [
    "## **Drop Redundant/unrelated Columns**"
   ]
  },
  {
   "cell_type": "code",
   "execution_count": 5,
   "id": "b9a626d0-734b-477a-91b7-18f469f0781e",
   "metadata": {},
   "outputs": [
    {
     "name": "stdout",
     "output_type": "stream",
     "text": [
      "<class 'pandas.core.frame.DataFrame'>\n",
      "RangeIndex: 2845342 entries, 0 to 2845341\n",
      "Data columns (total 36 columns):\n",
      " #   Column                 Dtype  \n",
      "---  ------                 -----  \n",
      " 0   Severity               int64  \n",
      " 1   Start_Time             object \n",
      " 2   End_Time               object \n",
      " 3   Start_Lat              float64\n",
      " 4   Start_Lng              float64\n",
      " 5   Distance(mi)           float64\n",
      " 6   Description            object \n",
      " 7   Side                   object \n",
      " 8   City                   object \n",
      " 9   County                 object \n",
      " 10  State                  object \n",
      " 11  Temperature(F)         float64\n",
      " 12  Wind_Chill(F)          float64\n",
      " 13  Humidity(%)            float64\n",
      " 14  Pressure(in)           float64\n",
      " 15  Visibility(mi)         float64\n",
      " 16  Wind_Direction         object \n",
      " 17  Wind_Speed(mph)        float64\n",
      " 18  Precipitation(in)      float64\n",
      " 19  Weather_Condition      object \n",
      " 20  Amenity                bool   \n",
      " 21  Bump                   bool   \n",
      " 22  Crossing               bool   \n",
      " 23  Give_Way               bool   \n",
      " 24  Junction               bool   \n",
      " 25  No_Exit                bool   \n",
      " 26  Railway                bool   \n",
      " 27  Roundabout             bool   \n",
      " 28  Station                bool   \n",
      " 29  Stop                   bool   \n",
      " 30  Traffic_Calming        bool   \n",
      " 31  Traffic_Signal         bool   \n",
      " 32  Sunrise_Sunset         object \n",
      " 33  Civil_Twilight         object \n",
      " 34  Nautical_Twilight      object \n",
      " 35  Astronomical_Twilight  object \n",
      "dtypes: bool(12), float64(10), int64(1), object(13)\n",
      "memory usage: 553.6+ MB\n"
     ]
    }
   ],
   "source": [
    "data = data.drop(\n",
    "['ID',\n",
    " 'End_Lat',\n",
    " 'End_Lng',\n",
    " 'Number',\n",
    " 'Street',\n",
    " 'Zipcode',\n",
    " 'Country',\n",
    " 'Timezone',\n",
    " 'Airport_Code',\n",
    " 'Weather_Timestamp',\n",
    " 'Turning_Loop'  # All values in Turning_Loop are 'False'\n",
    "], axis=1)\n",
    "\n",
    "data.info()"
   ]
  },
  {
   "cell_type": "markdown",
   "id": "4acb6550-b55f-464f-b919-f710f842f0ba",
   "metadata": {},
   "source": [
    "## **Bisect the \"Severity\"**"
   ]
  },
  {
   "cell_type": "code",
   "execution_count": 6,
   "id": "05b868d0-e31f-440d-a6a2-1be9c69e98b6",
   "metadata": {},
   "outputs": [],
   "source": [
    "# In 2021, the orignial 4 levels are reduced to 2 levels\n",
    "# Transform the Severity feature to 2-level."
   ]
  },
  {
   "cell_type": "code",
   "execution_count": 7,
   "id": "37c81159-3653-43be-b9a5-d699e5d258dd",
   "metadata": {},
   "outputs": [],
   "source": [
    "lab = [f'{i}' for i in range(0, 2)]\n",
    "tmp = (pd.cut(x=data.Severity, bins=2, labels=lab)).astype(int, errors = 'raise')\n",
    "data['Severity_Bisection']=tmp"
   ]
  },
  {
   "cell_type": "code",
   "execution_count": 8,
   "id": "219fd353-6c53-4a62-86a4-a4b7e7789a93",
   "metadata": {},
   "outputs": [
    {
     "name": "stdout",
     "output_type": "stream",
     "text": [
      "0    2559044\n",
      "1     286298\n",
      "Name: Severity_Bisection, dtype: int64\n"
     ]
    }
   ],
   "source": [
    "print(data['Severity_Bisection'].value_counts())"
   ]
  },
  {
   "cell_type": "markdown",
   "id": "a9b52392-9431-4620-8051-aaa44f78fb35",
   "metadata": {},
   "source": [
    "## **Wind Direction = Calm**"
   ]
  },
  {
   "cell_type": "code",
   "execution_count": 9,
   "id": "ccae57a1-ff0b-442e-95b6-92614ed86a95",
   "metadata": {},
   "outputs": [],
   "source": [
    "# When Wind Direction is Calm, the value of Wind_Chill(F) and Wind_Speed(mph) will be null,\n",
    "# which is not reasonable."
   ]
  },
  {
   "cell_type": "code",
   "execution_count": 10,
   "id": "b7dac7d0-b31b-4b4e-9ec6-db09e2f6b231",
   "metadata": {},
   "outputs": [],
   "source": [
    "ind = (data['Wind_Direction'] == 'Calm')"
   ]
  },
  {
   "cell_type": "code",
   "execution_count": 11,
   "id": "59ad8af6-fd90-4f6b-86d3-679d34d53635",
   "metadata": {},
   "outputs": [],
   "source": [
    "data.loc[ind,'Wind_Speed(mph)'] = 0\n",
    "data.loc[ind, 'Wind_Chill(F)'] = data['Temperature(F)']"
   ]
  },
  {
   "cell_type": "markdown",
   "id": "36d01c28-bf3d-4168-8627-0dd052cb1b8f",
   "metadata": {},
   "source": [
    "## **Drop all the null Values**"
   ]
  },
  {
   "cell_type": "code",
   "execution_count": 12,
   "id": "5fdc9372-5786-4078-af8c-3b893647f607",
   "metadata": {
    "tags": []
   },
   "outputs": [
    {
     "data": {
      "text/plain": [
       "Severity                      0\n",
       "Start_Time                    0\n",
       "End_Time                      0\n",
       "Start_Lat                     0\n",
       "Start_Lng                     0\n",
       "Distance(mi)                  0\n",
       "Description                   0\n",
       "Side                          0\n",
       "City                        137\n",
       "County                        0\n",
       "State                         0\n",
       "Temperature(F)            69274\n",
       "Wind_Chill(F)            393478\n",
       "Humidity(%)               73092\n",
       "Pressure(in)              59200\n",
       "Visibility(mi)            70546\n",
       "Wind_Direction            73775\n",
       "Wind_Speed(mph)           81410\n",
       "Precipitation(in)        549458\n",
       "Weather_Condition         70636\n",
       "Amenity                       0\n",
       "Bump                          0\n",
       "Crossing                      0\n",
       "Give_Way                      0\n",
       "Junction                      0\n",
       "No_Exit                       0\n",
       "Railway                       0\n",
       "Roundabout                    0\n",
       "Station                       0\n",
       "Stop                          0\n",
       "Traffic_Calming               0\n",
       "Traffic_Signal                0\n",
       "Sunrise_Sunset             2867\n",
       "Civil_Twilight             2867\n",
       "Nautical_Twilight          2867\n",
       "Astronomical_Twilight      2867\n",
       "Severity_Bisection            0\n",
       "dtype: int64"
      ]
     },
     "execution_count": 12,
     "metadata": {},
     "output_type": "execute_result"
    }
   ],
   "source": [
    "data.isna().sum()"
   ]
  },
  {
   "cell_type": "code",
   "execution_count": 13,
   "id": "377dbaad-539e-40d4-85c6-c11bd9c5021b",
   "metadata": {},
   "outputs": [],
   "source": [
    "data = data.dropna()\n",
    "data = data.reset_index(drop=True)\n",
    "# data.isna().sum()"
   ]
  },
  {
   "cell_type": "markdown",
   "id": "6bedff52-687b-4a57-b9d2-cbdb425ac4d0",
   "metadata": {},
   "source": [
    "## **Starting Date & Feature Etraction(weekday, Month)**"
   ]
  },
  {
   "cell_type": "code",
   "execution_count": 14,
   "id": "5dd5944d-f7b6-4e0d-8a23-4283b4333b22",
   "metadata": {},
   "outputs": [
    {
     "name": "stdout",
     "output_type": "stream",
     "text": [
      "The Srarting Date is 2016-01-14\n"
     ]
    }
   ],
   "source": [
    "import datetime\n",
    "data['Start_Time'] = pd.to_datetime(data['Start_Time'], errors='coerce')\n",
    "date = pd.to_datetime(data['Start_Time'], errors='coerce').dt.date\n",
    "print('The Srarting Date is {}'.format(date.min()))"
   ]
  },
  {
   "cell_type": "code",
   "execution_count": 15,
   "id": "e9a4dbb7-a83e-442a-88e0-5d65e2286b47",
   "metadata": {},
   "outputs": [
    {
     "data": {
      "text/plain": [
       "0    Mon\n",
       "1    Mon\n",
       "2    Mon\n",
       "3    Mon\n",
       "4    Mon\n",
       "Name: Weekday, dtype: object"
      ]
     },
     "execution_count": 15,
     "metadata": {},
     "output_type": "execute_result"
    }
   ],
   "source": [
    "data['Weekday']=data['Start_Time'].dt.strftime('%a')\n",
    "data['Weekday'].head()"
   ]
  },
  {
   "cell_type": "code",
   "execution_count": 16,
   "id": "69d9fcb1-ebea-4a8c-89f5-51141ef198f9",
   "metadata": {},
   "outputs": [
    {
     "name": "stdout",
     "output_type": "stream",
     "text": [
      "['Fri', 'Thu', 'Wed', 'Tue', 'Mon', 'Sat', 'Sun']\n"
     ]
    }
   ],
   "source": [
    "weekday = data['Weekday'].value_counts().index.tolist()\n",
    "print(weekday)"
   ]
  },
  {
   "cell_type": "code",
   "execution_count": 17,
   "id": "6e1f5470-8bb7-4e7f-8656-266a15d97e17",
   "metadata": {},
   "outputs": [
    {
     "name": "stdout",
     "output_type": "stream",
     "text": [
      "Fri 0.06259559915327463\n",
      "Thu 0.06317581821469472\n",
      "Wed 0.06232157501094443\n",
      "Tue 0.06357496508011597\n",
      "Mon 0.06547702872164216\n",
      "Sat 0.05237206091179401\n",
      "Sun 0.05935605340044972\n"
     ]
    }
   ],
   "source": [
    "data['SeverityRatio_Weekday'] = 0.0\n",
    "for day in weekday:\n",
    "    ind = (data['Weekday'] == day)\n",
    "    tmpData = data[ind]\n",
    "    severityRatio = ((tmpData['Severity_Bisection'] == 1).sum())/((tmpData['Severity_Bisection'] == 0).sum())\n",
    "    print(day, severityRatio)\n",
    "    data.loc[ind, 'SeverityRatio_Weekday'] = severityRatio"
   ]
  },
  {
   "cell_type": "code",
   "execution_count": 18,
   "id": "c281d6d1-28ca-44fe-acc2-3a02273b2c0a",
   "metadata": {},
   "outputs": [],
   "source": [
    "data['Month'] = data['Start_Time'].dt.strftime('%b')"
   ]
  },
  {
   "cell_type": "code",
   "execution_count": 19,
   "id": "b21fd89a-8c70-4dfd-9759-4b78f71a3dd2",
   "metadata": {},
   "outputs": [
    {
     "name": "stdout",
     "output_type": "stream",
     "text": [
      "Dec 0.02496940960538391\n",
      "Nov 0.025970507008493564\n",
      "Oct 0.03295191942882765\n",
      "Sep 0.0369620757158499\n",
      "Jun 0.13957688174436128\n",
      "Feb 0.04664122468450497\n",
      "Jan 0.052837444618286565\n",
      "May 0.16635167032062428\n",
      "Apr 0.16619782492485388\n",
      "Aug 0.050660174946360784\n",
      "Jul 0.05402215531021152\n",
      "Mar 0.10813358884231884\n"
     ]
    }
   ],
   "source": [
    "months = data['Month'].value_counts().index.tolist()\n",
    "data['SeverityRatio_Month'] = 0.0\n",
    "for m in months:\n",
    "    ind = (data['Month'] == m)\n",
    "    tmpData = data[ind]\n",
    "    severityRatio = ((tmpData['Severity_Bisection'] == 1).sum())/((tmpData['Severity_Bisection'] == 0).sum())\n",
    "    print(m, severityRatio)\n",
    "    data.loc[ind, 'SeverityRatio_Month'] = severityRatio"
   ]
  },
  {
   "cell_type": "markdown",
   "id": "cbe1bf22-fbaf-440f-8f75-2144f41b3034",
   "metadata": {},
   "source": [
    "# **Day-Night Data**"
   ]
  },
  {
   "cell_type": "code",
   "execution_count": 20,
   "id": "57f934ec-3ae2-4f40-aebf-a0cedc0ebe52",
   "metadata": {},
   "outputs": [
    {
     "data": {
      "text/html": [
       "<div>\n",
       "<style scoped>\n",
       "    .dataframe tbody tr th:only-of-type {\n",
       "        vertical-align: middle;\n",
       "    }\n",
       "\n",
       "    .dataframe tbody tr th {\n",
       "        vertical-align: top;\n",
       "    }\n",
       "\n",
       "    .dataframe thead th {\n",
       "        text-align: right;\n",
       "    }\n",
       "</style>\n",
       "<table border=\"1\" class=\"dataframe\">\n",
       "  <thead>\n",
       "    <tr style=\"text-align: right;\">\n",
       "      <th></th>\n",
       "      <th>Severity</th>\n",
       "      <th>Severity_Bisection</th>\n",
       "      <th>Sunrise_Sunset</th>\n",
       "      <th>Civil_Twilight</th>\n",
       "      <th>Nautical_Twilight</th>\n",
       "      <th>Astronomical_Twilight</th>\n",
       "    </tr>\n",
       "  </thead>\n",
       "  <tbody>\n",
       "    <tr>\n",
       "      <th>0</th>\n",
       "      <td>3</td>\n",
       "      <td>1</td>\n",
       "      <td>Night</td>\n",
       "      <td>Night</td>\n",
       "      <td>Night</td>\n",
       "      <td>Night</td>\n",
       "    </tr>\n",
       "    <tr>\n",
       "      <th>1</th>\n",
       "      <td>2</td>\n",
       "      <td>0</td>\n",
       "      <td>Night</td>\n",
       "      <td>Night</td>\n",
       "      <td>Night</td>\n",
       "      <td>Night</td>\n",
       "    </tr>\n",
       "    <tr>\n",
       "      <th>2</th>\n",
       "      <td>2</td>\n",
       "      <td>0</td>\n",
       "      <td>Night</td>\n",
       "      <td>Night</td>\n",
       "      <td>Night</td>\n",
       "      <td>Day</td>\n",
       "    </tr>\n",
       "    <tr>\n",
       "      <th>3</th>\n",
       "      <td>3</td>\n",
       "      <td>1</td>\n",
       "      <td>Day</td>\n",
       "      <td>Day</td>\n",
       "      <td>Day</td>\n",
       "      <td>Day</td>\n",
       "    </tr>\n",
       "    <tr>\n",
       "      <th>4</th>\n",
       "      <td>2</td>\n",
       "      <td>0</td>\n",
       "      <td>Day</td>\n",
       "      <td>Day</td>\n",
       "      <td>Day</td>\n",
       "      <td>Day</td>\n",
       "    </tr>\n",
       "    <tr>\n",
       "      <th>5</th>\n",
       "      <td>2</td>\n",
       "      <td>0</td>\n",
       "      <td>Day</td>\n",
       "      <td>Day</td>\n",
       "      <td>Day</td>\n",
       "      <td>Day</td>\n",
       "    </tr>\n",
       "    <tr>\n",
       "      <th>6</th>\n",
       "      <td>2</td>\n",
       "      <td>0</td>\n",
       "      <td>Day</td>\n",
       "      <td>Day</td>\n",
       "      <td>Day</td>\n",
       "      <td>Day</td>\n",
       "    </tr>\n",
       "    <tr>\n",
       "      <th>7</th>\n",
       "      <td>2</td>\n",
       "      <td>0</td>\n",
       "      <td>Day</td>\n",
       "      <td>Day</td>\n",
       "      <td>Day</td>\n",
       "      <td>Day</td>\n",
       "    </tr>\n",
       "    <tr>\n",
       "      <th>8</th>\n",
       "      <td>2</td>\n",
       "      <td>0</td>\n",
       "      <td>Day</td>\n",
       "      <td>Day</td>\n",
       "      <td>Day</td>\n",
       "      <td>Day</td>\n",
       "    </tr>\n",
       "    <tr>\n",
       "      <th>9</th>\n",
       "      <td>3</td>\n",
       "      <td>1</td>\n",
       "      <td>Night</td>\n",
       "      <td>Night</td>\n",
       "      <td>Night</td>\n",
       "      <td>Night</td>\n",
       "    </tr>\n",
       "  </tbody>\n",
       "</table>\n",
       "</div>"
      ],
      "text/plain": [
       "   Severity  Severity_Bisection Sunrise_Sunset Civil_Twilight  \\\n",
       "0         3                   1          Night          Night   \n",
       "1         2                   0          Night          Night   \n",
       "2         2                   0          Night          Night   \n",
       "3         3                   1            Day            Day   \n",
       "4         2                   0            Day            Day   \n",
       "5         2                   0            Day            Day   \n",
       "6         2                   0            Day            Day   \n",
       "7         2                   0            Day            Day   \n",
       "8         2                   0            Day            Day   \n",
       "9         3                   1          Night          Night   \n",
       "\n",
       "  Nautical_Twilight Astronomical_Twilight  \n",
       "0             Night                 Night  \n",
       "1             Night                 Night  \n",
       "2             Night                   Day  \n",
       "3               Day                   Day  \n",
       "4               Day                   Day  \n",
       "5               Day                   Day  \n",
       "6               Day                   Day  \n",
       "7               Day                   Day  \n",
       "8               Day                   Day  \n",
       "9             Night                 Night  "
      ]
     },
     "execution_count": 20,
     "metadata": {},
     "output_type": "execute_result"
    }
   ],
   "source": [
    "subData = data[['Severity',\n",
    "                'Severity_Bisection',\n",
    "                'Sunrise_Sunset',\n",
    "                'Civil_Twilight',\n",
    "                'Nautical_Twilight',\n",
    "                'Astronomical_Twilight']]\n",
    "\n",
    "subData.head(10)"
   ]
  },
  {
   "cell_type": "code",
   "execution_count": 21,
   "id": "9efa27f1-095a-4d94-97d9-c7a209a325b0",
   "metadata": {},
   "outputs": [
    {
     "name": "stdout",
     "output_type": "stream",
     "text": [
      "2213344\n",
      "AT =  552409\n",
      "NT =  90596\n",
      "CT =  104408\n",
      "SS =  88970\n",
      "Day =  1376961\n"
     ]
    }
   ],
   "source": [
    "print(len(subData))\n",
    "\n",
    "identifierAT = subData['Astronomical_Twilight'] == 'Night'\n",
    "\n",
    "identifierNT = subData['Nautical_Twilight'] == 'Night'\n",
    "identifierNT[identifierAT] = False\n",
    "\n",
    "identifierCT = subData['Civil_Twilight'] == 'Night'\n",
    "identifierCT[identifierAT | identifierNT] = False\n",
    "\n",
    "identifierSS = subData['Sunrise_Sunset'] == 'Night'\n",
    "identifierSS[identifierAT | identifierNT | identifierCT] = False\n",
    "\n",
    "identifierDay = (subData['Sunrise_Sunset'] == 'Day') & (subData['Nautical_Twilight'] == 'Day')\\\n",
    "& (subData['Astronomical_Twilight'] == 'Day') & (subData['Civil_Twilight'] == 'Day') \n",
    "\n",
    "print('AT = ', identifierAT.sum())\n",
    "print('NT = ', identifierNT.sum())\n",
    "print('CT = ', identifierCT.sum())\n",
    "print('SS = ', identifierSS.sum())\n",
    "#print('Day = ', len(subData)-identifierAT.sum()-identifierNT.sum()-identifierCT.sum()-identifierSS.sum())\n",
    "print('Day = ', identifierDay.sum())"
   ]
  },
  {
   "cell_type": "code",
   "execution_count": 22,
   "id": "db5d7936-9314-46c2-a27e-3a8b5d49f91e",
   "metadata": {},
   "outputs": [
    {
     "name": "stdout",
     "output_type": "stream",
     "text": [
      "level 4 and Astronomical Twilight:\t 18169\n",
      "level 4 and Nautical Twilight:\t\t 2705\n",
      "level 4 and Civil Twilight:\t\t 2715\n",
      "level 4 and Sunrise/Sunset:\t\t 2462\n",
      "level 4 and Bright Day:\t\t\t 36874\n",
      "===========================================\n",
      "level 3 and Astronomical Twilight:\t 9495\n",
      "level 3 and Nautical Twilight:\t\t 2173\n",
      "level 3 and Civil Twilight:\t\t 2386\n",
      "level 3 and Sunrise/Sunset:\t\t 2366\n",
      "level 3 and Bright Day:\t\t\t 49156\n",
      "===========================================\n",
      "level 2 and Astronomical Twilight:\t 522793\n",
      "level 2 and Nautical Twilight:\t\t 85152\n",
      "level 2 and Civil Twilight:\t\t 98642\n",
      "level 2 and Sunrise/Sunset:\t\t 83405\n",
      "level 2 and Bright Day:\t\t\t 1271295\n",
      "===========================================\n",
      "level 1 and Astronomical Twilight:\t 1952\n",
      "level 1 and Nautical Twilight:\t\t 566\n",
      "level 1 and Civil Twilight:\t\t 665\n",
      "level 1 and Sunrise/Sunset:\t\t 737\n",
      "level 1 and Bright Day:\t\t\t 19636\n",
      "===========================================\n"
     ]
    }
   ],
   "source": [
    "identifierSeverity4 = data['Severity'] == 4\n",
    "print('level 4 and Astronomical Twilight:\\t', (identifierSeverity4 & identifierAT).sum())\n",
    "print('level 4 and Nautical Twilight:\\t\\t', (identifierSeverity4 & identifierNT).sum())\n",
    "print('level 4 and Civil Twilight:\\t\\t', (identifierSeverity4 & identifierCT).sum())\n",
    "print('level 4 and Sunrise/Sunset:\\t\\t', (identifierSeverity4 & identifierSS).sum())\n",
    "print('level 4 and Bright Day:\\t\\t\\t', (identifierSeverity4 & identifierDay).sum())\n",
    "print('===========================================')\n",
    "\n",
    "identifierSeverity3 = data['Severity'] == 3\n",
    "print('level 3 and Astronomical Twilight:\\t', (identifierSeverity3 & identifierAT).sum())\n",
    "print('level 3 and Nautical Twilight:\\t\\t', (identifierSeverity3 & identifierNT).sum())\n",
    "print('level 3 and Civil Twilight:\\t\\t', (identifierSeverity3 & identifierCT).sum())\n",
    "print('level 3 and Sunrise/Sunset:\\t\\t', (identifierSeverity3 & identifierSS).sum())\n",
    "print('level 3 and Bright Day:\\t\\t\\t', (identifierSeverity3 & identifierDay).sum())\n",
    "print('===========================================')\n",
    "\n",
    "identifierSeverity2 = data['Severity'] == 2\n",
    "print('level 2 and Astronomical Twilight:\\t', (identifierSeverity2 & identifierAT).sum())\n",
    "print('level 2 and Nautical Twilight:\\t\\t', (identifierSeverity2 & identifierNT).sum())\n",
    "print('level 2 and Civil Twilight:\\t\\t', (identifierSeverity2 & identifierCT).sum())\n",
    "print('level 2 and Sunrise/Sunset:\\t\\t', (identifierSeverity2 & identifierSS).sum())\n",
    "print('level 2 and Bright Day:\\t\\t\\t', (identifierSeverity2 & identifierDay).sum())\n",
    "print('===========================================')\n",
    "\n",
    "identifierSeverity1 = data['Severity'] == 1\n",
    "print('level 1 and Astronomical Twilight:\\t', (identifierSeverity1 & identifierAT).sum())\n",
    "print('level 1 and Nautical Twilight:\\t\\t', (identifierSeverity1 & identifierNT).sum())\n",
    "print('level 1 and Civil Twilight:\\t\\t', (identifierSeverity1 & identifierCT).sum())\n",
    "print('level 1 and Sunrise/Sunset:\\t\\t', (identifierSeverity1 & identifierSS).sum())\n",
    "print('level 1 and Bright Day:\\t\\t\\t', (identifierSeverity1 & identifierDay).sum())\n",
    "print('===========================================')"
   ]
  },
  {
   "cell_type": "code",
   "execution_count": 23,
   "id": "f10c9eb1-0d49-41e6-8130-870cb9775aea",
   "metadata": {},
   "outputs": [],
   "source": [
    "data['SeverityRatio_Light'] = 0.0\n",
    "\n",
    "tmp = data[identifierAT]\n",
    "data.loc[identifierAT, 'SeverityRatio_Light'] = (tmp.Severity_Bisection == 1).sum() / (tmp.Severity_Bisection == 0).sum()\n",
    "\n",
    "tmp = data[identifierNT]\n",
    "data.loc[identifierNT, 'SeverityRatio_Light'] = (tmp.Severity_Bisection == 1).sum() / (tmp.Severity_Bisection == 0).sum()\n",
    "\n",
    "tmp = data[identifierCT]\n",
    "data.loc[identifierCT, 'SeverityRatio_Light'] = (tmp.Severity_Bisection == 1).sum() / (tmp.Severity_Bisection == 0).sum()\n",
    "\n",
    "tmp = data[identifierSS]\n",
    "data.loc[identifierSS, 'SeverityRatio_Light'] = (tmp.Severity_Bisection == 1).sum() / (tmp.Severity_Bisection == 0).sum()\n",
    "\n",
    "tmp = data[identifierDay]\n",
    "data.loc[identifierDay, 'SeverityRatio_Light'] = (tmp.Severity_Bisection == 1).sum() / (tmp.Severity_Bisection == 0).sum()"
   ]
  },
  {
   "cell_type": "markdown",
   "id": "036a6424-4d1f-4b00-a908-babbc08aeb2a",
   "metadata": {},
   "source": [
    "### Transform of day-night"
   ]
  },
  {
   "cell_type": "code",
   "execution_count": 24,
   "id": "56e4a79d-006a-41d8-aba0-ee24d1211396",
   "metadata": {},
   "outputs": [],
   "source": [
    "# Classification 1\n",
    "data['DayNight'] = 'Bright'\n",
    "data.loc[data['Astronomical_Twilight']=='Night', 'DayNight'] = 'Dark'\n",
    "identifier = (data['Astronomical_Twilight']=='Day') & (data['Sunrise_Sunset']=='Night')\n",
    "data.loc[identifier, 'DayNight'] = 'Dim'"
   ]
  },
  {
   "cell_type": "code",
   "execution_count": 25,
   "id": "741146fc-8440-4895-9047-8fd856f2ada2",
   "metadata": {},
   "outputs": [],
   "source": [
    "# Classification 2\n",
    "data['Light'] = 'Day'\n",
    "data.loc[data['Astronomical_Twilight']=='Night', 'Light'] = 'AT'\n",
    "data.loc[identifierNT, 'Light'] = 'NT'\n",
    "data.loc[identifierCT, 'Light'] = 'CT'\n",
    "data.loc[identifierSS, 'Light'] = 'SS'"
   ]
  },
  {
   "cell_type": "markdown",
   "id": "9e487844-77b3-4d2a-95b6-7667f20f8fc0",
   "metadata": {},
   "source": [
    "# **Weather Related Features**"
   ]
  },
  {
   "cell_type": "code",
   "execution_count": 26,
   "id": "06864694-7b15-41a4-bf9f-6f304f430ca1",
   "metadata": {},
   "outputs": [
    {
     "data": {
      "text/html": [
       "<div>\n",
       "<style scoped>\n",
       "    .dataframe tbody tr th:only-of-type {\n",
       "        vertical-align: middle;\n",
       "    }\n",
       "\n",
       "    .dataframe tbody tr th {\n",
       "        vertical-align: top;\n",
       "    }\n",
       "\n",
       "    .dataframe thead th {\n",
       "        text-align: right;\n",
       "    }\n",
       "</style>\n",
       "<table border=\"1\" class=\"dataframe\">\n",
       "  <thead>\n",
       "    <tr style=\"text-align: right;\">\n",
       "      <th></th>\n",
       "      <th>Severity</th>\n",
       "      <th>Severity_Bisection</th>\n",
       "      <th>Temperature(F)</th>\n",
       "      <th>Wind_Chill(F)</th>\n",
       "      <th>Humidity(%)</th>\n",
       "      <th>Pressure(in)</th>\n",
       "      <th>Visibility(mi)</th>\n",
       "      <th>Wind_Direction</th>\n",
       "      <th>Wind_Speed(mph)</th>\n",
       "      <th>Precipitation(in)</th>\n",
       "      <th>Weather_Condition</th>\n",
       "    </tr>\n",
       "  </thead>\n",
       "  <tbody>\n",
       "    <tr>\n",
       "      <th>0</th>\n",
       "      <td>3</td>\n",
       "      <td>1</td>\n",
       "      <td>42.1</td>\n",
       "      <td>36.1</td>\n",
       "      <td>58.0</td>\n",
       "      <td>29.76</td>\n",
       "      <td>10.0</td>\n",
       "      <td>SW</td>\n",
       "      <td>10.4</td>\n",
       "      <td>0.00</td>\n",
       "      <td>Light Rain</td>\n",
       "    </tr>\n",
       "    <tr>\n",
       "      <th>1</th>\n",
       "      <td>2</td>\n",
       "      <td>0</td>\n",
       "      <td>36.9</td>\n",
       "      <td>36.9</td>\n",
       "      <td>91.0</td>\n",
       "      <td>29.68</td>\n",
       "      <td>10.0</td>\n",
       "      <td>Calm</td>\n",
       "      <td>0.0</td>\n",
       "      <td>0.02</td>\n",
       "      <td>Light Rain</td>\n",
       "    </tr>\n",
       "    <tr>\n",
       "      <th>2</th>\n",
       "      <td>2</td>\n",
       "      <td>0</td>\n",
       "      <td>36.0</td>\n",
       "      <td>36.0</td>\n",
       "      <td>97.0</td>\n",
       "      <td>29.70</td>\n",
       "      <td>10.0</td>\n",
       "      <td>Calm</td>\n",
       "      <td>0.0</td>\n",
       "      <td>0.02</td>\n",
       "      <td>Overcast</td>\n",
       "    </tr>\n",
       "    <tr>\n",
       "      <th>3</th>\n",
       "      <td>3</td>\n",
       "      <td>1</td>\n",
       "      <td>37.0</td>\n",
       "      <td>29.8</td>\n",
       "      <td>93.0</td>\n",
       "      <td>29.69</td>\n",
       "      <td>10.0</td>\n",
       "      <td>WSW</td>\n",
       "      <td>10.4</td>\n",
       "      <td>0.01</td>\n",
       "      <td>Light Rain</td>\n",
       "    </tr>\n",
       "    <tr>\n",
       "      <th>4</th>\n",
       "      <td>2</td>\n",
       "      <td>0</td>\n",
       "      <td>33.1</td>\n",
       "      <td>30.0</td>\n",
       "      <td>92.0</td>\n",
       "      <td>29.63</td>\n",
       "      <td>0.5</td>\n",
       "      <td>SW</td>\n",
       "      <td>3.5</td>\n",
       "      <td>0.08</td>\n",
       "      <td>Snow</td>\n",
       "    </tr>\n",
       "    <tr>\n",
       "      <th>5</th>\n",
       "      <td>2</td>\n",
       "      <td>0</td>\n",
       "      <td>32.0</td>\n",
       "      <td>28.7</td>\n",
       "      <td>100.0</td>\n",
       "      <td>29.59</td>\n",
       "      <td>0.5</td>\n",
       "      <td>West</td>\n",
       "      <td>3.5</td>\n",
       "      <td>0.05</td>\n",
       "      <td>Snow</td>\n",
       "    </tr>\n",
       "    <tr>\n",
       "      <th>6</th>\n",
       "      <td>2</td>\n",
       "      <td>0</td>\n",
       "      <td>33.8</td>\n",
       "      <td>29.6</td>\n",
       "      <td>100.0</td>\n",
       "      <td>29.66</td>\n",
       "      <td>3.0</td>\n",
       "      <td>NNW</td>\n",
       "      <td>4.6</td>\n",
       "      <td>0.03</td>\n",
       "      <td>Light Snow</td>\n",
       "    </tr>\n",
       "    <tr>\n",
       "      <th>7</th>\n",
       "      <td>2</td>\n",
       "      <td>0</td>\n",
       "      <td>33.1</td>\n",
       "      <td>24.4</td>\n",
       "      <td>96.0</td>\n",
       "      <td>29.59</td>\n",
       "      <td>1.8</td>\n",
       "      <td>West</td>\n",
       "      <td>11.5</td>\n",
       "      <td>0.00</td>\n",
       "      <td>Light Snow</td>\n",
       "    </tr>\n",
       "    <tr>\n",
       "      <th>8</th>\n",
       "      <td>2</td>\n",
       "      <td>0</td>\n",
       "      <td>33.8</td>\n",
       "      <td>28.6</td>\n",
       "      <td>93.0</td>\n",
       "      <td>29.64</td>\n",
       "      <td>1.0</td>\n",
       "      <td>West</td>\n",
       "      <td>5.8</td>\n",
       "      <td>0.01</td>\n",
       "      <td>Light Snow</td>\n",
       "    </tr>\n",
       "    <tr>\n",
       "      <th>9</th>\n",
       "      <td>3</td>\n",
       "      <td>1</td>\n",
       "      <td>34.0</td>\n",
       "      <td>34.0</td>\n",
       "      <td>100.0</td>\n",
       "      <td>29.65</td>\n",
       "      <td>6.0</td>\n",
       "      <td>Calm</td>\n",
       "      <td>0.0</td>\n",
       "      <td>0.07</td>\n",
       "      <td>Overcast</td>\n",
       "    </tr>\n",
       "  </tbody>\n",
       "</table>\n",
       "</div>"
      ],
      "text/plain": [
       "   Severity  Severity_Bisection  Temperature(F)  Wind_Chill(F)  Humidity(%)  \\\n",
       "0         3                   1            42.1           36.1         58.0   \n",
       "1         2                   0            36.9           36.9         91.0   \n",
       "2         2                   0            36.0           36.0         97.0   \n",
       "3         3                   1            37.0           29.8         93.0   \n",
       "4         2                   0            33.1           30.0         92.0   \n",
       "5         2                   0            32.0           28.7        100.0   \n",
       "6         2                   0            33.8           29.6        100.0   \n",
       "7         2                   0            33.1           24.4         96.0   \n",
       "8         2                   0            33.8           28.6         93.0   \n",
       "9         3                   1            34.0           34.0        100.0   \n",
       "\n",
       "   Pressure(in)  Visibility(mi) Wind_Direction  Wind_Speed(mph)  \\\n",
       "0         29.76            10.0             SW             10.4   \n",
       "1         29.68            10.0           Calm              0.0   \n",
       "2         29.70            10.0           Calm              0.0   \n",
       "3         29.69            10.0            WSW             10.4   \n",
       "4         29.63             0.5             SW              3.5   \n",
       "5         29.59             0.5           West              3.5   \n",
       "6         29.66             3.0            NNW              4.6   \n",
       "7         29.59             1.8           West             11.5   \n",
       "8         29.64             1.0           West              5.8   \n",
       "9         29.65             6.0           Calm              0.0   \n",
       "\n",
       "   Precipitation(in) Weather_Condition  \n",
       "0               0.00        Light Rain  \n",
       "1               0.02        Light Rain  \n",
       "2               0.02          Overcast  \n",
       "3               0.01        Light Rain  \n",
       "4               0.08              Snow  \n",
       "5               0.05              Snow  \n",
       "6               0.03        Light Snow  \n",
       "7               0.00        Light Snow  \n",
       "8               0.01        Light Snow  \n",
       "9               0.07          Overcast  "
      ]
     },
     "execution_count": 26,
     "metadata": {},
     "output_type": "execute_result"
    }
   ],
   "source": [
    "subData = data[['Severity',\n",
    "                'Severity_Bisection',\n",
    "                'Temperature(F)',\n",
    "                'Wind_Chill(F)',\n",
    "                'Humidity(%)',\n",
    "                'Pressure(in)',\n",
    "                'Visibility(mi)',\n",
    "                'Wind_Direction',\n",
    "                'Wind_Speed(mph)',\n",
    "                'Precipitation(in)',\n",
    "                'Weather_Condition']]\n",
    "subData.head(10)"
   ]
  },
  {
   "cell_type": "markdown",
   "id": "672376fa-12f4-462a-8bde-6dae9f1a9fd2",
   "metadata": {},
   "source": [
    "## Weather_Condition : Bisection & Severity Ratio"
   ]
  },
  {
   "cell_type": "code",
   "execution_count": 27,
   "id": "62a180d5-dafb-4c5b-8c84-f9b064a44258",
   "metadata": {},
   "outputs": [
    {
     "name": "stdout",
     "output_type": "stream",
     "text": [
      "0.061635816222132794\n"
     ]
    }
   ],
   "source": [
    "severityRatioAllFor = (subData['Severity_Bisection']==1).sum() / (subData['Severity_Bisection']==0).sum()\n",
    "print(severityRatioAllFor)"
   ]
  },
  {
   "cell_type": "code",
   "execution_count": 28,
   "id": "30b0ac36-2051-4ba4-a1e0-845841d86c15",
   "metadata": {},
   "outputs": [],
   "source": [
    "weatherConditions = subData['Weather_Condition'].value_counts().index.tolist()\n",
    "\n",
    "tmpList = [0, 0, 0, 0]\n",
    "weatherConditionSeverity = dict()\n",
    "weatherConditionSeverityRatio = dict()\n",
    "# data['Weather_Condition_SeverityRatio_denum'] =1.0\n",
    "\n",
    "for weather in weatherConditions:\n",
    "    identifier = subData['Weather_Condition'] == weather\n",
    "    tmpData = subData[identifier]\n",
    "    \n",
    "    # data.loc[identifier, 'Weather_Condition_SeverityRatio_denum'] = (tmpData['Severity_Bisection'] == 1).sum()\n",
    "    weatherSeverityCount = tmpData['Severity'].value_counts()\n",
    "    \n",
    "    tmpList = [0, 0, 0, 0]\n",
    "    for idx in weatherSeverityCount.keys():\n",
    "        tmpList[idx-1] = weatherSeverityCount[idx]\n",
    "        \n",
    "    if (tmpList[0] + tmpList[1]) == 0:\n",
    "        weatherConditionSeverity.update({weather:'BadWeather'})\n",
    "        severityRatioWeatherFor = (tmpList[3] + tmpList[2])/ 1.0\n",
    "        weatherConditionSeverityRatio.update({weather:severityRatioWeatherFor})\n",
    "    else:\n",
    "        severityRatioWeatherFor = (tmpList[3] + tmpList[2]) / (tmpList[0] + tmpList[1])\n",
    "        weatherConditionSeverityRatio.update({weather:severityRatioWeatherFor})\n",
    "        if severityRatioWeatherFor > severityRatioAllFor:\n",
    "            weatherConditionSeverity.update({weather:'BadWeather'})\n",
    "        else:\n",
    "            weatherConditionSeverity.update({weather:'GoodWeather'})\n",
    "\n",
    "    ## Depict Weather Severities\n",
    "#     plt.title(weather)\n",
    "#     plt.xlabel('Severity')\n",
    "#     plt.ylabel('Counts')\n",
    "#     plt.bar(['1','2','3','4'], tmpList)\n",
    "    \n",
    "#     if \"/\" in weather:\n",
    "#         weather = weather.replace(\"/\", \"-\")\n",
    "        \n",
    "#     plt.savefig('./Weather_Condition'+str(weather)+'.png')\n",
    "#     plt.clf()\n",
    "\n",
    "data['Bisection_WeatherCondition']= 'GoodWeather'\n",
    "data['SeverityRatio_WeatherCondition']= 0.0\n",
    "for i, (key, value) in enumerate(weatherConditionSeverity.items()):    \n",
    "    identifier = (data['Weather_Condition'] == key)\n",
    "    data.loc[identifier, 'Bisection_WeatherCondition'] = value\n",
    "    \n",
    "for i, (key, value) in enumerate(weatherConditionSeverityRatio.items()):    \n",
    "    identifier = (data['Weather_Condition'] == key)\n",
    "    data.loc[identifier, 'SeverityRatio_WeatherCondition'] = value"
   ]
  },
  {
   "cell_type": "markdown",
   "id": "1a3d0d69-624a-427a-aacc-9ddebf8f40a6",
   "metadata": {},
   "source": [
    "## Visibility(mi): Bisection & Severity Ratio"
   ]
  },
  {
   "cell_type": "code",
   "execution_count": 29,
   "id": "6ada46f9-87cf-499a-8d77-aa68221406a1",
   "metadata": {},
   "outputs": [],
   "source": [
    "identifierSeverity4 = (subData['Severity'] == 4)\n",
    "identifierSeverity3 = (subData['Severity'] == 3)\n",
    "identifierSeverity2 = (subData['Severity'] == 2)\n",
    "identifierSeverity1 = (subData['Severity'] == 1)"
   ]
  },
  {
   "cell_type": "code",
   "execution_count": 30,
   "id": "8b5394c4-ee25-4e26-ba09-1aedd661bc5d",
   "metadata": {},
   "outputs": [
    {
     "data": {
      "image/png": "[encoded data removed]",
      "text/plain": [
       "<Figure size 144x360 with 1 Axes>"
      ]
     },
     "metadata": {
      "needs_background": "light"
     },
     "output_type": "display_data"
    }
   ],
   "source": [
    "visibilitySeverity4 = subData['Visibility(mi)'][identifierSeverity4]\n",
    "plt.figure(figsize=(2,5))\n",
    "plt.boxplot(visibilitySeverity4,showmeans=True)\n",
    "plt.title('visilibity(level 4; unit:mile)')\n",
    "plt.show()"
   ]
  },
  {
   "cell_type": "code",
   "execution_count": 31,
   "id": "7c2262ab-66e8-46b2-9235-7d1589c68f53",
   "metadata": {},
   "outputs": [
    {
     "name": "stdout",
     "output_type": "stream",
     "text": [
      "<Level 4>\n",
      "==============================================\n",
      "Visibility > 10(mi); Number of Events =  249\n",
      "Visibility = 10(mi); Number of Events = 49028\n",
      "Visibility < 10(mi); Number of Events = 13648\n",
      "==============================================\n",
      "[5.7860e+03 5.3340e+03 5.1556e+04 1.1500e+02 0.0000e+00 6.2000e+01\n",
      " 5.0000e+00 2.6000e+01 1.0000e+00 0.0000e+00 1.6000e+01 1.0000e+01]\n"
     ]
    },
    {
     "data": {
      "image/png": "[encoded data removed]",
      "text/plain": [
       "<Figure size 432x288 with 1 Axes>"
      ]
     },
     "metadata": {
      "needs_background": "light"
     },
     "output_type": "display_data"
    }
   ],
   "source": [
    "sector = 12\n",
    "x_max = 48\n",
    "x_min = 0\n",
    "\n",
    "print('<Level 4>')\n",
    "print('==============================================')\n",
    "print(\"Visibility > 10(mi); Number of Events = \", len(visibilitySeverity4[visibilitySeverity4>10.0]))\n",
    "print(\"Visibility = 10(mi); Number of Events =\", len(visibilitySeverity4[visibilitySeverity4==10.0]))\n",
    "print(\"Visibility < 10(mi); Number of Events =\", len(visibilitySeverity4[visibilitySeverity4<10.0]))\n",
    "print('==============================================')\n",
    "\n",
    "severityCount4, x_visibility, c = plt.hist(visibilitySeverity4, sector, [x_min,x_max] )\n",
    "print(severityCount4)"
   ]
  },
  {
   "cell_type": "code",
   "execution_count": 32,
   "id": "82acc74b-2455-499a-bb2c-a7fddacd32db",
   "metadata": {},
   "outputs": [
    {
     "data": {
      "image/png": "[encoded data removed]",
      "text/plain": [
       "<Figure size 144x360 with 1 Axes>"
      ]
     },
     "metadata": {
      "needs_background": "light"
     },
     "output_type": "display_data"
    }
   ],
   "source": [
    "visibilitySeverity3 = subData['Visibility(mi)'][identifierSeverity3]\n",
    "plt.figure(figsize=(2,5))\n",
    "plt.boxplot(visibilitySeverity3,showmeans=True)\n",
    "plt.title('visilibity(level 3; unit:mile)')\n",
    "plt.show()"
   ]
  },
  {
   "cell_type": "code",
   "execution_count": 33,
   "id": "97a5694f-bc38-4b1a-8292-6385e365a504",
   "metadata": {},
   "outputs": [
    {
     "name": "stdout",
     "output_type": "stream",
     "text": [
      "<Level 3>\n",
      "==============================================\n",
      "Visibility > 10(mi); Number of Events =  847\n",
      "Visibility = 10(mi); Number of Events = 50399\n",
      "Visibility < 10(mi); Number of Events = 14330\n",
      "==============================================\n"
     ]
    },
    {
     "data": {
      "image/png": "[encoded data removed]",
      "text/plain": [
       "<Figure size 432x288 with 1 Axes>"
      ]
     },
     "metadata": {
      "needs_background": "light"
     },
     "output_type": "display_data"
    }
   ],
   "source": [
    "print('<Level 3>')\n",
    "print('==============================================')\n",
    "print(\"Visibility > 10(mi); Number of Events = \", len(visibilitySeverity3[visibilitySeverity3>10.0]))\n",
    "print(\"Visibility = 10(mi); Number of Events =\", len(visibilitySeverity3[visibilitySeverity3==10.0]))\n",
    "print(\"Visibility < 10(mi); Number of Events =\", len(visibilitySeverity3[visibilitySeverity3<10.0]))\n",
    "print('==============================================')\n",
    "\n",
    "severityCount3, x_visibility, c = plt.hist(visibilitySeverity3, sector, [x_min,x_max] )"
   ]
  },
  {
   "cell_type": "code",
   "execution_count": 34,
   "id": "8b1f2c8d-44f0-4063-a7cf-60f4a045fffa",
   "metadata": {},
   "outputs": [
    {
     "data": {
      "image/png": "[encoded data removed]",
      "text/plain": [
       "<Figure size 144x360 with 1 Axes>"
      ]
     },
     "metadata": {
      "needs_background": "light"
     },
     "output_type": "display_data"
    }
   ],
   "source": [
    "visibilitySeverity2 = subData['Visibility(mi)'][identifierSeverity2]\n",
    "plt.figure(figsize=(2,5))\n",
    "plt.boxplot(visibilitySeverity2,showmeans=True)\n",
    "plt.title('visilibity(level 2; unit:mile)')\n",
    "plt.show()"
   ]
  },
  {
   "cell_type": "code",
   "execution_count": 35,
   "id": "07ce88a2-a8b5-48d0-8e39-40ad9c25c294",
   "metadata": {},
   "outputs": [
    {
     "name": "stdout",
     "output_type": "stream",
     "text": [
      "<Level 2>\n",
      "==============================================\n",
      "Visibility > 10(mi); Number of Events =  5008\n",
      "Visibility = 10(mi); Number of Events = 1648718\n",
      "Visibility < 10(mi); Number of Events = 407561\n",
      "==============================================\n"
     ]
    },
    {
     "data": {
      "image/png": "[encoded data removed]",
      "text/plain": [
       "<Figure size 432x288 with 1 Axes>"
      ]
     },
     "metadata": {
      "needs_background": "light"
     },
     "output_type": "display_data"
    }
   ],
   "source": [
    "print('<Level 2>')\n",
    "print('==============================================')\n",
    "print(\"Visibility > 10(mi); Number of Events = \", len(visibilitySeverity2[visibilitySeverity2>10.0]))\n",
    "print(\"Visibility = 10(mi); Number of Events =\", len(visibilitySeverity2[visibilitySeverity2==10.0]))\n",
    "print(\"Visibility < 10(mi); Number of Events =\", len(visibilitySeverity2[visibilitySeverity2<10.0]))\n",
    "print('==============================================')\n",
    "\n",
    "severityCount2, x_visibility, c = plt.hist(visibilitySeverity2, sector, [x_min,x_max] )"
   ]
  },
  {
   "cell_type": "code",
   "execution_count": 36,
   "id": "4b7d2ca0-5702-419a-9289-c77027abc9cb",
   "metadata": {},
   "outputs": [
    {
     "data": {
      "image/png": "[encoded data removed]",
      "text/plain": [
       "<Figure size 144x360 with 1 Axes>"
      ]
     },
     "metadata": {
      "needs_background": "light"
     },
     "output_type": "display_data"
    }
   ],
   "source": [
    "visibilitySeverity1 = subData['Visibility(mi)'][identifierSeverity3]\n",
    "plt.figure(figsize=(2,5))\n",
    "plt.boxplot(visibilitySeverity1,showmeans=True)\n",
    "plt.title('visilibity(level 1; unit: mile)')\n",
    "plt.show()"
   ]
  },
  {
   "cell_type": "code",
   "execution_count": 37,
   "id": "0e85f6e5-0591-46da-98e5-2fdedd2e788b",
   "metadata": {},
   "outputs": [
    {
     "name": "stdout",
     "output_type": "stream",
     "text": [
      "<Level 1>\n",
      "==============================================\n",
      "Visibility > 10(mi); Number of Events =  847\n",
      "Visibility = 10(mi); Number of Events = 50399\n",
      "Visibility < 10(mi); Number of Events = 14330\n",
      "==============================================\n"
     ]
    },
    {
     "data": {
      "image/png": "[encoded data removed]",
      "text/plain": [
       "<Figure size 432x288 with 1 Axes>"
      ]
     },
     "metadata": {
      "needs_background": "light"
     },
     "output_type": "display_data"
    }
   ],
   "source": [
    "print('<Level 1>')\n",
    "print('==============================================')\n",
    "print(\"Visibility > 10(mi); Number of Events = \", len(visibilitySeverity1[visibilitySeverity1>10.0]))\n",
    "print(\"Visibility = 10(mi); Number of Events =\", len(visibilitySeverity1[visibilitySeverity1==10.0]))\n",
    "print(\"Visibility < 10(mi); Number of Events =\", len(visibilitySeverity1[visibilitySeverity1<10.0]))\n",
    "print('==============================================')\n",
    "\n",
    "severityCount1, x_visibility, c = plt.hist(visibilitySeverity1, sector, [x_min,x_max] )"
   ]
  },
  {
   "cell_type": "code",
   "execution_count": 38,
   "id": "7aab2b69-ae3a-4e80-8f8e-92bb5f456011",
   "metadata": {},
   "outputs": [
    {
     "name": "stdout",
     "output_type": "stream",
     "text": [
      ">10miles: Severity Ratio = 0.21418800078170802\n",
      "=10miles: Severity Ratio = 0.05955392209419543\n",
      "<10miles: Severity Ratio = 0.06820625211788482\n"
     ]
    }
   ],
   "source": [
    "tmpData = subData[subData['Visibility(mi)']>10.0]\n",
    "SeverityRatio10MilesMore = (tmpData['Severity_Bisection']==1).sum() / (tmpData['Severity_Bisection']==0).sum()\n",
    "\n",
    "tmpData = subData[subData['Visibility(mi)']==10.0]\n",
    "SeverityRatio10Miles = (tmpData['Severity_Bisection']==1).sum() / (tmpData['Severity_Bisection']==0).sum()\n",
    "\n",
    "tmpData = subData[subData['Visibility(mi)']<10.0]\n",
    "SeverityRatio10MilesLess = (tmpData['Severity_Bisection']==1).sum() / (tmpData['Severity_Bisection']==0).sum()\n",
    "\n",
    "print(f'>10miles: Severity Ratio = {SeverityRatio10MilesMore}')\n",
    "print(f'=10miles: Severity Ratio = {SeverityRatio10Miles}')\n",
    "print(f'<10miles: Severity Ratio = {SeverityRatio10MilesLess}')"
   ]
  },
  {
   "cell_type": "code",
   "execution_count": 39,
   "id": "ec51c42e-20fc-401d-b90b-d88e8690a9ca",
   "metadata": {},
   "outputs": [],
   "source": [
    "# Since the Severity Ratios are silmilar when the visibility is 10 miles or larger the 10 miles,\n",
    "# 10 miles is a good criterion for bisection\n",
    "data['Visibility_Bisection'] = 'level_1'\n",
    "data.loc[data['Visibility(mi)'] >10.0, 'Visibility_Bisection'] = 'level_2'"
   ]
  },
  {
   "cell_type": "code",
   "execution_count": 40,
   "id": "37e6c331-cace-4189-9081-7a12ae15c5a9",
   "metadata": {},
   "outputs": [],
   "source": [
    "data['SeverityRatio_Visibility'] = 0.0\n",
    "identifier = (data['Visibility_Bisection'] == 'level_1')\n",
    "tmp = data[identifier]\n",
    "data.loc[identifier, 'SeverityRatio_Visibility'] = (tmp['Severity_Bisection']==1).sum()/(tmp['Severity_Bisection']==0).sum()\n",
    "\n",
    "identifier = (data['Visibility_Bisection'] == 'level_2')\n",
    "tmp = data[identifier]\n",
    "data.loc[identifier, 'SeverityRatio_Visibility'] = (tmp['Severity_Bisection']==1).sum()/(tmp['Severity_Bisection']==0).sum()\n"
   ]
  },
  {
   "cell_type": "markdown",
   "id": "2e822901-a685-4585-baed-0c57d008825b",
   "metadata": {},
   "source": [
    "# **City & County**"
   ]
  },
  {
   "cell_type": "code",
   "execution_count": 44,
   "id": "21da015d-4ad0-46d2-a2d9-975a4a52137f",
   "metadata": {},
   "outputs": [],
   "source": [
    "subData = data[['Severity','Severity_Bisection', 'City','County']]"
   ]
  },
  {
   "cell_type": "code",
   "execution_count": 45,
   "id": "7527a29a-cd8b-4396-94e4-29fa33ac19f8",
   "metadata": {},
   "outputs": [
    {
     "name": "stdout",
     "output_type": "stream",
     "text": [
      "138.3055558204651\n",
      "1410.5433011054993\n"
     ]
    }
   ],
   "source": [
    "import time\n",
    "cityNames = subData['City'].value_counts().index.tolist()\n",
    "# print(cityNames)\n",
    "severityRatioAllFor = (subData['Severity_Bisection']==1).sum() / (subData['Severity_Bisection']==0).sum()\n",
    "tmpList = [0, 0, 0, 0]\n",
    "citySeverity = dict()\n",
    "citySeverityRatio = dict()\n",
    "\n",
    "tic = time.time()\n",
    "\n",
    "for city in cityNames:\n",
    "    identifier = (subData['City'] == city)\n",
    "    # print(len(identifier))\n",
    "    tmpData = subData[identifier]\n",
    "    \n",
    "    citySeverityCount = tmpData['Severity'].value_counts()\n",
    "    tmpList = [0, 0, 0, 0]\n",
    "    for idx in citySeverityCount.keys():\n",
    "        tmpList[idx-1] = citySeverityCount[idx]\n",
    "    \n",
    "    if (tmpList[0] + tmpList[1]) == 0:\n",
    "        citySeverity.update({city:'BadCity'})\n",
    "        severityRatioCityFor = (tmpList[3] + tmpList[2])/ 1.0\n",
    "        citySeverityRatio.update({city:severityRatioCityFor})\n",
    "    else:\n",
    "        severityRatioCityFor = (tmpList[3] + tmpList[2]) / (tmpList[0] + tmpList[1])\n",
    "        citySeverityRatio.update({city:severityRatioCityFor})\n",
    "        if severityRatioCityFor > severityRatioAllFor:\n",
    "            citySeverity.update({city:'BadCity'})\n",
    "        else:\n",
    "            citySeverity.update({city:'GoodCity'})\n",
    "            \n",
    "    subData=subData[subData['City']!=city]\n",
    "toc = time.time()\n",
    "print(toc-tic)  \n",
    "    \n",
    "tic = time.time()\n",
    "subData = data[['Severity','Severity_Bisection', 'City','County']]    \n",
    "\n",
    "data['Bisection_City']= 'GoodCity'\n",
    "data['SeverityRatio_City']= 0.0\n",
    "for i, (key, value) in enumerate(citySeverity.items()):    \n",
    "    identifier = (data['City'] == key)\n",
    "    data.loc[identifier, 'Bisection_City'] = value\n",
    "    \n",
    "for i, (key, value) in enumerate(citySeverityRatio.items()):    \n",
    "    identifier = (data['City'] == key)\n",
    "    data.loc[identifier, 'SeverityRatio_City'] = value\n",
    "    \n",
    "toc = time.time()\n",
    "print(toc-tic)  "
   ]
  },
  {
   "cell_type": "code",
   "execution_count": 46,
   "id": "6fdeec63-8f93-4330-90c5-6a308e2ea84c",
   "metadata": {},
   "outputs": [],
   "source": [
    "countyNames = subData['County'].value_counts().index.tolist()\n",
    "\n",
    "severityRatioAllFor = (subData['Severity_Bisection']==1).sum() / (subData['Severity_Bisection']==0).sum()\n",
    "tmpList = [0, 0, 0, 0]\n",
    "countySeverity = dict()\n",
    "countySeverityRatio = dict()\n",
    "for county in countyNames:\n",
    "    identifier = subData['County'] == county\n",
    "    tmpData = subData[identifier]\n",
    "    \n",
    "    countySeverityCount = tmpData['Severity'].value_counts()\n",
    "    \n",
    "    tmpList = [0, 0, 0, 0]\n",
    "    for idx in countySeverityCount.keys():\n",
    "        tmpList[idx-1] = countySeverityCount[idx]\n",
    "        \n",
    "    \n",
    "    if (tmpList[0] + tmpList[1]) == 0:\n",
    "        countySeverity.update({county:'BadCounty'})\n",
    "        severityRatioCountyFor = (tmpList[3] + tmpList[2])/ 1.0\n",
    "        countySeverityRatio.update({county:severityRatioCountyFor})\n",
    "    else:\n",
    "        severityRatioCountyFor = (tmpList[3] + tmpList[2]) / (tmpList[0] + tmpList[1])\n",
    "        countySeverityRatio.update({county:severityRatioCountyFor})\n",
    "        if severityRatioCountyFor > severityRatioAllFor:\n",
    "            countySeverity.update({county:'BadCounty'})\n",
    "        else:\n",
    "            countySeverity.update({county:'GoodCounty'})\n",
    "            \n",
    "    subData=subData[subData['County']!=county]\n",
    "\n",
    "subData = data[['Severity','Severity_Bisection', 'City','County']]\n",
    "    \n",
    "data['Bisection_County']= 'GoodCounty'\n",
    "data['SeverityRatio_County']= 0.0\n",
    "for i, (key, value) in enumerate(countySeverity.items()):    \n",
    "    identifier = (data['County'] == key)\n",
    "    data.loc[identifier, 'Bisection_County'] = value\n",
    "    \n",
    "for i, (key, value) in enumerate(countySeverityRatio.items()):    \n",
    "    identifier = (data['County'] == key)\n",
    "    data.loc[identifier, 'SeverityRatio_County'] = value"
   ]
  },
  {
   "cell_type": "markdown",
   "id": "3fad0e54-0bfc-4a70-bdf4-81473947019b",
   "metadata": {},
   "source": [
    "# **State**"
   ]
  },
  {
   "cell_type": "code",
   "execution_count": 48,
   "id": "66a67460-294b-4c49-8a85-19ed3684f3d5",
   "metadata": {},
   "outputs": [],
   "source": [
    "subData = data[['Severity','Severity_Bisection','State']]\n",
    "stateNames = subData['State'].value_counts().index.tolist()\n",
    "\n",
    "severityRatioAllFor = (subData['Severity_Bisection']==1).sum() / (subData['Severity_Bisection']==0).sum()\n",
    "tmpList = [0, 0, 0, 0]\n",
    "stateSeverity = dict()\n",
    "stateSeverityRatio = dict()\n",
    "for state in stateNames:\n",
    "    identifier = subData['State'] == state\n",
    "    tmpData = subData[identifier]\n",
    "    \n",
    "    stateSeverityCount = tmpData['Severity'].value_counts()\n",
    "    \n",
    "    tmpList = [0, 0, 0, 0]\n",
    "    for idx in stateSeverityCount.keys():\n",
    "        tmpList[idx-1] = stateSeverityCount[idx]\n",
    "        \n",
    "    \n",
    "    if (tmpList[0] + tmpList[1]) == 0:\n",
    "        stateSeverity.update({state:'BadState'})\n",
    "        severityRatioStateFor = (tmpList[3] + tmpList[2])/ 1.0\n",
    "        stateSeverityRatio.update({state:severityRatioStateFor})\n",
    "    else:\n",
    "        severityRatioStateFor = (tmpList[3] + tmpList[2]) / (tmpList[0] + tmpList[1])\n",
    "        stateSeverityRatio.update({state:severityRatioStateFor})\n",
    "        if severityRatioStateFor > severityRatioAllFor:\n",
    "            stateSeverity.update({state:'BadState'})\n",
    "        else:\n",
    "            stateSeverity.update({state:'GoodState'})\n",
    "            \n",
    "data['Bisection_State']= 'GoodState'\n",
    "data['SeverityRatio_State']= 0.0\n",
    "for i, (key, value) in enumerate(stateSeverity.items()):    \n",
    "    identifier = (data['State'] == key)\n",
    "    data.loc[identifier, 'Bisection_State'] = value\n",
    "    \n",
    "for i, (key, value) in enumerate(stateSeverityRatio.items()):    \n",
    "    identifier = (data['State'] == key)\n",
    "    data.loc[identifier, 'SeverityRatio_State'] = value"
   ]
  },
  {
   "cell_type": "markdown",
   "id": "da0d05a6-317c-4fab-b4e6-afc872104622",
   "metadata": {},
   "source": [
    "# **Description: analysis of Road Types**"
   ]
  },
  {
   "cell_type": "code",
   "execution_count": 50,
   "id": "b9884b96-249f-41cc-8c5e-0e5dbd5ec461",
   "metadata": {},
   "outputs": [],
   "source": [
    "states = data['State'].unique()"
   ]
  },
  {
   "cell_type": "code",
   "execution_count": 51,
   "id": "0b984df3-16c5-4824-8192-9bc380dff0fd",
   "metadata": {},
   "outputs": [],
   "source": [
    "data['SeverityRatio_Road'] = 0.0\n",
    "\n",
    "desc = data['Description']\n",
    "stateDict= dict()\n",
    "b = np.full(len(data), False, dtype=bool)\n",
    "allIndicator = pd.Series(b)\n",
    "for state in states:\n",
    "    state1 = state+'-'\n",
    "    state2 = ' '+state+' '\n",
    "    indicator = []\n",
    "    for statement in desc:\n",
    "        # print(statement)\n",
    "        if state1 in statement:\n",
    "            indicator.append(1)\n",
    "        elif state2 in statement:\n",
    "            indicator.append(1)\n",
    "        else:\n",
    "            indicator.append(0)\n",
    "    indicator = pd.Series(indicator).astype(bool)\n",
    "    tmpData = data[indicator]\n",
    "    allIndicator = indicator | allIndicator\n",
    "    ratio = (tmpData['Severity_Bisection'] == 1).sum() / (tmpData['Severity_Bisection'] == 0).sum()\n",
    "    data.loc[indicator, 'SeverityRatio_Road'] = ratio\n",
    "    stateDict.update({state:ratio})\n",
    "    \n",
    "dataCombine1 = data[allIndicator]"
   ]
  },
  {
   "cell_type": "code",
   "execution_count": 52,
   "id": "23012fa3-b879-4ef8-9801-eb7dc5af0176",
   "metadata": {},
   "outputs": [
    {
     "name": "stdout",
     "output_type": "stream",
     "text": [
      "{'OH': 0.3498233215547703, 'IN': 0.12290643495781388, 'KY': 0.20278503046127067, 'WV': 0.09475465313028765, 'PA': 0.11283221390236849, 'MI': 0.02588282504012841, 'CA': 0.013191769122535375, 'MN': 0.014912781995809182, 'LA': 0.06205122709248741, 'NE': 0.0428522843215055, 'MO': 0.170098730606488, 'IA': 0.1594513501928847, 'TX': 0.08457895515761432, 'ND': 0.00909090909090909, 'CO': 0.5717446270543616, 'KS': 0.11365807067812798, 'WI': 1.416083916083916, 'OK': 0.25507246376811593, 'WY': 0.15171254465223785, 'SD': 0.007945516458569807, 'MS': 0.10268562401263823, 'AR': 0.17167919799498746, 'SC': 0.0182690819012231, 'IL': 0.3599012519837771, 'MA': 0.036036036036036036, 'RI': 0.13523956723338484, 'FL': 0.003348863406779765, 'ME': 0.04738154613466334, 'NY': 0.05474015748031496, 'TN': 0.04685059864653826, 'MD': 0.14936491773406935, 'NC': 0.08647333464851713, 'GA': 0.16635346756152125, 'VA': 0.09066783000690733, 'NJ': 0.03463616142357801, 'CT': 0.07143393675354916, 'NH': 0.32, 'DE': 0.04379084967320261, 'VT': 0.21238938053097345, 'DC': 0.008670520231213872, 'AL': 0.06935817805383022, 'MT': 0.026000584282792873, 'ID': 0.04486586493987049, 'UT': 0.028319616356684597, 'AZ': 0.04472003006388576, 'NM': 0.24468085106382978, 'NV': 0.10030864197530864, 'WA': 0.1631705364291433, 'OR': 0.06887659414853714}\n"
     ]
    }
   ],
   "source": [
    "print(stateDict)"
   ]
  },
  {
   "cell_type": "code",
   "execution_count": 53,
   "id": "1aadcb35-d96b-4709-baed-c6e7e0978b32",
   "metadata": {},
   "outputs": [
    {
     "data": {
      "text/plain": [
       "716383"
      ]
     },
     "execution_count": 53,
     "metadata": {},
     "output_type": "execute_result"
    }
   ],
   "source": [
    "allIndicator.sum()"
   ]
  },
  {
   "cell_type": "code",
   "execution_count": 54,
   "id": "641a3728-635b-4073-a46f-27b490480c0d",
   "metadata": {},
   "outputs": [],
   "source": [
    "data2 = data[~allIndicator]\n",
    "data2 = data2.reset_index(drop=True)"
   ]
  },
  {
   "cell_type": "code",
   "execution_count": 55,
   "id": "939f2975-e2a3-482c-8180-7bdc7836464e",
   "metadata": {},
   "outputs": [
    {
     "data": {
      "text/plain": [
       "0.06763124468220917"
      ]
     },
     "execution_count": 55,
     "metadata": {},
     "output_type": "execute_result"
    }
   ],
   "source": [
    "ratio = (data2['Severity_Bisection'] == 1).sum() / (data2['Severity_Bisection'] == 0).sum()\n",
    "ratio"
   ]
  },
  {
   "cell_type": "code",
   "execution_count": 56,
   "id": "e83b2285-a211-4496-9514-2624dbd44d03",
   "metadata": {},
   "outputs": [
    {
     "name": "stdout",
     "output_type": "stream",
     "text": [
      "1496961\n"
     ]
    }
   ],
   "source": [
    "desc = data2['Description']\n",
    "print(len(data2))\n",
    "stateDict= dict()\n",
    "\n",
    "indicator = []\n",
    "for statement in desc:\n",
    "    # print(statement)\n",
    "    if 'US-' in statement:\n",
    "        indicator.append(1)\n",
    "    elif ' US ' in statement:\n",
    "        indicator.append(1)\n",
    "    else:\n",
    "        indicator.append(0)\n",
    "indicator = pd.Series(indicator).astype(bool)\n",
    "\n",
    "tmpData = data2[indicator]\n",
    "\n",
    "ratio = (tmpData['Severity_Bisection'] == 1).sum() / (tmpData['Severity_Bisection'] == 0).sum()\n",
    "data2.loc[indicator, 'SeverityRatio_Road'] = ratio\n",
    "dataCombine2 = data2[indicator]\n"
   ]
  },
  {
   "cell_type": "code",
   "execution_count": 57,
   "id": "d6b29d2e-51a9-43b3-b6f6-1baa6a0cb040",
   "metadata": {},
   "outputs": [
    {
     "data": {
      "text/plain": [
       "0.06712512291863282"
      ]
     },
     "execution_count": 57,
     "metadata": {},
     "output_type": "execute_result"
    }
   ],
   "source": [
    "(data2[~indicator]['Severity_Bisection']==1).sum()/(data2[~indicator]['Severity_Bisection']==0).sum()"
   ]
  },
  {
   "cell_type": "code",
   "execution_count": 58,
   "id": "3e7cd1bd-f38d-40d1-9049-aad1b14555b4",
   "metadata": {},
   "outputs": [],
   "source": [
    "data3 = data2[~indicator]\n",
    "data3 = data3.reset_index(drop=True)"
   ]
  },
  {
   "cell_type": "code",
   "execution_count": 59,
   "id": "5c43bf38-d1a9-47ce-8478-6c4a5bdd0669",
   "metadata": {},
   "outputs": [
    {
     "name": "stdout",
     "output_type": "stream",
     "text": [
      "1293552\n"
     ]
    }
   ],
   "source": [
    "desc = data3['Description']\n",
    "print(len(data3))\n",
    "stateDict= dict()\n",
    "\n",
    "indicator = []\n",
    "for statement in desc:\n",
    "    if 'I-' in statement:\n",
    "        indicator.append(1)\n",
    "    else:\n",
    "        indicator.append(0)\n",
    "indicator = pd.Series(indicator).astype(bool)\n",
    "\n",
    "tmpData = data3[indicator]\n",
    "ratio = (tmpData['Severity_Bisection'] == 1).sum() / (tmpData['Severity_Bisection'] == 0).sum()\n",
    "data3.loc[indicator, 'SeverityRatio_Road'] = ratio\n",
    "dataCombine3 = data3[indicator]"
   ]
  },
  {
   "cell_type": "code",
   "execution_count": 60,
   "id": "80652450-5836-49c0-96a3-d947b2c1dd30",
   "metadata": {},
   "outputs": [],
   "source": [
    "data4 = data3[~indicator]\n",
    "data4 = data4.reset_index(drop=True)\n",
    "\n",
    "data4_severe = data4[data4['Severity_Bisection']==1]"
   ]
  },
  {
   "cell_type": "code",
   "execution_count": 62,
   "id": "018b2306-911b-4278-b224-07365435753b",
   "metadata": {},
   "outputs": [],
   "source": [
    "data4['SeverityRatio_Road'] = ((data4['Severity_Bisection'] == 1).sum() / (data4['Severity_Bisection'] == 0).sum())"
   ]
  },
  {
   "cell_type": "code",
   "execution_count": 63,
   "id": "7b26ef47-a7a9-43a0-a4c2-f2f908ee0c83",
   "metadata": {},
   "outputs": [],
   "source": [
    "df = pd.concat([dataCombine1,dataCombine2,dataCombine3,data4], ignore_index=True)"
   ]
  },
  {
   "cell_type": "markdown",
   "id": "3c227dcc-2466-4b2e-8438-5883e8aec127",
   "metadata": {},
   "source": [
    "## Highway labeling"
   ]
  },
  {
   "cell_type": "code",
   "execution_count": 65,
   "id": "2afcb5a9-cdf6-4a0c-9401-746d2424bb6a",
   "metadata": {},
   "outputs": [],
   "source": [
    "desc = data['Description']\n",
    "highwayIdentifier = []\n",
    "for str1 in desc:\n",
    "    str1 = str1.lower()\n",
    "    if 'highway' in str1:\n",
    "        highwayIdentifier.append(1)\n",
    "    elif 'hwy' in str1:\n",
    "        highwayIdentifier.append(1)\n",
    "    else:\n",
    "        highwayIdentifier.append(0)\n",
    "highwayIdentifier = pd.Series(highwayIdentifier).astype(bool)\n",
    "\n",
    "routeIdentifier = []\n",
    "for str1 in desc:\n",
    "    str1 = str1.lower()\n",
    "    if 'route' in str1:\n",
    "        routeIdentifier.append(1)\n",
    "    else:\n",
    "        routeIdentifier.append(0)\n",
    "routeIdentifier = pd.Series(routeIdentifier).astype(bool)\n",
    "\n",
    "interHwyIdentifier = []\n",
    "for str1 in desc:\n",
    "    # str = str.lower()\n",
    "    if 'I-' in str1:\n",
    "        interHwyIdentifier.append(1)\n",
    "    else:\n",
    "        interHwyIdentifier.append(0)\n",
    "interHwyIdentifier = pd.Series(interHwyIdentifier).astype(bool)"
   ]
  },
  {
   "cell_type": "code",
   "execution_count": 66,
   "id": "bc0ba05c-aa3f-4b2f-b958-2d55c21d1ffb",
   "metadata": {},
   "outputs": [],
   "source": [
    "dataTmpHwy = data[highwayIdentifier]\n",
    "dataTmpRoute =data[routeIdentifier]\n",
    "dataTmpIHwy =data[interHwyIdentifier]"
   ]
  },
  {
   "cell_type": "code",
   "execution_count": 67,
   "id": "8e5ab04b-5f48-444c-8a3b-9b354887a2e0",
   "metadata": {},
   "outputs": [
    {
     "name": "stdout",
     "output_type": "stream",
     "text": [
      "0.03954726246836135\n",
      "0.3726039967373573\n",
      "0.03457055210072438\n"
     ]
    }
   ],
   "source": [
    "print((dataTmpHwy['Severity_Bisection']==1).sum()/(dataTmpHwy['Severity_Bisection']==0).sum())\n",
    "print((dataTmpRoute['Severity_Bisection']==1).sum()/(dataTmpRoute['Severity_Bisection']==0).sum())\n",
    "print((dataTmpIHwy['Severity_Bisection']==1).sum()/(dataTmpIHwy['Severity_Bisection']==0).sum())"
   ]
  },
  {
   "cell_type": "code",
   "execution_count": 68,
   "id": "b0eeff91-863f-44ee-8d87-a6bc4dbd7c44",
   "metadata": {},
   "outputs": [],
   "source": [
    "data['Highway'] = 'Non-Hwy'\n",
    "data['SeverityRatio_HighWay'] = 0.0\n",
    "\n",
    "data.loc[highwayIdentifier, 'Highway'] = 'highway'\n",
    "tmp = data[highwayIdentifier]\n",
    "data.loc[highwayIdentifier, 'SeverityRatio_HighWay'] = (tmp['Severity_Bisection']==1).sum()/(tmp['Severity_Bisection']==0).sum()\n",
    "\n",
    "data.loc[interHwyIdentifier, 'Highway'] = 'interHwy'\n",
    "tmp = data[interHwyIdentifier]\n",
    "data.loc[interHwyIdentifier, 'SeverityRatio_HighWay'] = (tmp['Severity_Bisection']==1).sum()/(tmp['Severity_Bisection']==0).sum()\n",
    "\n",
    "data.loc[routeIdentifier, 'Highway'] = 'route'\n",
    "tmp = data[routeIdentifier]\n",
    "data.loc[routeIdentifier, 'SeverityRatio_HighWay'][routeIdentifier] = (tmp['Severity_Bisection']==1).sum()/(tmp['Severity_Bisection']==0).sum()\n",
    "\n",
    "identifier = (routeIdentifier | highwayIdentifier | interHwyIdentifier)\n",
    "tmp = data[~identifier]\n",
    "data.loc[~identifier, 'SeverityRatio_HighWay'] = (tmp['Severity_Bisection']==1).sum()/(tmp['Severity_Bisection']==0).sum()"
   ]
  },
  {
   "cell_type": "markdown",
   "id": "6dc14b24-e9b7-47e6-beec-8aaf18030a56",
   "metadata": {},
   "source": [
    "# **Sliding Window**"
   ]
  },
  {
   "cell_type": "code",
   "execution_count": 70,
   "id": "21f83095-f7ed-4303-b805-e48791497497",
   "metadata": {},
   "outputs": [],
   "source": [
    "data['Date'] = pd.to_datetime(data['Start_Time'], errors='coerce').dt.date\n",
    "data = data.sort_values(by=['Date'])\n",
    "data = data.reset_index(drop=True)\n",
    "\n",
    "subDataAll = data[['Severity_Bisection', 'Date']]\n",
    "\n",
    "data = data[data['Start_Time']>='2016-3-14']\n",
    "data = data.reset_index(drop=True)"
   ]
  },
  {
   "cell_type": "code",
   "execution_count": 71,
   "id": "9a9585c0-a7f6-42a8-a887-13e042b2e57f",
   "metadata": {},
   "outputs": [
    {
     "data": {
      "text/plain": [
       "0          2016-03-14\n",
       "1          2016-03-14\n",
       "2          2016-03-15\n",
       "3          2016-03-15\n",
       "4          2016-03-19\n",
       "              ...    \n",
       "2213157    2021-12-31\n",
       "2213158    2021-12-31\n",
       "2213159    2021-12-31\n",
       "2213160    2021-12-31\n",
       "2213161    2021-12-31\n",
       "Name: Date, Length: 2213162, dtype: object"
      ]
     },
     "execution_count": 71,
     "metadata": {},
     "output_type": "execute_result"
    }
   ],
   "source": [
    "data.Date"
   ]
  },
  {
   "cell_type": "code",
   "execution_count": 72,
   "id": "dfc97606-2086-44c2-a172-18965c11ef04",
   "metadata": {},
   "outputs": [
    {
     "data": {
      "text/plain": [
       "0            60\n",
       "1            60\n",
       "2            61\n",
       "3            61\n",
       "4            65\n",
       "           ... \n",
       "2213157    2178\n",
       "2213158    2178\n",
       "2213159    2178\n",
       "2213160    2178\n",
       "2213161    2178\n",
       "Name: Date, Length: 2213162, dtype: int64"
      ]
     },
     "execution_count": 72,
     "metadata": {},
     "output_type": "execute_result"
    }
   ],
   "source": [
    "timeInterval = (data.Date-subDataAll.Date[0]).dt.days\n",
    "timeInterval"
   ]
  },
  {
   "cell_type": "code",
   "execution_count": 73,
   "id": "6d4175b1-86de-4874-82b2-5b712be5d674",
   "metadata": {},
   "outputs": [],
   "source": [
    "dateMin = subDataAll['Date'].min()\n",
    "dateMax = subDataAll['Date'].max()"
   ]
  },
  {
   "cell_type": "code",
   "execution_count": 74,
   "id": "5949a754-c176-4048-8dd4-4b3bf3488205",
   "metadata": {},
   "outputs": [
    {
     "data": {
      "text/plain": [
       "datetime.date(2021, 12, 31)"
      ]
     },
     "execution_count": 74,
     "metadata": {},
     "output_type": "execute_result"
    }
   ],
   "source": [
    "dateMax"
   ]
  },
  {
   "cell_type": "code",
   "execution_count": 75,
   "id": "706e7418-518a-4f6e-b454-e079612d0fb9",
   "metadata": {},
   "outputs": [
    {
     "name": "stdout",
     "output_type": "stream",
     "text": [
      "start date = 2016-03-14\n",
      "first day in input data = 2016-03-01\n"
     ]
    },
    {
     "name": "stderr",
     "output_type": "stream",
     "text": [
      "/home/kiwi/anaconda3/envs/tcfst/lib/python3.9/site-packages/pandas/core/ops/array_ops.py:73: FutureWarning: Comparison of Timestamp with datetime.date is deprecated in order to match the standard library behavior. In a future version these will be considered non-comparable. Use 'ts == pd.Timestamp(date)' or 'ts.date() == date' instead.\n",
      "  result = libops.scalar_compare(x.ravel(), y, op)\n",
      "/tmp/ipykernel_25948/1431451464.py:32: RuntimeWarning: invalid value encountered in long_scalars\n",
      "  dataTmpSeverityRatio = (dataTmp['Severity_Bisection']==1).sum()/(dataTmp['Severity_Bisection']==0).sum()\n"
     ]
    },
    {
     "name": "stdout",
     "output_type": "stream",
     "text": [
      "3584.389819383621\n"
     ]
    }
   ],
   "source": [
    "dateMin = subDataAll['Date'].min()\n",
    "dateMax = subDataAll['Date'].max()\n",
    "dataAllTimeRange = pd.date_range(dateMin, dateMax)\n",
    "\n",
    "# d = pd.Timedelta(90, unit=\"d\")\n",
    "# startDate = data['Date'].min()+d\n",
    "startDate = data['Date'].min()\n",
    "\n",
    "import time\n",
    "\n",
    "def getSeverityRatioTimePeriodFor(inputData, startDate, timeDelta):\n",
    "    d = pd.Timedelta(timeDelta, unit=\"d\")\n",
    "    ratioDict = dict()\n",
    "    dateMax = inputData['Date'].max()\n",
    "    print('start date =', startDate)\n",
    "    inputData = inputData[inputData['Date']>=startDate-d]\n",
    "    print('first day in input data =', inputData['Date'].iloc[0])\n",
    "    \n",
    "    timeRange = pd.date_range(startDate, dateMax)\n",
    "    for date in timeRange:\n",
    "        # print(date)\n",
    "        dateBm = (date - d).date()\n",
    "        # print(dateBm)\n",
    "        identifier = (inputData['Date']<date)\n",
    "        dataTmp = inputData[identifier]\n",
    "        # print(dataTmp.Date)\n",
    "        dataTmpSeverityRatio = (dataTmp['Severity_Bisection']==1).sum()/(dataTmp['Severity_Bisection']==0).sum()\n",
    "        ratioDict.update({date: dataTmpSeverityRatio})\n",
    "        data.loc[data['Date']==date, name] = (dataTmp['Severity_Bisection']==2).sum()\n",
    "        \n",
    "        inputData = inputData[inputData['Date']!= dateBm]\n",
    "        # print(inputData.Date)\n",
    "        # break\n",
    "    return ratioDict\n",
    "\n",
    "tic = time.time()\n",
    "a = getSeverityRatioTimePeriodFor(subDataAll, startDate, 15)\n",
    "tic2 = time.time()\n",
    "print(tic2 - tic)\n"
   ]
  },
  {
   "cell_type": "code",
   "execution_count": 76,
   "id": "0c69c8d6-4d98-44aa-a47b-91402a979d52",
   "metadata": {},
   "outputs": [
    {
     "name": "stdout",
     "output_type": "stream",
     "text": [
      "294.9738163948059\n"
     ]
    }
   ],
   "source": [
    "tic = time.time()\n",
    "data['SeverityRatio_15days']= 0.0\n",
    "for i, (key, value) in enumerate(a.items()): \n",
    "    key = key.date()\n",
    "    # print(key)\n",
    "    identifier = (data['Date'] == key)\n",
    "    data.loc[identifier, 'SeverityRatio_15days'] = value\n",
    "tic2 = time.time()\n",
    "print(tic2 - tic)"
   ]
  },
  {
   "cell_type": "code",
   "execution_count": 77,
   "id": "394ce76d-0d60-4722-8751-f4296012f5b4",
   "metadata": {},
   "outputs": [
    {
     "name": "stdout",
     "output_type": "stream",
     "text": [
      "start date = 2016-03-14\n",
      "first day in input data = 2016-02-13\n"
     ]
    },
    {
     "name": "stderr",
     "output_type": "stream",
     "text": [
      "/home/kiwi/anaconda3/envs/tcfst/lib/python3.9/site-packages/pandas/core/ops/array_ops.py:73: FutureWarning: Comparison of Timestamp with datetime.date is deprecated in order to match the standard library behavior. In a future version these will be considered non-comparable. Use 'ts == pd.Timestamp(date)' or 'ts.date() == date' instead.\n",
      "  result = libops.scalar_compare(x.ravel(), y, op)\n"
     ]
    },
    {
     "name": "stdout",
     "output_type": "stream",
     "text": [
      "3616.2221779823303\n"
     ]
    }
   ],
   "source": [
    "tic = time.time()\n",
    "b = getSeverityRatioTimePeriodFor(subDataAll, startDate, 30)\n",
    "tic2 = time.time()\n",
    "print(tic2 - tic)"
   ]
  },
  {
   "cell_type": "code",
   "execution_count": 78,
   "id": "ae7310f9-08b0-4da1-a110-e9d7cceb28ac",
   "metadata": {},
   "outputs": [
    {
     "name": "stdout",
     "output_type": "stream",
     "text": [
      "293.89777183532715\n"
     ]
    }
   ],
   "source": [
    "tic = time.time()\n",
    "data['SeverityRatio_30days']= 0.0\n",
    "for i, (key, value) in enumerate(b.items()):\n",
    "    key = key.date()\n",
    "    identifier = (data['Date'] == key)\n",
    "    data.loc[identifier, 'SeverityRatio_30days'] = value\n",
    "tic2 = time.time()\n",
    "print(tic2 - tic)"
   ]
  },
  {
   "cell_type": "code",
   "execution_count": 79,
   "id": "8f1178ab-6b74-4201-b6f0-1f1bca579010",
   "metadata": {},
   "outputs": [
    {
     "name": "stdout",
     "output_type": "stream",
     "text": [
      "start date = 2016-03-14\n",
      "first day in input data = 2016-01-14\n"
     ]
    },
    {
     "name": "stderr",
     "output_type": "stream",
     "text": [
      "/home/kiwi/anaconda3/envs/tcfst/lib/python3.9/site-packages/pandas/core/ops/array_ops.py:73: FutureWarning: Comparison of Timestamp with datetime.date is deprecated in order to match the standard library behavior. In a future version these will be considered non-comparable. Use 'ts == pd.Timestamp(date)' or 'ts.date() == date' instead.\n",
      "  result = libops.scalar_compare(x.ravel(), y, op)\n"
     ]
    },
    {
     "name": "stdout",
     "output_type": "stream",
     "text": [
      "3561.9156391620636\n"
     ]
    }
   ],
   "source": [
    "tic = time.time()\n",
    "c = getSeverityRatioTimePeriodFor(subDataAll, startDate, 60)\n",
    "tic2 = time.time()\n",
    "print(tic2 - tic)"
   ]
  },
  {
   "cell_type": "code",
   "execution_count": 80,
   "id": "1ca22bc7-156f-4931-84d2-3eedb0d91179",
   "metadata": {},
   "outputs": [
    {
     "name": "stdout",
     "output_type": "stream",
     "text": [
      "291.48581981658936\n"
     ]
    }
   ],
   "source": [
    "tic = time.time()\n",
    "data['SeverityRatio_60days']= 0.0\n",
    "for i, (key, value) in enumerate(c.items()):\n",
    "    key = key.date()\n",
    "    identifier = (data['Date'] == key)\n",
    "    data.loc[identifier, 'SeverityRatio_60days'] = value\n",
    "tic2 = time.time()\n",
    "print(tic2 - tic)"
   ]
  },
  {
   "cell_type": "code",
   "execution_count": 81,
   "id": "4953a3a1-a349-489c-9ee9-5f0b5b79c313",
   "metadata": {},
   "outputs": [],
   "source": [
    "# data2 = data[data['Start_Time']>'2020-12-01']"
   ]
  },
  {
   "cell_type": "code",
   "execution_count": 82,
   "id": "e0216794-c7f4-402f-828b-05bebc976af8",
   "metadata": {},
   "outputs": [
    {
     "name": "stdout",
     "output_type": "stream",
     "text": [
      "start date = 2016-03-14\n",
      "first day in input data = 2016-01-14\n"
     ]
    },
    {
     "name": "stderr",
     "output_type": "stream",
     "text": [
      "/home/kiwi/anaconda3/envs/tcfst/lib/python3.9/site-packages/pandas/core/ops/array_ops.py:73: FutureWarning: Comparison of Timestamp with datetime.date is deprecated in order to match the standard library behavior. In a future version these will be considered non-comparable. Use 'ts == pd.Timestamp(date)' or 'ts.date() == date' instead.\n",
      "  result = libops.scalar_compare(x.ravel(), y, op)\n"
     ]
    },
    {
     "name": "stdout",
     "output_type": "stream",
     "text": [
      "3557.0104110240936\n"
     ]
    }
   ],
   "source": [
    "tic = time.time()\n",
    "d = getSeverityRatioTimePeriodFor(subDataAll, startDate, 90)\n",
    "tic2 = time.time()\n",
    "print(tic2 - tic)"
   ]
  },
  {
   "cell_type": "code",
   "execution_count": 83,
   "id": "46352216-1f70-44c8-8644-98e555ddd045",
   "metadata": {},
   "outputs": [
    {
     "name": "stdout",
     "output_type": "stream",
     "text": [
      "292.4429078102112\n"
     ]
    }
   ],
   "source": [
    "tic = time.time()\n",
    "data['SeverityRatio_90days']= 0.0\n",
    "for i, (key, value) in enumerate(d.items()):\n",
    "    key = key.date()\n",
    "    identifier = (data['Date'] == key)\n",
    "    data.loc[identifier, 'SeverityRatio_90days'] = value\n",
    "tic2 = time.time()\n",
    "print(tic2 - tic)"
   ]
  },
  {
   "cell_type": "markdown",
   "id": "5ac92795-4816-4acf-8332-d80ca8dcc7e7",
   "metadata": {},
   "source": [
    "# **Death Rate & Death Rate2**"
   ]
  },
  {
   "cell_type": "code",
   "execution_count": 85,
   "id": "c1a6d337-864e-451b-bc4f-4ebaae42ef33",
   "metadata": {},
   "outputs": [],
   "source": [
    "dr = pd.read_csv('DeathRate.csv',header=0)"
   ]
  },
  {
   "cell_type": "code",
   "execution_count": 86,
   "id": "dd3000ad-90d8-4fec-91dd-a0c283d0ff2c",
   "metadata": {},
   "outputs": [],
   "source": [
    "data['DeathRate']=1.0"
   ]
  },
  {
   "cell_type": "code",
   "execution_count": 87,
   "id": "59714884-853c-4c48-a051-df743011d9c8",
   "metadata": {},
   "outputs": [],
   "source": [
    "stateNames = data['State'].value_counts().index.tolist()\n",
    "\n",
    "for state in stateNames:\n",
    "    identifier = data['State'] == state\n",
    "    data.loc[identifier, 'DeathRate'] = dr.loc[0, state]"
   ]
  },
  {
   "cell_type": "code",
   "execution_count": 88,
   "id": "1c433a4c-81f5-4c08-a22f-4819268273ee",
   "metadata": {},
   "outputs": [],
   "source": [
    "dr2 = pd.read_csv('DeathRate2.csv',header=0)"
   ]
  },
  {
   "cell_type": "code",
   "execution_count": 89,
   "id": "5fea673e-ef9d-4d69-981e-a1d8bfcc77a9",
   "metadata": {},
   "outputs": [],
   "source": [
    "data['DeathRate2']=1.0"
   ]
  },
  {
   "cell_type": "code",
   "execution_count": 90,
   "id": "397c7a14-55e5-4828-9e35-4276a670e038",
   "metadata": {},
   "outputs": [],
   "source": [
    "stateNames = data['State'].value_counts().index.tolist()\n",
    "\n",
    "for state in stateNames:\n",
    "    identifier = data['State'] == state\n",
    "    data.loc[identifier, 'DeathVehicle'] = dr2.loc[0, state]"
   ]
  },
  {
   "cell_type": "code",
   "execution_count": 91,
   "id": "a240a60e-ef5b-4b99-8b35-7c19e4553b12",
   "metadata": {},
   "outputs": [],
   "source": [
    "data.to_csv('us_final.csv', index=False)"
   ]
  }
 ],
 "metadata": {
  "kernelspec": {
   "display_name": "Python 3 (ipykernel)",
   "language": "python",
   "name": "python3"
  },
  "language_info": {
   "codemirror_mode": {
    "name": "ipython",
    "version": 3
   },
   "file_extension": ".py",
   "mimetype": "text/x-python",
   "name": "python",
   "nbconvert_exporter": "python",
   "pygments_lexer": "ipython3",
   "version": "3.7.1"
  }
 },
 "nbformat": 4,
 "nbformat_minor": 5
}
