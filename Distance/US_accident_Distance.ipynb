{
 "cells": [
  {
   "cell_type": "markdown",
   "id": "38638210-50e3-4bde-9a0f-653bf249b9b2",
   "metadata": {},
   "source": [
    "# **Data Source:**\n",
    "https://www.kaggle.com/datasets/sobhanmoosavi/us-accidents; https://www.iihs.org/topics/fatality-statistics"
   ]
  },
  {
   "cell_type": "markdown",
   "id": "0f949732-dc9f-42bf-8d3b-1bfc0c381afa",
   "metadata": {},
   "source": [
    "# **Import Modules**"
   ]
  },
  {
   "cell_type": "code",
   "execution_count": 1,
   "id": "1f4c6816-7807-4a71-89fd-497229a87aa1",
   "metadata": {},
   "outputs": [],
   "source": [
    "import numpy as np\n",
    "import pandas as pd\n",
    "import matplotlib.pyplot as plt\n",
    "import seaborn as sns\n",
    "import numpy"
   ]
  },
  {
   "cell_type": "markdown",
   "id": "4b7d9882-6244-44bc-846d-8c95122140c6",
   "metadata": {},
   "source": [
    "# **Read Raw Data**"
   ]
  },
  {
   "cell_type": "code",
   "execution_count": 2,
   "id": "6e716201-b165-44eb-9461-cafb59cbedb9",
   "metadata": {},
   "outputs": [],
   "source": [
    "dataRaw=pd.read_csv('./US_Accidents_Dec21_updated.csv', header=0)"
   ]
  },
  {
   "cell_type": "code",
   "execution_count": 3,
   "id": "3d20395e-d3c6-48c1-9d92-2853eee645ed",
   "metadata": {},
   "outputs": [
    {
     "data": {
      "text/plain": [
       "['ID',\n",
       " 'Severity',\n",
       " 'Start_Time',\n",
       " 'End_Time',\n",
       " 'Start_Lat',\n",
       " 'Start_Lng',\n",
       " 'End_Lat',\n",
       " 'End_Lng',\n",
       " 'Distance(mi)',\n",
       " 'Description',\n",
       " 'Number',\n",
       " 'Street',\n",
       " 'Side',\n",
       " 'City',\n",
       " 'County',\n",
       " 'State',\n",
       " 'Zipcode',\n",
       " 'Country',\n",
       " 'Timezone',\n",
       " 'Airport_Code',\n",
       " 'Weather_Timestamp',\n",
       " 'Temperature(F)',\n",
       " 'Wind_Chill(F)',\n",
       " 'Humidity(%)',\n",
       " 'Pressure(in)',\n",
       " 'Visibility(mi)',\n",
       " 'Wind_Direction',\n",
       " 'Wind_Speed(mph)',\n",
       " 'Precipitation(in)',\n",
       " 'Weather_Condition',\n",
       " 'Amenity',\n",
       " 'Bump',\n",
       " 'Crossing',\n",
       " 'Give_Way',\n",
       " 'Junction',\n",
       " 'No_Exit',\n",
       " 'Railway',\n",
       " 'Roundabout',\n",
       " 'Station',\n",
       " 'Stop',\n",
       " 'Traffic_Calming',\n",
       " 'Traffic_Signal',\n",
       " 'Turning_Loop',\n",
       " 'Sunrise_Sunset',\n",
       " 'Civil_Twilight',\n",
       " 'Nautical_Twilight',\n",
       " 'Astronomical_Twilight']"
      ]
     },
     "execution_count": 3,
     "metadata": {},
     "output_type": "execute_result"
    }
   ],
   "source": [
    "dataRaw.columns.to_list()"
   ]
  },
  {
   "cell_type": "code",
   "execution_count": 4,
   "id": "d1101bab-326b-4b05-921f-2580a9fa1d9d",
   "metadata": {},
   "outputs": [],
   "source": [
    "data = dataRaw"
   ]
  },
  {
   "cell_type": "code",
   "execution_count": 5,
   "id": "7b285f0e-d078-4801-8072-8d6125b49c91",
   "metadata": {},
   "outputs": [],
   "source": [
    "data['Start_Time'] = pd.to_datetime(data['Start_Time'], errors='coerce')\n",
    "data['Date'] = pd.to_datetime(data['Start_Time'], errors='coerce').dt.date"
   ]
  },
  {
   "cell_type": "code",
   "execution_count": 6,
   "id": "5b0a40f2-3d4e-4194-95c1-84cc9fc19bf4",
   "metadata": {},
   "outputs": [
    {
     "data": {
      "text/plain": [
       "datetime.date(2016, 1, 14)"
      ]
     },
     "execution_count": 6,
     "metadata": {},
     "output_type": "execute_result"
    }
   ],
   "source": [
    "data['Date'].min()"
   ]
  },
  {
   "cell_type": "markdown",
   "id": "479740c5-e6b5-4b69-bd87-1cb688be7b2a",
   "metadata": {},
   "source": [
    "# **Drop Redundant/unrelated Columns**"
   ]
  },
  {
   "cell_type": "code",
   "execution_count": 7,
   "id": "dac5288d-69ba-4488-a65d-81bb1491811a",
   "metadata": {},
   "outputs": [
    {
     "name": "stdout",
     "output_type": "stream",
     "text": [
      "<class 'pandas.core.frame.DataFrame'>\n",
      "RangeIndex: 2845342 entries, 0 to 2845341\n",
      "Data columns (total 37 columns):\n",
      " #   Column                 Dtype         \n",
      "---  ------                 -----         \n",
      " 0   Severity               int64         \n",
      " 1   Start_Time             datetime64[ns]\n",
      " 2   End_Time               object        \n",
      " 3   Start_Lat              float64       \n",
      " 4   Start_Lng              float64       \n",
      " 5   Distance(mi)           float64       \n",
      " 6   Description            object        \n",
      " 7   Side                   object        \n",
      " 8   City                   object        \n",
      " 9   County                 object        \n",
      " 10  State                  object        \n",
      " 11  Temperature(F)         float64       \n",
      " 12  Wind_Chill(F)          float64       \n",
      " 13  Humidity(%)            float64       \n",
      " 14  Pressure(in)           float64       \n",
      " 15  Visibility(mi)         float64       \n",
      " 16  Wind_Direction         object        \n",
      " 17  Wind_Speed(mph)        float64       \n",
      " 18  Precipitation(in)      float64       \n",
      " 19  Weather_Condition      object        \n",
      " 20  Amenity                bool          \n",
      " 21  Bump                   bool          \n",
      " 22  Crossing               bool          \n",
      " 23  Give_Way               bool          \n",
      " 24  Junction               bool          \n",
      " 25  No_Exit                bool          \n",
      " 26  Railway                bool          \n",
      " 27  Roundabout             bool          \n",
      " 28  Station                bool          \n",
      " 29  Stop                   bool          \n",
      " 30  Traffic_Calming        bool          \n",
      " 31  Traffic_Signal         bool          \n",
      " 32  Sunrise_Sunset         object        \n",
      " 33  Civil_Twilight         object        \n",
      " 34  Nautical_Twilight      object        \n",
      " 35  Astronomical_Twilight  object        \n",
      " 36  Date                   object        \n",
      "dtypes: bool(12), datetime64[ns](1), float64(10), int64(1), object(13)\n",
      "memory usage: 575.3+ MB\n"
     ]
    }
   ],
   "source": [
    "data = data.drop(\n",
    "['ID',\n",
    " 'End_Lat',\n",
    " 'End_Lng',\n",
    " 'Number',\n",
    " 'Street',\n",
    " 'Zipcode',\n",
    " 'Country',\n",
    " 'Timezone',\n",
    " 'Airport_Code',\n",
    " 'Weather_Timestamp',\n",
    " 'Turning_Loop'  # All values in Turning_Loop are 'False'\n",
    "], axis=1)\n",
    "\n",
    "data.info()"
   ]
  },
  {
   "cell_type": "markdown",
   "id": "1ad90eb1-119d-4a1b-ab81-c5869e80ee46",
   "metadata": {},
   "source": [
    "# **Distance Biscetion**"
   ]
  },
  {
   "cell_type": "raw",
   "id": "38527ccf-4828-470c-a947-eb4fa514a555",
   "metadata": {},
   "source": [
    "data['Distance(mi)'].describe()"
   ]
  },
  {
   "cell_type": "raw",
   "id": "416682db-b5c7-4627-aff4-f3c154ebbabe",
   "metadata": {},
   "source": [
    "q1 = data['Distance(mi)'].quantile([0.25]).loc[0.25]\n",
    "q2 = data['Distance(mi)'].quantile([0.5]).loc[0.5]\n",
    "q3 = data['Distance(mi)'].quantile([0.75]).loc[0.75]\n",
    "print(q1)"
   ]
  },
  {
   "cell_type": "raw",
   "id": "9884e48a-8e88-4fab-9619-59bfaf8f5ffa",
   "metadata": {},
   "source": [
    "((data['Distance(mi)']>q1)&(data['Distance(mi)']<=q2)).sum()\n",
    "((data['Distance(mi)']>q2)&(data['Distance(mi)']<=q3)).sum()"
   ]
  },
  {
   "cell_type": "code",
   "execution_count": 8,
   "id": "562e750b-b8f5-4e48-b38e-672108c6369f",
   "metadata": {},
   "outputs": [],
   "source": [
    "data['Distance_Bisection'] = 0"
   ]
  },
  {
   "cell_type": "raw",
   "id": "165fb4b4-4ba1-446e-815a-ca158501ad6b",
   "metadata": {},
   "source": [
    "data['Distance_Bisection'][(data['Distance(mi)']>=q3)] = 4\n",
    "data['Distance_Bisection'][(data['Distance(mi)']>q1)&(data['Distance(mi)']<=q2)] = 2\n",
    "data['Distance_Bisection'][(data['Distance(mi)']>q2)&(data['Distance(mi)']<=q3)] =3"
   ]
  },
  {
   "cell_type": "code",
   "execution_count": 9,
   "id": "0508638f-6822-4c6e-8faf-752889274e36",
   "metadata": {},
   "outputs": [],
   "source": [
    "data.loc[data['Distance(mi)']>0.00621371192, 'Distance_Bisection'] = 1"
   ]
  },
  {
   "cell_type": "markdown",
   "id": "ebd74c45-7ced-4915-9189-53868e9f4c83",
   "metadata": {},
   "source": [
    "# **Wind Direction = Calm**"
   ]
  },
  {
   "cell_type": "code",
   "execution_count": 10,
   "id": "d5925109-ff15-4c89-898f-94638b221fd1",
   "metadata": {},
   "outputs": [],
   "source": [
    "# When Wind Direction is Calm, the value of Wind_Chill(F) and Wind_Speed(mph) will be null,\n",
    "# which is not reasonable."
   ]
  },
  {
   "cell_type": "code",
   "execution_count": 11,
   "id": "f23a8289-8819-4e99-8a26-7ba34b28b93f",
   "metadata": {},
   "outputs": [],
   "source": [
    "ind = (data['Wind_Direction'] == 'Calm')"
   ]
  },
  {
   "cell_type": "code",
   "execution_count": 12,
   "id": "cbded121-2b51-4b66-b5a1-9896588de833",
   "metadata": {},
   "outputs": [],
   "source": [
    "data.loc[ind,'Wind_Speed(mph)'] = 0\n",
    "data.loc[ind, 'Wind_Chill(F)'] = data['Temperature(F)']"
   ]
  },
  {
   "cell_type": "markdown",
   "id": "5e0deb6b-a230-4d49-91fe-29bb289de405",
   "metadata": {},
   "source": [
    "# **Drop all the null Values**"
   ]
  },
  {
   "cell_type": "code",
   "execution_count": 13,
   "id": "db1106e8-95a4-4f04-92ec-271b4810d27a",
   "metadata": {
    "tags": []
   },
   "outputs": [
    {
     "data": {
      "text/plain": [
       "Severity                      0\n",
       "Start_Time                    0\n",
       "End_Time                      0\n",
       "Start_Lat                     0\n",
       "Start_Lng                     0\n",
       "Distance(mi)                  0\n",
       "Description                   0\n",
       "Side                          0\n",
       "City                        137\n",
       "County                        0\n",
       "State                         0\n",
       "Temperature(F)            69274\n",
       "Wind_Chill(F)            393478\n",
       "Humidity(%)               73092\n",
       "Pressure(in)              59200\n",
       "Visibility(mi)            70546\n",
       "Wind_Direction            73775\n",
       "Wind_Speed(mph)           81410\n",
       "Precipitation(in)        549458\n",
       "Weather_Condition         70636\n",
       "Amenity                       0\n",
       "Bump                          0\n",
       "Crossing                      0\n",
       "Give_Way                      0\n",
       "Junction                      0\n",
       "No_Exit                       0\n",
       "Railway                       0\n",
       "Roundabout                    0\n",
       "Station                       0\n",
       "Stop                          0\n",
       "Traffic_Calming               0\n",
       "Traffic_Signal                0\n",
       "Sunrise_Sunset             2867\n",
       "Civil_Twilight             2867\n",
       "Nautical_Twilight          2867\n",
       "Astronomical_Twilight      2867\n",
       "Date                          0\n",
       "Distance_Bisection            0\n",
       "dtype: int64"
      ]
     },
     "execution_count": 13,
     "metadata": {},
     "output_type": "execute_result"
    }
   ],
   "source": [
    "data.isna().sum()"
   ]
  },
  {
   "cell_type": "code",
   "execution_count": 14,
   "id": "7a9fdccd-8379-4485-870b-7ac57f7ad01d",
   "metadata": {},
   "outputs": [],
   "source": [
    "data = data.dropna()\n",
    "data = data.reset_index(drop=True)"
   ]
  },
  {
   "cell_type": "markdown",
   "id": "1d391905-4f98-49ec-9fbe-712711301782",
   "metadata": {},
   "source": [
    "# **Starting Date & Feature Etraction(weekday, Month)**"
   ]
  },
  {
   "cell_type": "code",
   "execution_count": 15,
   "id": "54dd1563-b6ea-472d-852b-bfcf542c896a",
   "metadata": {},
   "outputs": [
    {
     "name": "stdout",
     "output_type": "stream",
     "text": [
      "The Srarting Date is 2016-01-14\n"
     ]
    }
   ],
   "source": [
    "import datetime\n",
    "data['Start_Time'] = pd.to_datetime(data['Start_Time'], errors='coerce')\n",
    "date = pd.to_datetime(data['Start_Time'], errors='coerce').dt.date\n",
    "print('The Srarting Date is {}'.format(date.min()))"
   ]
  },
  {
   "cell_type": "code",
   "execution_count": 16,
   "id": "7cb7f8df-aa3c-4acf-a535-92709b411e5e",
   "metadata": {},
   "outputs": [
    {
     "data": {
      "text/plain": [
       "0    Mon\n",
       "1    Mon\n",
       "2    Mon\n",
       "3    Mon\n",
       "4    Mon\n",
       "Name: Weekday, dtype: object"
      ]
     },
     "execution_count": 16,
     "metadata": {},
     "output_type": "execute_result"
    }
   ],
   "source": [
    "data['Weekday']=data['Start_Time'].dt.strftime('%a')\n",
    "data['Weekday'].head()"
   ]
  },
  {
   "cell_type": "code",
   "execution_count": 17,
   "id": "aa69b12a-3911-475e-9855-30e20642a5bd",
   "metadata": {},
   "outputs": [
    {
     "name": "stdout",
     "output_type": "stream",
     "text": [
      "['Fri', 'Thu', 'Wed', 'Tue', 'Mon', 'Sat', 'Sun']\n"
     ]
    }
   ],
   "source": [
    "weekday = data['Weekday'].value_counts().index.tolist()\n",
    "print(weekday)"
   ]
  },
  {
   "cell_type": "code",
   "execution_count": 18,
   "id": "dbd73f5f-bd3a-40d2-ad62-51a7dc52f90e",
   "metadata": {},
   "outputs": [
    {
     "name": "stdout",
     "output_type": "stream",
     "text": [
      "Fri 5.482395087001024\n",
      "Thu 5.549878390672286\n",
      "Wed 5.932800836971611\n",
      "Tue 5.6719266938022574\n",
      "Mon 5.521435754304595\n",
      "Sat 6.398295736583751\n",
      "Sun 6.0871594061021375\n"
     ]
    }
   ],
   "source": [
    "data['DistanceRatio_Weekday'] = 0.0\n",
    "for day in weekday:\n",
    "    ind = (data['Weekday'] == day)\n",
    "    tmpData = data[ind]\n",
    "    severityRatio = ((tmpData['Distance_Bisection'] == 1).sum())/((tmpData['Distance_Bisection'] == 0).sum())\n",
    "    print(day, severityRatio)\n",
    "    data.loc[ind, 'DistanceRatio_Weekday'] = severityRatio"
   ]
  },
  {
   "cell_type": "code",
   "execution_count": 19,
   "id": "53cc986c-18c6-400b-8a37-2d5f1209cbb2",
   "metadata": {},
   "outputs": [],
   "source": [
    "data['Month'] = data['Start_Time'].dt.strftime('%b')"
   ]
  },
  {
   "cell_type": "code",
   "execution_count": 20,
   "id": "72ad28d5-ee7f-4368-9b55-0624c1881539",
   "metadata": {},
   "outputs": [
    {
     "name": "stdout",
     "output_type": "stream",
     "text": [
      "Dec 10.883755985103742\n",
      "Nov 18.848185483870967\n",
      "Oct 8.966181364392678\n",
      "Sep 8.036576550527686\n",
      "Jun 2.9371457445406213\n",
      "Feb 4.140103649013205\n",
      "Jan 3.760181145048261\n",
      "May 2.3057089800971338\n",
      "Apr 1.9717731129968736\n",
      "Aug 22.89172452617752\n",
      "Jul 63.25892351274788\n",
      "Mar 1.9735192212506187\n"
     ]
    }
   ],
   "source": [
    "months = data['Month'].value_counts().index.tolist()\n",
    "data['DistanceRatio_Month'] = 0.0\n",
    "for m in months:\n",
    "    ind = (data['Month'] == m)\n",
    "    tmpData = data[ind]\n",
    "    severityRatio = ((tmpData['Distance_Bisection'] == 1).sum())/((tmpData['Distance_Bisection'] == 0).sum())\n",
    "    print(m, severityRatio)\n",
    "    data.loc[ind, 'DistanceRatio_Month'] = severityRatio"
   ]
  },
  {
   "cell_type": "code",
   "execution_count": 21,
   "id": "9b9a1b04-b119-4c6e-97fc-858ebe3ef5c7",
   "metadata": {},
   "outputs": [],
   "source": [
    "data['hour']=data['Start_Time'].dt.hour"
   ]
  },
  {
   "cell_type": "markdown",
   "id": "95817c20-cdc5-4148-a0f9-63f459202e29",
   "metadata": {},
   "source": [
    "# **Day-Night Data**"
   ]
  },
  {
   "cell_type": "code",
   "execution_count": 22,
   "id": "baa4cdcd-8dc4-43d0-be04-b26ab2c29fcf",
   "metadata": {},
   "outputs": [
    {
     "data": {
      "text/html": [
       "<div>\n",
       "<style scoped>\n",
       "    .dataframe tbody tr th:only-of-type {\n",
       "        vertical-align: middle;\n",
       "    }\n",
       "\n",
       "    .dataframe tbody tr th {\n",
       "        vertical-align: top;\n",
       "    }\n",
       "\n",
       "    .dataframe thead th {\n",
       "        text-align: right;\n",
       "    }\n",
       "</style>\n",
       "<table border=\"1\" class=\"dataframe\">\n",
       "  <thead>\n",
       "    <tr style=\"text-align: right;\">\n",
       "      <th></th>\n",
       "      <th>Distance_Bisection</th>\n",
       "      <th>Sunrise_Sunset</th>\n",
       "      <th>Civil_Twilight</th>\n",
       "      <th>Nautical_Twilight</th>\n",
       "      <th>Astronomical_Twilight</th>\n",
       "    </tr>\n",
       "  </thead>\n",
       "  <tbody>\n",
       "    <tr>\n",
       "      <th>0</th>\n",
       "      <td>1</td>\n",
       "      <td>Night</td>\n",
       "      <td>Night</td>\n",
       "      <td>Night</td>\n",
       "      <td>Night</td>\n",
       "    </tr>\n",
       "    <tr>\n",
       "      <th>1</th>\n",
       "      <td>1</td>\n",
       "      <td>Night</td>\n",
       "      <td>Night</td>\n",
       "      <td>Night</td>\n",
       "      <td>Night</td>\n",
       "    </tr>\n",
       "    <tr>\n",
       "      <th>2</th>\n",
       "      <td>1</td>\n",
       "      <td>Night</td>\n",
       "      <td>Night</td>\n",
       "      <td>Night</td>\n",
       "      <td>Day</td>\n",
       "    </tr>\n",
       "    <tr>\n",
       "      <th>3</th>\n",
       "      <td>1</td>\n",
       "      <td>Day</td>\n",
       "      <td>Day</td>\n",
       "      <td>Day</td>\n",
       "      <td>Day</td>\n",
       "    </tr>\n",
       "    <tr>\n",
       "      <th>4</th>\n",
       "      <td>1</td>\n",
       "      <td>Day</td>\n",
       "      <td>Day</td>\n",
       "      <td>Day</td>\n",
       "      <td>Day</td>\n",
       "    </tr>\n",
       "    <tr>\n",
       "      <th>5</th>\n",
       "      <td>1</td>\n",
       "      <td>Day</td>\n",
       "      <td>Day</td>\n",
       "      <td>Day</td>\n",
       "      <td>Day</td>\n",
       "    </tr>\n",
       "    <tr>\n",
       "      <th>6</th>\n",
       "      <td>1</td>\n",
       "      <td>Day</td>\n",
       "      <td>Day</td>\n",
       "      <td>Day</td>\n",
       "      <td>Day</td>\n",
       "    </tr>\n",
       "    <tr>\n",
       "      <th>7</th>\n",
       "      <td>1</td>\n",
       "      <td>Day</td>\n",
       "      <td>Day</td>\n",
       "      <td>Day</td>\n",
       "      <td>Day</td>\n",
       "    </tr>\n",
       "    <tr>\n",
       "      <th>8</th>\n",
       "      <td>1</td>\n",
       "      <td>Day</td>\n",
       "      <td>Day</td>\n",
       "      <td>Day</td>\n",
       "      <td>Day</td>\n",
       "    </tr>\n",
       "    <tr>\n",
       "      <th>9</th>\n",
       "      <td>1</td>\n",
       "      <td>Night</td>\n",
       "      <td>Night</td>\n",
       "      <td>Night</td>\n",
       "      <td>Night</td>\n",
       "    </tr>\n",
       "  </tbody>\n",
       "</table>\n",
       "</div>"
      ],
      "text/plain": [
       "   Distance_Bisection Sunrise_Sunset Civil_Twilight Nautical_Twilight  \\\n",
       "0                   1          Night          Night             Night   \n",
       "1                   1          Night          Night             Night   \n",
       "2                   1          Night          Night             Night   \n",
       "3                   1            Day            Day               Day   \n",
       "4                   1            Day            Day               Day   \n",
       "5                   1            Day            Day               Day   \n",
       "6                   1            Day            Day               Day   \n",
       "7                   1            Day            Day               Day   \n",
       "8                   1            Day            Day               Day   \n",
       "9                   1          Night          Night             Night   \n",
       "\n",
       "  Astronomical_Twilight  \n",
       "0                 Night  \n",
       "1                 Night  \n",
       "2                   Day  \n",
       "3                   Day  \n",
       "4                   Day  \n",
       "5                   Day  \n",
       "6                   Day  \n",
       "7                   Day  \n",
       "8                   Day  \n",
       "9                 Night  "
      ]
     },
     "execution_count": 22,
     "metadata": {},
     "output_type": "execute_result"
    }
   ],
   "source": [
    "subData = data[[\n",
    "                'Distance_Bisection',\n",
    "                'Sunrise_Sunset',\n",
    "                'Civil_Twilight',\n",
    "                'Nautical_Twilight',\n",
    "                'Astronomical_Twilight']]\n",
    "\n",
    "subData.head(10)"
   ]
  },
  {
   "cell_type": "code",
   "execution_count": 23,
   "id": "afe3bb42-b4e5-42ab-82d6-35495c932554",
   "metadata": {},
   "outputs": [
    {
     "name": "stdout",
     "output_type": "stream",
     "text": [
      "2213344\n",
      "AT =  552409\n",
      "NT =  90596\n",
      "CT =  104408\n",
      "SS =  88970\n",
      "Day =  1376961\n"
     ]
    }
   ],
   "source": [
    "# subData = subData.dropna()\n",
    "print(len(subData))\n",
    "\n",
    "identifierAT = subData['Astronomical_Twilight'] == 'Night'\n",
    "\n",
    "identifierNT = subData['Nautical_Twilight'] == 'Night'\n",
    "identifierNT[identifierAT] = False\n",
    "\n",
    "identifierCT = subData['Civil_Twilight'] == 'Night'\n",
    "identifierCT[identifierAT | identifierNT] = False\n",
    "\n",
    "identifierSS = subData['Sunrise_Sunset'] == 'Night'\n",
    "identifierSS[identifierAT | identifierNT | identifierCT] = False\n",
    "\n",
    "identifierDay = (subData['Sunrise_Sunset'] == 'Day') & (subData['Nautical_Twilight'] == 'Day')\\\n",
    "& (subData['Astronomical_Twilight'] == 'Day') & (subData['Civil_Twilight'] == 'Day') \n",
    "\n",
    "print('AT = ', identifierAT.sum())\n",
    "print('NT = ', identifierNT.sum())\n",
    "print('CT = ', identifierCT.sum())\n",
    "print('SS = ', identifierSS.sum())\n",
    "#print('Day = ', len(subData)-identifierAT.sum()-identifierNT.sum()-identifierCT.sum()-identifierSS.sum())\n",
    "print('Day = ', identifierDay.sum())"
   ]
  },
  {
   "cell_type": "code",
   "execution_count": 24,
   "id": "0d976164-8907-4912-b773-f37e59b4c769",
   "metadata": {},
   "outputs": [],
   "source": [
    "data['DistanceRatio_Light'] = 0.0\n",
    "# data['SeverityRatio_Light_denum'] = 1\n",
    "\n",
    "tmp = data[identifierAT]\n",
    "data.loc[identifierAT, 'DistanceRatio_Light'] = (tmp.Distance_Bisection == 1).sum() / (tmp.Distance_Bisection == 0).sum()\n",
    "# data['SeverityRatio_Light_denum'][identifierAT] = (tmp.Severity_Bisection == 1).sum()\n",
    "\n",
    "tmp = data[identifierNT]\n",
    "data.loc[identifierNT, 'DistanceRatio_Light'] = (tmp.Distance_Bisection == 1).sum() / (tmp.Distance_Bisection == 0).sum()\n",
    "# data['SeverityRatio_Light_denum'][identifierNT] = (tmp.Severity_Bisection == 1).sum()\n",
    "\n",
    "tmp = data[identifierCT]\n",
    "data.loc[identifierCT, 'DistanceRatio_Light'] = (tmp.Distance_Bisection == 1).sum() / (tmp.Distance_Bisection == 0).sum()\n",
    "# data['SeverityRatio_Light_denum'][identifierCT] = (tmp.Severity_Bisection == 1).sum()\n",
    "\n",
    "tmp = data[identifierSS]\n",
    "data.loc[identifierSS, 'DistanceRatio_Light'] = (tmp.Distance_Bisection == 1).sum() / (tmp.Distance_Bisection == 0).sum()\n",
    "# data['SeverityRatio_Light_denum'][identifierSS] = (tmp.Severity_Bisection == 1).sum()\n",
    "\n",
    "tmp = data[identifierDay]\n",
    "data.loc[identifierDay, 'DistanceRatio_Light'] = (tmp.Distance_Bisection == 1).sum() / (tmp.Distance_Bisection == 0).sum()\n",
    "# data['SeverityRatio_Light_denum'][identifierDay] = (tmp.Severity_Bisection == 1).sum()"
   ]
  },
  {
   "cell_type": "markdown",
   "id": "048d1a0c-42e9-45b0-8211-1b0abdac07f9",
   "metadata": {},
   "source": [
    "## **Transform of day-night**"
   ]
  },
  {
   "cell_type": "code",
   "execution_count": 25,
   "id": "9df3afe8-9330-4fb6-8ec7-27996d2a07a0",
   "metadata": {},
   "outputs": [],
   "source": [
    "# Classification 1\n",
    "data['DayNight'] = 'Bright'\n",
    "data.loc[data['Astronomical_Twilight']=='Night', 'DayNight'] = 'Dark'\n",
    "identifier = (data['Astronomical_Twilight']=='Day') & (data['Sunrise_Sunset']=='Night')\n",
    "data.loc[identifier, 'DayNight'] = 'Dim'"
   ]
  },
  {
   "cell_type": "code",
   "execution_count": 26,
   "id": "be374a28-dfbb-4e03-8bab-5b362cd89a79",
   "metadata": {},
   "outputs": [],
   "source": [
    "# Classification 2\n",
    "data['Light'] = 'Day'\n",
    "data.loc[data['Astronomical_Twilight']=='Night', 'Light'] = 'AT'\n",
    "data.loc[identifierNT, 'Light'] = 'NT'\n",
    "data.loc[identifierCT, 'Light'] = 'CT'\n",
    "data.loc[identifierSS, 'Light'] = 'SS'"
   ]
  },
  {
   "cell_type": "code",
   "execution_count": null,
   "id": "03677bbe-4016-4ec0-b4f2-d944f22020fe",
   "metadata": {},
   "outputs": [],
   "source": []
  },
  {
   "cell_type": "markdown",
   "id": "ac3f261c-489a-459d-9d15-6117b596eeec",
   "metadata": {},
   "source": [
    "# **Description: Analysis of Road Types**"
   ]
  },
  {
   "cell_type": "markdown",
   "id": "a4e1a2a7-bcab-46f5-a0eb-523391a1a6ee",
   "metadata": {},
   "source": [
    "## type 1"
   ]
  },
  {
   "cell_type": "code",
   "execution_count": 27,
   "id": "703dd2e6-cc4f-4ba5-ae54-3f142fca7780",
   "metadata": {},
   "outputs": [],
   "source": [
    "data['Distance_Road1'] = 0.0\n",
    "data['Distance_Road0'] = 0.0\n",
    "data['RoadType'] = 1"
   ]
  },
  {
   "cell_type": "code",
   "execution_count": 28,
   "id": "eae5234e-6196-4541-aa5c-2119a317c67e",
   "metadata": {},
   "outputs": [],
   "source": [
    "states = data['State'].unique()"
   ]
  },
  {
   "cell_type": "code",
   "execution_count": 29,
   "id": "98552729-3614-49d5-af58-2b322a804fcb",
   "metadata": {},
   "outputs": [
    {
     "name": "stdout",
     "output_type": "stream",
     "text": [
      "['OH' 'IN' 'KY' 'WV' 'PA' 'MI' 'CA' 'MN' 'LA' 'NE' 'MO' 'IA' 'TX' 'ND'\n",
      " 'CO' 'KS' 'WI' 'OK' 'WY' 'SD' 'MS' 'AR' 'SC' 'IL' 'MA' 'RI' 'FL' 'ME'\n",
      " 'NY' 'TN' 'MD' 'NC' 'GA' 'VA' 'NJ' 'CT' 'NH' 'DE' 'VT' 'DC' 'AL' 'MT'\n",
      " 'ID' 'UT' 'AZ' 'NM' 'NV' 'WA' 'OR']\n"
     ]
    }
   ],
   "source": [
    "print(states)"
   ]
  },
  {
   "cell_type": "code",
   "execution_count": 30,
   "id": "23d7d706-5780-49bf-b7c9-edc0806cd9c5",
   "metadata": {},
   "outputs": [],
   "source": [
    "desc = data['Description']\n",
    "stateDict= dict()\n",
    "b = np.full(len(data), False, dtype=bool)\n",
    "allIndicator = pd.Series(b)\n",
    "for state in states:\n",
    "    state1 = state+'-'\n",
    "    state2 = ' '+state+' '\n",
    "    indicator = []\n",
    "    for statement in desc:\n",
    "        # print(statement)\n",
    "        if state1 in statement:\n",
    "            indicator.append(1)\n",
    "        elif state2 in statement:\n",
    "            indicator.append(1)\n",
    "        else:\n",
    "            indicator.append(0)\n",
    "    indicator = pd.Series(indicator).astype(bool)\n",
    "    tmpData = data[indicator]\n",
    "    allIndicator = indicator | allIndicator\n",
    "    \n",
    "    data.loc[indicator, 'Distance_Road1'] = (tmpData['Distance_Bisection']==1).sum()/len(tmpData)\n",
    "    data.loc[indicator, 'Distance_Road0'] = (tmpData['Distance_Bisection']==0).sum()/len(tmpData)\n",
    "    data.loc[indicator, 'RoadType'] = 1\n",
    "\n",
    "dataCombine1 = data[allIndicator]\n",
    "    "
   ]
  },
  {
   "cell_type": "markdown",
   "id": "d8ebbbfa-6d5a-4b79-be30-05bbc6134325",
   "metadata": {},
   "source": [
    "## type 2"
   ]
  },
  {
   "cell_type": "code",
   "execution_count": 31,
   "id": "cb6b58c4-43fb-4559-8f7b-eb242aa13430",
   "metadata": {},
   "outputs": [],
   "source": [
    "data2 = data[~allIndicator]\n",
    "data2 = data2.reset_index(drop=True)\n",
    "# data2"
   ]
  },
  {
   "cell_type": "code",
   "execution_count": 32,
   "id": "7cf94192-53ee-4930-9828-ae12ffaa62ab",
   "metadata": {},
   "outputs": [
    {
     "name": "stdout",
     "output_type": "stream",
     "text": [
      "1496961\n"
     ]
    }
   ],
   "source": [
    "desc = data2['Description']\n",
    "print(len(data2))\n",
    "stateDict= dict()\n",
    "\n",
    "indicator = []\n",
    "for statement in desc:\n",
    "    # print(statement)\n",
    "    if 'US-' in statement:\n",
    "        indicator.append(1)\n",
    "    elif ' US ' in statement:\n",
    "        indicator.append(1)\n",
    "    else:\n",
    "        indicator.append(0)\n",
    "indicator = pd.Series(indicator).astype(bool)\n",
    "\n",
    "tmpData = data2[indicator]\n",
    "\n",
    "data2.loc[indicator, 'Distance_Road1'] = (tmpData['Distance_Bisection']==1).sum()/len(tmpData)\n",
    "data2.loc[indicator, 'Distance_Road0'] = (tmpData['Distance_Bisection']==0).sum()/len(tmpData)\n",
    "data2.loc[indicator, 'RoadType'] = 2\n",
    "\n",
    "dataCombine2 = data2[indicator]"
   ]
  },
  {
   "cell_type": "code",
   "execution_count": 33,
   "id": "48b8f93f-c10d-432f-a559-c1c754ee8500",
   "metadata": {},
   "outputs": [],
   "source": [
    "data3 = data2[~indicator]\n",
    "data3 = data3.reset_index(drop=True)"
   ]
  },
  {
   "cell_type": "code",
   "execution_count": 34,
   "id": "f3475c30-38af-43b8-a722-02ac39263e9c",
   "metadata": {},
   "outputs": [],
   "source": [
    "# data2.to_csv('tmp.csv',index=False)"
   ]
  },
  {
   "cell_type": "code",
   "execution_count": 35,
   "id": "a38902fc-1ab9-46f0-81cf-83413f36fc94",
   "metadata": {},
   "outputs": [
    {
     "name": "stdout",
     "output_type": "stream",
     "text": [
      "1293552\n"
     ]
    }
   ],
   "source": [
    "desc = data3['Description']\n",
    "print(len(data3))\n",
    "stateDict= dict()\n",
    "\n",
    "indicator = []\n",
    "for statement in desc:\n",
    "    if 'I-' in statement:\n",
    "        indicator.append(1)\n",
    "    else:\n",
    "        indicator.append(0)\n",
    "indicator = pd.Series(indicator).astype(bool)\n",
    "\n",
    "tmpData = data3[indicator]\n",
    "\n",
    "data3.loc[indicator, 'Distance_Road1'] = (tmpData['Distance_Bisection']==1).sum()/len(tmpData)\n",
    "data3.loc[indicator, 'Distance_Road0'] = (tmpData['Distance_Bisection']==0).sum()/len(tmpData)\n",
    "data3.loc[indicator, 'RoadType'] = 3\n",
    "\n",
    "dataCombine3 = data3[indicator]"
   ]
  },
  {
   "cell_type": "markdown",
   "id": "247164ff-9151-463d-8e1a-3563bc9adbd9",
   "metadata": {},
   "source": [
    "## type 3"
   ]
  },
  {
   "cell_type": "code",
   "execution_count": 36,
   "id": "d61db007-baee-4419-be09-5b01bb7e3ec4",
   "metadata": {},
   "outputs": [],
   "source": [
    "data4 = data3[~indicator]\n",
    "data4 = data4.reset_index(drop=True)"
   ]
  },
  {
   "cell_type": "code",
   "execution_count": 37,
   "id": "6db95764-5333-4d54-acf8-ea09a59b2387",
   "metadata": {},
   "outputs": [],
   "source": [
    "data4['Distance_Road1'] = (data4['Distance_Bisection']==1).sum()/len(tmpData)\n",
    "data4['Distance_Road0'] = (data4['Distance_Bisection']==0).sum()/len(tmpData)\n",
    "data4.loc[indicator, 'RoadType'] = 4"
   ]
  },
  {
   "cell_type": "code",
   "execution_count": 38,
   "id": "d3e1789f-f0fe-4a56-bba7-c73f49165601",
   "metadata": {},
   "outputs": [],
   "source": [
    "df = pd.concat([dataCombine1,dataCombine2,dataCombine3,data4], ignore_index=True)\n",
    "data = df"
   ]
  },
  {
   "cell_type": "markdown",
   "id": "1fe284d6-468f-40e1-a984-581f082d2405",
   "metadata": {},
   "source": [
    "## **Highway labeling**"
   ]
  },
  {
   "cell_type": "code",
   "execution_count": 39,
   "id": "5b4ba9b4-9b89-498f-a4a3-f4598e7574de",
   "metadata": {},
   "outputs": [],
   "source": [
    "desc = data['Description']\n",
    "highwayIdentifier = []\n",
    "for str in desc:\n",
    "    str = str.lower()\n",
    "    if 'highway' in str:\n",
    "        highwayIdentifier.append(1)\n",
    "    elif 'hwy' in str:\n",
    "        highwayIdentifier.append(1)\n",
    "    else:\n",
    "        highwayIdentifier.append(0)\n",
    "highwayIdentifier = pd.Series(highwayIdentifier).astype(bool)\n",
    "\n",
    "\n",
    "routeIdentifier = []\n",
    "for str in desc:\n",
    "    str = str.lower()\n",
    "    if 'route' in str:\n",
    "        routeIdentifier.append(1)\n",
    "    else:\n",
    "        routeIdentifier.append(0)\n",
    "routeIdentifier = pd.Series(routeIdentifier).astype(bool)\n",
    "\n",
    "\n",
    "interHwyIdentifier = []\n",
    "for str in desc:\n",
    "    # str = str.lower()\n",
    "    if 'I-' in str:\n",
    "        interHwyIdentifier.append(1)\n",
    "    else:\n",
    "        interHwyIdentifier.append(0)\n",
    "interHwyIdentifier = pd.Series(interHwyIdentifier).astype(bool)"
   ]
  },
  {
   "cell_type": "code",
   "execution_count": 41,
   "id": "be028d00-2eae-4fa4-9838-b33fedffe4cb",
   "metadata": {},
   "outputs": [],
   "source": [
    "data['Highway'] = 'Non-Hwy'\n",
    "data['DistanceRatio_HighWay'] = 0.0\n",
    "\n",
    "data.loc[highwayIdentifier, 'Highway'] = 'highway'\n",
    "tmp = data[highwayIdentifier]\n",
    "data.loc[highwayIdentifier, 'DistanceRatio_HighWay'] = (tmp['Distance_Bisection']==1).sum()/(tmp['Distance_Bisection']==0).sum()\n",
    "\n",
    "data.loc[interHwyIdentifier, 'Highway'] = 'interHwy'\n",
    "tmp = data[interHwyIdentifier]\n",
    "data.loc[interHwyIdentifier, 'DistanceRatio_HighWay'] = (tmp['Distance_Bisection']==1).sum()/(tmp['Distance_Bisection']==0).sum()\n",
    "\n",
    "data.loc[routeIdentifier, 'Highway'] = 'route'\n",
    "tmp = data[routeIdentifier]\n",
    "data.loc[routeIdentifier, 'DistanceRatio_HighWay'][routeIdentifier] = (tmp['Distance_Bisection']==1).sum()/(tmp['Distance_Bisection']==0).sum()\n",
    "\n",
    "identifier = (routeIdentifier | highwayIdentifier | interHwyIdentifier)\n",
    "tmp = data[~identifier]\n",
    "data.loc[~identifier, 'DistanceRatio_HighWay'] = (tmp['Distance_Bisection']==1).sum()/(tmp['Distance_Bisection']==0).sum()\n"
   ]
  },
  {
   "cell_type": "markdown",
   "id": "8eb33252-cfb5-44b8-bc81-3a3e7d97fbc5",
   "metadata": {},
   "source": [
    "# **Death Rate & Death Vehicle**"
   ]
  },
  {
   "cell_type": "code",
   "execution_count": 42,
   "id": "7376be4b-b892-4e14-bf79-cdf2627836ee",
   "metadata": {},
   "outputs": [],
   "source": [
    "dr = pd.read_csv('DeathRate.csv',header=0)"
   ]
  },
  {
   "cell_type": "code",
   "execution_count": 43,
   "id": "78c762ff-826b-40ed-9242-9e177021a84e",
   "metadata": {},
   "outputs": [],
   "source": [
    "data['DeathRate']=1.0"
   ]
  },
  {
   "cell_type": "code",
   "execution_count": 44,
   "id": "98b7c13e-7ed1-4dc4-a246-56a0207a8d4a",
   "metadata": {},
   "outputs": [],
   "source": [
    "stateNames = data['State'].value_counts().index.tolist()\n",
    "\n",
    "for state in stateNames:\n",
    "    identifier = data['State'] == state\n",
    "    data.loc[identifier, 'DeathRate'] = dr.loc[0, state]"
   ]
  },
  {
   "cell_type": "code",
   "execution_count": 45,
   "id": "53b12faa-f141-46c2-9d74-5dffb7f7dd74",
   "metadata": {},
   "outputs": [],
   "source": [
    "dv = pd.read_csv('DeathVehicle.csv',header=0)"
   ]
  },
  {
   "cell_type": "code",
   "execution_count": 46,
   "id": "d239bb3e-446c-4c0f-90d7-6b6618f4f2e6",
   "metadata": {},
   "outputs": [],
   "source": [
    "data['DeathVehicle']=1.0"
   ]
  },
  {
   "cell_type": "code",
   "execution_count": 47,
   "id": "a9c8cdc4-9f2c-4799-b63e-3e1bdb56d48e",
   "metadata": {},
   "outputs": [],
   "source": [
    "stateNames = data['State'].value_counts().index.tolist()\n",
    "\n",
    "for state in stateNames:\n",
    "    identifier = data['State'] == state\n",
    "    data.loc[identifier, 'DeathVehicle'] = dv.loc[0, state]"
   ]
  },
  {
   "cell_type": "markdown",
   "id": "ce1abb78-ad1e-490d-af7e-56fcd86834b7",
   "metadata": {},
   "source": [
    "# **Model Training**"
   ]
  },
  {
   "cell_type": "code",
   "execution_count": 48,
   "id": "4a621e3b-5ba7-4f29-b89a-87d590f7264f",
   "metadata": {},
   "outputs": [
    {
     "data": {
      "text/plain": [
       "['Severity',\n",
       " 'Start_Time',\n",
       " 'End_Time',\n",
       " 'Start_Lat',\n",
       " 'Start_Lng',\n",
       " 'Distance(mi)',\n",
       " 'Description',\n",
       " 'Side',\n",
       " 'City',\n",
       " 'County',\n",
       " 'State',\n",
       " 'Temperature(F)',\n",
       " 'Wind_Chill(F)',\n",
       " 'Humidity(%)',\n",
       " 'Pressure(in)',\n",
       " 'Visibility(mi)',\n",
       " 'Wind_Direction',\n",
       " 'Wind_Speed(mph)',\n",
       " 'Precipitation(in)',\n",
       " 'Weather_Condition',\n",
       " 'Amenity',\n",
       " 'Bump',\n",
       " 'Crossing',\n",
       " 'Give_Way',\n",
       " 'Junction',\n",
       " 'No_Exit',\n",
       " 'Railway',\n",
       " 'Roundabout',\n",
       " 'Station',\n",
       " 'Stop',\n",
       " 'Traffic_Calming',\n",
       " 'Traffic_Signal',\n",
       " 'Sunrise_Sunset',\n",
       " 'Civil_Twilight',\n",
       " 'Nautical_Twilight',\n",
       " 'Astronomical_Twilight',\n",
       " 'Date',\n",
       " 'Distance_Bisection',\n",
       " 'Weekday',\n",
       " 'DistanceRatio_Weekday',\n",
       " 'Month',\n",
       " 'DistanceRatio_Month',\n",
       " 'hour',\n",
       " 'DistanceRatio_Light',\n",
       " 'DayNight',\n",
       " 'Light',\n",
       " 'Distance_Road1',\n",
       " 'Distance_Road0',\n",
       " 'RoadType',\n",
       " 'Highway',\n",
       " 'DistanceRatio_HighWay',\n",
       " 'DeathRate',\n",
       " 'DeathVehicle']"
      ]
     },
     "execution_count": 48,
     "metadata": {},
     "output_type": "execute_result"
    }
   ],
   "source": [
    "data.columns.to_list()"
   ]
  },
  {
   "cell_type": "code",
   "execution_count": 49,
   "id": "f0802880-c78b-437a-ab7f-18db0dd0d921",
   "metadata": {},
   "outputs": [],
   "source": [
    "data2 = data[['Severity',\n",
    " # 'Start_Time',\n",
    " # 'End_Time',\n",
    " 'Start_Lat',\n",
    " 'Start_Lng',\n",
    " # 'Distance(mi)',\n",
    " # 'Description',\n",
    " 'Side',\n",
    " 'City',\n",
    " 'County',\n",
    " 'State',\n",
    " 'Temperature(F)',\n",
    " 'Wind_Chill(F)',\n",
    " 'Humidity(%)',\n",
    " 'Pressure(in)',\n",
    " 'Visibility(mi)',\n",
    " # 'Wind_Direction',\n",
    " 'Wind_Speed(mph)',\n",
    " 'Precipitation(in)',\n",
    " 'Weather_Condition',\n",
    " 'Amenity',\n",
    " 'Bump',\n",
    " 'Crossing',\n",
    " 'Give_Way',\n",
    " 'Junction',\n",
    " 'No_Exit',\n",
    " 'Railway',\n",
    " 'Roundabout',\n",
    " 'Station',\n",
    " 'Stop',\n",
    " 'Traffic_Calming',\n",
    " 'Traffic_Signal',\n",
    " # 'Sunrise_Sunset',\n",
    " # 'Civil_Twilight',\n",
    " # 'Nautical_Twilight',\n",
    " # 'Astronomical_Twilight',\n",
    " # 'Date',\n",
    " 'Distance_Bisection',\n",
    " 'Weekday',\n",
    " # 'DistanceRatio_Weekday',\n",
    " 'Month',\n",
    " # 'DistanceRatio_Month',\n",
    " 'hour',\n",
    " # 'DistanceRatio_Light',\n",
    " 'DayNight',\n",
    " 'Light',\n",
    " 'Distance_Road1',\n",
    " 'Distance_Road0',\n",
    " 'RoadType',\n",
    " 'Highway',\n",
    " # 'DistanceRatio_HighWay',\n",
    " 'DeathRate',\n",
    " 'DeathVehicle']]"
   ]
  },
  {
   "cell_type": "code",
   "execution_count": 50,
   "id": "9cb53e70-4853-4a66-8222-5004dd3c1c91",
   "metadata": {},
   "outputs": [
    {
     "data": {
      "text/plain": [
       "['Severity',\n",
       " 'Start_Lat',\n",
       " 'Start_Lng',\n",
       " 'Side',\n",
       " 'City',\n",
       " 'County',\n",
       " 'State',\n",
       " 'Temperature(F)',\n",
       " 'Wind_Chill(F)',\n",
       " 'Humidity(%)',\n",
       " 'Pressure(in)',\n",
       " 'Visibility(mi)',\n",
       " 'Wind_Speed(mph)',\n",
       " 'Precipitation(in)',\n",
       " 'Weather_Condition',\n",
       " 'Amenity',\n",
       " 'Bump',\n",
       " 'Crossing',\n",
       " 'Give_Way',\n",
       " 'Junction',\n",
       " 'No_Exit',\n",
       " 'Railway',\n",
       " 'Roundabout',\n",
       " 'Station',\n",
       " 'Stop',\n",
       " 'Traffic_Calming',\n",
       " 'Traffic_Signal',\n",
       " 'Distance_Bisection',\n",
       " 'Weekday',\n",
       " 'Month',\n",
       " 'hour',\n",
       " 'DayNight',\n",
       " 'Light',\n",
       " 'Distance_Road1',\n",
       " 'Distance_Road0',\n",
       " 'RoadType',\n",
       " 'Highway',\n",
       " 'DeathRate',\n",
       " 'DeathVehicle']"
      ]
     },
     "execution_count": 50,
     "metadata": {},
     "output_type": "execute_result"
    }
   ],
   "source": [
    "data2.columns.to_list()"
   ]
  },
  {
   "cell_type": "markdown",
   "id": "99f4d06e-62e2-48ae-a7ff-de2b5a2fb020",
   "metadata": {},
   "source": [
    "## **Label Encoding**"
   ]
  },
  {
   "cell_type": "code",
   "execution_count": 52,
   "id": "1df55e4c-8fe1-4179-9a51-e72eed3e7816",
   "metadata": {},
   "outputs": [
    {
     "name": "stderr",
     "output_type": "stream",
     "text": [
      "C:\\Users\\kiwi\\anaconda3\\envs\\study__py_r\\lib\\site-packages\\pandas\\core\\frame.py:5244: SettingWithCopyWarning: \n",
      "A value is trying to be set on a copy of a slice from a DataFrame\n",
      "\n",
      "See the caveats in the documentation: https://pandas.pydata.org/pandas-docs/stable/user_guide/indexing.html#returning-a-view-versus-a-copy\n",
      "  method=method,\n"
     ]
    }
   ],
   "source": [
    "data2.replace({False: 0, True: 1}, inplace=True)"
   ]
  },
  {
   "cell_type": "code",
   "execution_count": 53,
   "id": "990766f3-29f3-4e59-bde4-ca1cbb22e6b4",
   "metadata": {},
   "outputs": [],
   "source": [
    "# data2.replace({'Day': 0, 'Night': 1}, inplace=True)"
   ]
  },
  {
   "cell_type": "code",
   "execution_count": 54,
   "id": "f79a55de-3ce4-4049-8a0d-a2bc020db23c",
   "metadata": {},
   "outputs": [
    {
     "name": "stderr",
     "output_type": "stream",
     "text": [
      "C:\\Users\\kiwi\\anaconda3\\envs\\study__py_r\\lib\\site-packages\\pandas\\core\\generic.py:6619: SettingWithCopyWarning: \n",
      "A value is trying to be set on a copy of a slice from a DataFrame\n",
      "\n",
      "See the caveats in the documentation: https://pandas.pydata.org/pandas-docs/stable/user_guide/indexing.html#returning-a-view-versus-a-copy\n",
      "  return self._update_inplace(result)\n"
     ]
    }
   ],
   "source": [
    "data2['Side'].replace({'L': 0, 'R': 1}, inplace=True)"
   ]
  },
  {
   "cell_type": "code",
   "execution_count": 55,
   "id": "1e2a2f5c-0433-4da4-822c-e0c28b1edab6",
   "metadata": {},
   "outputs": [],
   "source": [
    "from sklearn.preprocessing import LabelEncoder\n",
    "from sklearn.preprocessing import OneHotEncoder"
   ]
  },
  {
   "cell_type": "code",
   "execution_count": 57,
   "id": "06657dd5-e294-4450-a898-f2db7e7ac1da",
   "metadata": {},
   "outputs": [
    {
     "name": "stderr",
     "output_type": "stream",
     "text": [
      "C:\\Users\\kiwi\\anaconda3\\envs\\study__py_r\\lib\\site-packages\\ipykernel_launcher.py:5: SettingWithCopyWarning: \n",
      "A value is trying to be set on a copy of a slice from a DataFrame.\n",
      "Try using .loc[row_indexer,col_indexer] = value instead\n",
      "\n",
      "See the caveats in the documentation: https://pandas.pydata.org/pandas-docs/stable/user_guide/indexing.html#returning-a-view-versus-a-copy\n",
      "  \"\"\"\n",
      "C:\\Users\\kiwi\\anaconda3\\envs\\study__py_r\\lib\\site-packages\\ipykernel_launcher.py:15: SettingWithCopyWarning: \n",
      "A value is trying to be set on a copy of a slice from a DataFrame.\n",
      "Try using .loc[row_indexer,col_indexer] = value instead\n",
      "\n",
      "See the caveats in the documentation: https://pandas.pydata.org/pandas-docs/stable/user_guide/indexing.html#returning-a-view-versus-a-copy\n",
      "  from ipykernel import kernelapp as app\n",
      "C:\\Users\\kiwi\\anaconda3\\envs\\study__py_r\\lib\\site-packages\\ipykernel_launcher.py:16: SettingWithCopyWarning: \n",
      "A value is trying to be set on a copy of a slice from a DataFrame.\n",
      "Try using .loc[row_indexer,col_indexer] = value instead\n",
      "\n",
      "See the caveats in the documentation: https://pandas.pydata.org/pandas-docs/stable/user_guide/indexing.html#returning-a-view-versus-a-copy\n",
      "  app.launch_new_instance()\n",
      "C:\\Users\\kiwi\\anaconda3\\envs\\study__py_r\\lib\\site-packages\\ipykernel_launcher.py:17: SettingWithCopyWarning: \n",
      "A value is trying to be set on a copy of a slice from a DataFrame.\n",
      "Try using .loc[row_indexer,col_indexer] = value instead\n",
      "\n",
      "See the caveats in the documentation: https://pandas.pydata.org/pandas-docs/stable/user_guide/indexing.html#returning-a-view-versus-a-copy\n"
     ]
    }
   ],
   "source": [
    "labelencoder = LabelEncoder()\n",
    "data2.insert(1,'State_le', labelencoder.fit_transform(data['State']))\n",
    "data2['City'] = labelencoder.fit_transform(data['City'])\n",
    "data2.insert(1,'County_le', labelencoder.fit_transform(data['County']))\n",
    "data2.insert(1,'Weather_Condition_le', labelencoder.fit_transform(data['Weather_Condition']))\n",
    "data2.insert(1,'Month_le', labelencoder.fit_transform(data['Month']))\n",
    "data2.insert(1,'Weekday_le', labelencoder.fit_transform(data['Weekday']))\n",
    "data2.insert(1,'Light_le', labelencoder.fit_transform(data['Light']))\n",
    "data2['Highway'] = labelencoder.fit_transform(data['Highway'])\n",
    "data2['DayNight'] = labelencoder.fit_transform(data['DayNight'])\n",
    "data2['Light'] = labelencoder.fit_transform(data['Light'])\n",
    "data2 = data2.drop(['State',  'Weather_Condition', 'Month', 'Weekday','DayNight'], axis=1)\n",
    "data2 = data2.drop(['County'], axis=1)\n"
   ]
  },
  {
   "cell_type": "code",
   "execution_count": 59,
   "id": "13fbff99-fd7c-498d-85d5-f256c311b1a6",
   "metadata": {},
   "outputs": [
    {
     "data": {
      "text/plain": [
       "['Severity',\n",
       " 'Light_le',\n",
       " 'Weekday_le',\n",
       " 'Month_le',\n",
       " 'Weather_Condition_le',\n",
       " 'County_le',\n",
       " 'State_le',\n",
       " 'Start_Lat',\n",
       " 'Start_Lng',\n",
       " 'Side',\n",
       " 'City',\n",
       " 'Temperature(F)',\n",
       " 'Wind_Chill(F)',\n",
       " 'Humidity(%)',\n",
       " 'Pressure(in)',\n",
       " 'Visibility(mi)',\n",
       " 'Wind_Speed(mph)',\n",
       " 'Precipitation(in)',\n",
       " 'Amenity',\n",
       " 'Bump',\n",
       " 'Crossing',\n",
       " 'Give_Way',\n",
       " 'Junction',\n",
       " 'No_Exit',\n",
       " 'Railway',\n",
       " 'Roundabout',\n",
       " 'Station',\n",
       " 'Stop',\n",
       " 'Traffic_Calming',\n",
       " 'Traffic_Signal',\n",
       " 'Distance_Bisection',\n",
       " 'hour',\n",
       " 'Light',\n",
       " 'Distance_Road1',\n",
       " 'Distance_Road0',\n",
       " 'RoadType',\n",
       " 'Highway',\n",
       " 'DeathRate',\n",
       " 'DeathVehicle']"
      ]
     },
     "execution_count": 59,
     "metadata": {},
     "output_type": "execute_result"
    }
   ],
   "source": [
    "data2.columns.to_list()"
   ]
  },
  {
   "cell_type": "code",
   "execution_count": 61,
   "id": "6b175774-5f69-406e-8d8b-21fae6b47ee3",
   "metadata": {},
   "outputs": [
    {
     "data": {
      "text/html": [
       "<div>\n",
       "<style scoped>\n",
       "    .dataframe tbody tr th:only-of-type {\n",
       "        vertical-align: middle;\n",
       "    }\n",
       "\n",
       "    .dataframe tbody tr th {\n",
       "        vertical-align: top;\n",
       "    }\n",
       "\n",
       "    .dataframe thead th {\n",
       "        text-align: right;\n",
       "    }\n",
       "</style>\n",
       "<table border=\"1\" class=\"dataframe\">\n",
       "  <thead>\n",
       "    <tr style=\"text-align: right;\">\n",
       "      <th></th>\n",
       "      <th>Severity</th>\n",
       "      <th>Light_le</th>\n",
       "      <th>Weekday_le</th>\n",
       "      <th>Month_le</th>\n",
       "      <th>Weather_Condition_le</th>\n",
       "      <th>County_le</th>\n",
       "      <th>State_le</th>\n",
       "      <th>Start_Lat</th>\n",
       "      <th>Start_Lng</th>\n",
       "      <th>Side</th>\n",
       "      <th>...</th>\n",
       "      <th>Traffic_Signal</th>\n",
       "      <th>Distance_Bisection</th>\n",
       "      <th>hour</th>\n",
       "      <th>Light</th>\n",
       "      <th>Distance_Road1</th>\n",
       "      <th>Distance_Road0</th>\n",
       "      <th>RoadType</th>\n",
       "      <th>Highway</th>\n",
       "      <th>DeathRate</th>\n",
       "      <th>DeathVehicle</th>\n",
       "    </tr>\n",
       "  </thead>\n",
       "  <tbody>\n",
       "    <tr>\n",
       "      <th>0</th>\n",
       "      <td>3</td>\n",
       "      <td>0</td>\n",
       "      <td>1</td>\n",
       "      <td>3</td>\n",
       "      <td>49</td>\n",
       "      <td>496</td>\n",
       "      <td>33</td>\n",
       "      <td>40.108910</td>\n",
       "      <td>-83.092860</td>\n",
       "      <td>1</td>\n",
       "      <td>...</td>\n",
       "      <td>0</td>\n",
       "      <td>1</td>\n",
       "      <td>0</td>\n",
       "      <td>0</td>\n",
       "      <td>0.518761</td>\n",
       "      <td>0.481239</td>\n",
       "      <td>1</td>\n",
       "      <td>0</td>\n",
       "      <td>16.2</td>\n",
       "      <td>1.01</td>\n",
       "    </tr>\n",
       "    <tr>\n",
       "      <th>1</th>\n",
       "      <td>2</td>\n",
       "      <td>0</td>\n",
       "      <td>1</td>\n",
       "      <td>3</td>\n",
       "      <td>49</td>\n",
       "      <td>930</td>\n",
       "      <td>33</td>\n",
       "      <td>39.865420</td>\n",
       "      <td>-84.062800</td>\n",
       "      <td>1</td>\n",
       "      <td>...</td>\n",
       "      <td>0</td>\n",
       "      <td>1</td>\n",
       "      <td>5</td>\n",
       "      <td>0</td>\n",
       "      <td>0.518761</td>\n",
       "      <td>0.481239</td>\n",
       "      <td>1</td>\n",
       "      <td>0</td>\n",
       "      <td>16.2</td>\n",
       "      <td>1.01</td>\n",
       "    </tr>\n",
       "    <tr>\n",
       "      <th>2</th>\n",
       "      <td>2</td>\n",
       "      <td>2</td>\n",
       "      <td>1</td>\n",
       "      <td>3</td>\n",
       "      <td>57</td>\n",
       "      <td>590</td>\n",
       "      <td>33</td>\n",
       "      <td>39.192880</td>\n",
       "      <td>-84.477230</td>\n",
       "      <td>1</td>\n",
       "      <td>...</td>\n",
       "      <td>0</td>\n",
       "      <td>1</td>\n",
       "      <td>15</td>\n",
       "      <td>2</td>\n",
       "      <td>0.518761</td>\n",
       "      <td>0.481239</td>\n",
       "      <td>1</td>\n",
       "      <td>0</td>\n",
       "      <td>16.2</td>\n",
       "      <td>1.01</td>\n",
       "    </tr>\n",
       "    <tr>\n",
       "      <th>3</th>\n",
       "      <td>2</td>\n",
       "      <td>2</td>\n",
       "      <td>1</td>\n",
       "      <td>3</td>\n",
       "      <td>57</td>\n",
       "      <td>567</td>\n",
       "      <td>33</td>\n",
       "      <td>39.582242</td>\n",
       "      <td>-83.677814</td>\n",
       "      <td>1</td>\n",
       "      <td>...</td>\n",
       "      <td>0</td>\n",
       "      <td>1</td>\n",
       "      <td>17</td>\n",
       "      <td>2</td>\n",
       "      <td>0.518761</td>\n",
       "      <td>0.481239</td>\n",
       "      <td>1</td>\n",
       "      <td>0</td>\n",
       "      <td>16.2</td>\n",
       "      <td>1.01</td>\n",
       "    </tr>\n",
       "    <tr>\n",
       "      <th>4</th>\n",
       "      <td>3</td>\n",
       "      <td>0</td>\n",
       "      <td>1</td>\n",
       "      <td>3</td>\n",
       "      <td>69</td>\n",
       "      <td>496</td>\n",
       "      <td>33</td>\n",
       "      <td>39.972410</td>\n",
       "      <td>-82.846950</td>\n",
       "      <td>1</td>\n",
       "      <td>...</td>\n",
       "      <td>0</td>\n",
       "      <td>1</td>\n",
       "      <td>19</td>\n",
       "      <td>0</td>\n",
       "      <td>0.518761</td>\n",
       "      <td>0.481239</td>\n",
       "      <td>1</td>\n",
       "      <td>0</td>\n",
       "      <td>16.2</td>\n",
       "      <td>1.01</td>\n",
       "    </tr>\n",
       "    <tr>\n",
       "      <th>...</th>\n",
       "      <td>...</td>\n",
       "      <td>...</td>\n",
       "      <td>...</td>\n",
       "      <td>...</td>\n",
       "      <td>...</td>\n",
       "      <td>...</td>\n",
       "      <td>...</td>\n",
       "      <td>...</td>\n",
       "      <td>...</td>\n",
       "      <td>...</td>\n",
       "      <td>...</td>\n",
       "      <td>...</td>\n",
       "      <td>...</td>\n",
       "      <td>...</td>\n",
       "      <td>...</td>\n",
       "      <td>...</td>\n",
       "      <td>...</td>\n",
       "      <td>...</td>\n",
       "      <td>...</td>\n",
       "      <td>...</td>\n",
       "      <td>...</td>\n",
       "    </tr>\n",
       "    <tr>\n",
       "      <th>2213339</th>\n",
       "      <td>2</td>\n",
       "      <td>2</td>\n",
       "      <td>0</td>\n",
       "      <td>1</td>\n",
       "      <td>13</td>\n",
       "      <td>1430</td>\n",
       "      <td>3</td>\n",
       "      <td>34.261030</td>\n",
       "      <td>-119.228000</td>\n",
       "      <td>1</td>\n",
       "      <td>...</td>\n",
       "      <td>0</td>\n",
       "      <td>1</td>\n",
       "      <td>17</td>\n",
       "      <td>2</td>\n",
       "      <td>1.578855</td>\n",
       "      <td>0.519087</td>\n",
       "      <td>1</td>\n",
       "      <td>0</td>\n",
       "      <td>10.3</td>\n",
       "      <td>1.06</td>\n",
       "    </tr>\n",
       "    <tr>\n",
       "      <th>2213340</th>\n",
       "      <td>2</td>\n",
       "      <td>2</td>\n",
       "      <td>0</td>\n",
       "      <td>1</td>\n",
       "      <td>13</td>\n",
       "      <td>1170</td>\n",
       "      <td>3</td>\n",
       "      <td>34.002480</td>\n",
       "      <td>-117.379360</td>\n",
       "      <td>1</td>\n",
       "      <td>...</td>\n",
       "      <td>0</td>\n",
       "      <td>1</td>\n",
       "      <td>18</td>\n",
       "      <td>2</td>\n",
       "      <td>1.578855</td>\n",
       "      <td>0.519087</td>\n",
       "      <td>1</td>\n",
       "      <td>0</td>\n",
       "      <td>10.3</td>\n",
       "      <td>1.06</td>\n",
       "    </tr>\n",
       "    <tr>\n",
       "      <th>2213341</th>\n",
       "      <td>2</td>\n",
       "      <td>2</td>\n",
       "      <td>0</td>\n",
       "      <td>1</td>\n",
       "      <td>13</td>\n",
       "      <td>1217</td>\n",
       "      <td>3</td>\n",
       "      <td>32.766960</td>\n",
       "      <td>-117.148060</td>\n",
       "      <td>1</td>\n",
       "      <td>...</td>\n",
       "      <td>0</td>\n",
       "      <td>1</td>\n",
       "      <td>19</td>\n",
       "      <td>2</td>\n",
       "      <td>1.578855</td>\n",
       "      <td>0.519087</td>\n",
       "      <td>1</td>\n",
       "      <td>0</td>\n",
       "      <td>10.3</td>\n",
       "      <td>1.06</td>\n",
       "    </tr>\n",
       "    <tr>\n",
       "      <th>2213342</th>\n",
       "      <td>2</td>\n",
       "      <td>2</td>\n",
       "      <td>0</td>\n",
       "      <td>1</td>\n",
       "      <td>71</td>\n",
       "      <td>1017</td>\n",
       "      <td>3</td>\n",
       "      <td>33.775450</td>\n",
       "      <td>-117.847790</td>\n",
       "      <td>1</td>\n",
       "      <td>...</td>\n",
       "      <td>0</td>\n",
       "      <td>1</td>\n",
       "      <td>19</td>\n",
       "      <td>2</td>\n",
       "      <td>1.578855</td>\n",
       "      <td>0.519087</td>\n",
       "      <td>1</td>\n",
       "      <td>0</td>\n",
       "      <td>10.3</td>\n",
       "      <td>1.06</td>\n",
       "    </tr>\n",
       "    <tr>\n",
       "      <th>2213343</th>\n",
       "      <td>2</td>\n",
       "      <td>2</td>\n",
       "      <td>0</td>\n",
       "      <td>1</td>\n",
       "      <td>13</td>\n",
       "      <td>1216</td>\n",
       "      <td>3</td>\n",
       "      <td>34.133930</td>\n",
       "      <td>-117.230920</td>\n",
       "      <td>1</td>\n",
       "      <td>...</td>\n",
       "      <td>0</td>\n",
       "      <td>1</td>\n",
       "      <td>18</td>\n",
       "      <td>2</td>\n",
       "      <td>1.578855</td>\n",
       "      <td>0.519087</td>\n",
       "      <td>1</td>\n",
       "      <td>0</td>\n",
       "      <td>10.3</td>\n",
       "      <td>1.06</td>\n",
       "    </tr>\n",
       "  </tbody>\n",
       "</table>\n",
       "<p>2213344 rows × 39 columns</p>\n",
       "</div>"
      ],
      "text/plain": [
       "         Severity  Light_le  Weekday_le  Month_le  Weather_Condition_le  \\\n",
       "0               3         0           1         3                    49   \n",
       "1               2         0           1         3                    49   \n",
       "2               2         2           1         3                    57   \n",
       "3               2         2           1         3                    57   \n",
       "4               3         0           1         3                    69   \n",
       "...           ...       ...         ...       ...                   ...   \n",
       "2213339         2         2           0         1                    13   \n",
       "2213340         2         2           0         1                    13   \n",
       "2213341         2         2           0         1                    13   \n",
       "2213342         2         2           0         1                    71   \n",
       "2213343         2         2           0         1                    13   \n",
       "\n",
       "         County_le  State_le  Start_Lat   Start_Lng  Side  ...  \\\n",
       "0              496        33  40.108910  -83.092860     1  ...   \n",
       "1              930        33  39.865420  -84.062800     1  ...   \n",
       "2              590        33  39.192880  -84.477230     1  ...   \n",
       "3              567        33  39.582242  -83.677814     1  ...   \n",
       "4              496        33  39.972410  -82.846950     1  ...   \n",
       "...            ...       ...        ...         ...   ...  ...   \n",
       "2213339       1430         3  34.261030 -119.228000     1  ...   \n",
       "2213340       1170         3  34.002480 -117.379360     1  ...   \n",
       "2213341       1217         3  32.766960 -117.148060     1  ...   \n",
       "2213342       1017         3  33.775450 -117.847790     1  ...   \n",
       "2213343       1216         3  34.133930 -117.230920     1  ...   \n",
       "\n",
       "         Traffic_Signal  Distance_Bisection  hour  Light  Distance_Road1  \\\n",
       "0                     0                   1     0      0        0.518761   \n",
       "1                     0                   1     5      0        0.518761   \n",
       "2                     0                   1    15      2        0.518761   \n",
       "3                     0                   1    17      2        0.518761   \n",
       "4                     0                   1    19      0        0.518761   \n",
       "...                 ...                 ...   ...    ...             ...   \n",
       "2213339               0                   1    17      2        1.578855   \n",
       "2213340               0                   1    18      2        1.578855   \n",
       "2213341               0                   1    19      2        1.578855   \n",
       "2213342               0                   1    19      2        1.578855   \n",
       "2213343               0                   1    18      2        1.578855   \n",
       "\n",
       "         Distance_Road0  RoadType  Highway  DeathRate  DeathVehicle  \n",
       "0              0.481239         1        0       16.2          1.01  \n",
       "1              0.481239         1        0       16.2          1.01  \n",
       "2              0.481239         1        0       16.2          1.01  \n",
       "3              0.481239         1        0       16.2          1.01  \n",
       "4              0.481239         1        0       16.2          1.01  \n",
       "...                 ...       ...      ...        ...           ...  \n",
       "2213339        0.519087         1        0       10.3          1.06  \n",
       "2213340        0.519087         1        0       10.3          1.06  \n",
       "2213341        0.519087         1        0       10.3          1.06  \n",
       "2213342        0.519087         1        0       10.3          1.06  \n",
       "2213343        0.519087         1        0       10.3          1.06  \n",
       "\n",
       "[2213344 rows x 39 columns]"
      ]
     },
     "execution_count": 61,
     "metadata": {},
     "output_type": "execute_result"
    }
   ],
   "source": [
    "data2"
   ]
  },
  {
   "cell_type": "code",
   "execution_count": null,
   "id": "892f5839-66fb-4bf7-98a1-20db9897a1cf",
   "metadata": {},
   "outputs": [],
   "source": []
  },
  {
   "cell_type": "markdown",
   "id": "3beeb2ff-b0bc-4802-ab9d-dd3b2fc9c989",
   "metadata": {},
   "source": [
    "## **Train-Test Split**"
   ]
  },
  {
   "cell_type": "code",
   "execution_count": 62,
   "id": "aa3bb9e0-d387-47b4-9f21-dd6eb5bcdf30",
   "metadata": {},
   "outputs": [],
   "source": [
    "data3_1 = data2[data2.Distance_Bisection==1]\n",
    "data3_0 = data2[data2.Distance_Bisection==0]"
   ]
  },
  {
   "cell_type": "code",
   "execution_count": 63,
   "id": "b1fcd418-ac0d-4bf4-a6f3-01b485263f86",
   "metadata": {},
   "outputs": [],
   "source": [
    "data3_1 = data3_1.sample(n=len(data3_0), replace=False)"
   ]
  },
  {
   "cell_type": "code",
   "execution_count": 64,
   "id": "ee13752a-8e88-4e58-90b9-5c6f7d7dd3ea",
   "metadata": {},
   "outputs": [],
   "source": [
    "data3_all = pd.concat([data3_0, data3_1])\n",
    "data3 = data3_all"
   ]
  },
  {
   "cell_type": "code",
   "execution_count": 65,
   "id": "6a64fbe9-7295-4a67-9a9c-3e6e294fafbc",
   "metadata": {},
   "outputs": [
    {
     "data": {
      "text/plain": [
       "655382"
      ]
     },
     "execution_count": 65,
     "metadata": {},
     "output_type": "execute_result"
    }
   ],
   "source": [
    "len(data3)"
   ]
  },
  {
   "cell_type": "code",
   "execution_count": 67,
   "id": "3d0446de-9340-4258-815f-e09d5193ee17",
   "metadata": {},
   "outputs": [
    {
     "data": {
      "text/plain": [
       "['Severity',\n",
       " 'Light_le',\n",
       " 'Weekday_le',\n",
       " 'Month_le',\n",
       " 'Weather_Condition_le',\n",
       " 'County_le',\n",
       " 'State_le',\n",
       " 'Start_Lat',\n",
       " 'Start_Lng',\n",
       " 'Side',\n",
       " 'City',\n",
       " 'Temperature(F)',\n",
       " 'Wind_Chill(F)',\n",
       " 'Humidity(%)',\n",
       " 'Pressure(in)',\n",
       " 'Visibility(mi)',\n",
       " 'Wind_Speed(mph)',\n",
       " 'Precipitation(in)',\n",
       " 'Amenity',\n",
       " 'Bump',\n",
       " 'Crossing',\n",
       " 'Give_Way',\n",
       " 'Junction',\n",
       " 'No_Exit',\n",
       " 'Railway',\n",
       " 'Roundabout',\n",
       " 'Station',\n",
       " 'Stop',\n",
       " 'Traffic_Calming',\n",
       " 'Traffic_Signal',\n",
       " 'Distance_Bisection',\n",
       " 'hour',\n",
       " 'Light',\n",
       " 'Distance_Road1',\n",
       " 'Distance_Road0',\n",
       " 'RoadType',\n",
       " 'Highway',\n",
       " 'DeathRate',\n",
       " 'DeathVehicle']"
      ]
     },
     "execution_count": 67,
     "metadata": {},
     "output_type": "execute_result"
    }
   ],
   "source": [
    "data3.columns.to_list()"
   ]
  },
  {
   "cell_type": "code",
   "execution_count": 69,
   "id": "06d4320c-5658-4365-a761-5781e2f24ab5",
   "metadata": {},
   "outputs": [],
   "source": [
    "labels = data3['Distance_Bisection']\n",
    "data3 = data3.drop(['Distance_Bisection'], axis=1)\n",
    "\n",
    "from sklearn.model_selection import train_test_split\n",
    "X_train, X_test, y_train, y_test = train_test_split(data3, labels,test_size=0.2, random_state=100)"
   ]
  },
  {
   "cell_type": "code",
   "execution_count": 71,
   "id": "a3e87445-ca7c-4cc9-ba1e-606a8aab604e",
   "metadata": {},
   "outputs": [
    {
     "name": "stdout",
     "output_type": "stream",
     "text": [
      "<class 'pandas.core.frame.DataFrame'>\n",
      "Int64Index: 655382 entries, 16 to 1426320\n",
      "Data columns (total 38 columns):\n",
      " #   Column                Non-Null Count   Dtype  \n",
      "---  ------                --------------   -----  \n",
      " 0   Severity              655382 non-null  int64  \n",
      " 1   Light_le              655382 non-null  int32  \n",
      " 2   Weekday_le            655382 non-null  int32  \n",
      " 3   Month_le              655382 non-null  int32  \n",
      " 4   Weather_Condition_le  655382 non-null  int32  \n",
      " 5   County_le             655382 non-null  int32  \n",
      " 6   State_le              655382 non-null  int32  \n",
      " 7   Start_Lat             655382 non-null  float64\n",
      " 8   Start_Lng             655382 non-null  float64\n",
      " 9   Side                  655382 non-null  int64  \n",
      " 10  City                  655382 non-null  int32  \n",
      " 11  Temperature(F)        655382 non-null  float64\n",
      " 12  Wind_Chill(F)         655382 non-null  float64\n",
      " 13  Humidity(%)           655382 non-null  float64\n",
      " 14  Pressure(in)          655382 non-null  float64\n",
      " 15  Visibility(mi)        655382 non-null  float64\n",
      " 16  Wind_Speed(mph)       655382 non-null  float64\n",
      " 17  Precipitation(in)     655382 non-null  float64\n",
      " 18  Amenity               655382 non-null  int64  \n",
      " 19  Bump                  655382 non-null  int64  \n",
      " 20  Crossing              655382 non-null  int64  \n",
      " 21  Give_Way              655382 non-null  int64  \n",
      " 22  Junction              655382 non-null  int64  \n",
      " 23  No_Exit               655382 non-null  int64  \n",
      " 24  Railway               655382 non-null  int64  \n",
      " 25  Roundabout            655382 non-null  int64  \n",
      " 26  Station               655382 non-null  int64  \n",
      " 27  Stop                  655382 non-null  int64  \n",
      " 28  Traffic_Calming       655382 non-null  int64  \n",
      " 29  Traffic_Signal        655382 non-null  int64  \n",
      " 30  hour                  655382 non-null  int64  \n",
      " 31  Light                 655382 non-null  int32  \n",
      " 32  Distance_Road1        655382 non-null  float64\n",
      " 33  Distance_Road0        655382 non-null  float64\n",
      " 34  RoadType              655382 non-null  int64  \n",
      " 35  Highway               655382 non-null  int32  \n",
      " 36  DeathRate             655382 non-null  float64\n",
      " 37  DeathVehicle          655382 non-null  float64\n",
      "dtypes: float64(13), int32(9), int64(16)\n",
      "memory usage: 172.5 MB\n"
     ]
    }
   ],
   "source": [
    "data3.info()"
   ]
  },
  {
   "cell_type": "markdown",
   "id": "36cc45de-17f3-4d5a-9779-9adc4ca4574b",
   "metadata": {
    "tags": []
   },
   "source": [
    "## **Feature Importance**"
   ]
  },
  {
   "cell_type": "markdown",
   "id": "43843c37-7e68-4c5c-a4fe-01d68025b3a0",
   "metadata": {
    "id": "vi9JghP-UZ-5"
   },
   "source": [
    "### **ExtraTrees**"
   ]
  },
  {
   "cell_type": "code",
   "execution_count": 72,
   "id": "a166edf5-e11e-409e-a4d0-6cb6cc7e540e",
   "metadata": {
    "id": "IWlQ-5Gg3sb1"
   },
   "outputs": [],
   "source": [
    "from sklearn.ensemble import ExtraTreesClassifier\n",
    "ETreec = ExtraTreesClassifier(max_depth=50,n_estimators=50,criterion='gini')"
   ]
  },
  {
   "cell_type": "code",
   "execution_count": 73,
   "id": "01382052-2125-43a1-9012-4764edb96298",
   "metadata": {
    "id": "sDA63tHRUndW"
   },
   "outputs": [
    {
     "name": "stdout",
     "output_type": "stream",
     "text": [
      "[0 1 0 ... 0 1 0]\n"
     ]
    }
   ],
   "source": [
    "ETreec.fit(X_train, y_train)\n",
    "ETree_pred=ETreec.predict(X_test)\n",
    "print(ETree_pred)"
   ]
  },
  {
   "cell_type": "code",
   "execution_count": 74,
   "id": "6df9a3ab-fdea-45a7-90c3-40c3f9747125",
   "metadata": {
    "id": "RMNwnXp8UnhE"
   },
   "outputs": [
    {
     "name": "stdout",
     "output_type": "stream",
     "text": [
      "0.9999046356605411\n"
     ]
    }
   ],
   "source": [
    "ETreetrain_score=ETreec.score(X_train, y_train)\n",
    "print(ETreetrain_score)"
   ]
  },
  {
   "cell_type": "code",
   "execution_count": 75,
   "id": "2dba0ea0-449a-4162-b94b-d14116e2c105",
   "metadata": {
    "id": "FXule039UnlC"
   },
   "outputs": [
    {
     "name": "stdout",
     "output_type": "stream",
     "text": [
      "The Accuracy of ExtraTrees Classifier on testing set: 0.8729983139681257\n"
     ]
    }
   ],
   "source": [
    "ETreetest_score=ETreec.score(X_test,y_test)\n",
    "print('The Accuracy of ExtraTrees Classifier on testing set:', ETreetest_score)\n"
   ]
  },
  {
   "cell_type": "code",
   "execution_count": 76,
   "id": "da79c979-8193-4376-9e36-e59ac67542d6",
   "metadata": {
    "id": "yge1ZrUFUnsu"
   },
   "outputs": [
    {
     "name": "stdout",
     "output_type": "stream",
     "text": [
      "              precision    recall  f1-score   support\n",
      "\n",
      "           0       0.85      0.90      0.88     65686\n",
      "           1       0.90      0.84      0.87     65391\n",
      "\n",
      "    accuracy                           0.87    131077\n",
      "   macro avg       0.87      0.87      0.87    131077\n",
      "weighted avg       0.87      0.87      0.87    131077\n",
      "\n",
      "[[59379  6307]\n",
      " [10340 55051]]\n"
     ]
    }
   ],
   "source": [
    "from sklearn.metrics import classification_report, confusion_matrix\n",
    "print(classification_report(y_test,ETree_pred))\n",
    "print(confusion_matrix(y_test,ETree_pred))"
   ]
  },
  {
   "cell_type": "code",
   "execution_count": 77,
   "id": "b07ab803-127d-417b-8091-6ae6ae8ec189",
   "metadata": {
    "id": "rVZUP0C1Kgce"
   },
   "outputs": [
    {
     "data": {
      "text/plain": [
       "array([4.51017261e-02, 1.31698257e-02, 3.18158302e-02, 7.88430585e-02,\n",
       "       2.60062624e-02, 2.99205178e-02, 2.74239780e-02, 6.72646699e-02,\n",
       "       1.02913147e-01, 1.20608005e-02, 3.31685895e-02, 3.97479298e-02,\n",
       "       3.94951392e-02, 3.78571487e-02, 4.17549447e-02, 1.76427893e-02,\n",
       "       3.17512265e-02, 7.45809580e-03, 1.82878255e-03, 7.67558244e-05,\n",
       "       6.61608366e-03, 8.20125688e-04, 8.35664292e-03, 4.13956935e-04,\n",
       "       1.65467644e-03, 2.19596644e-05, 3.05951687e-03, 3.40317286e-03,\n",
       "       1.59602038e-04, 3.64715513e-02, 3.47103864e-02, 1.46383907e-02,\n",
       "       3.91121872e-02, 4.80960309e-02, 1.61050406e-02, 4.33870908e-02,\n",
       "       2.41571590e-02, 3.35152078e-02])"
      ]
     },
     "execution_count": 77,
     "metadata": {},
     "output_type": "execute_result"
    }
   ],
   "source": [
    "ETreec.feature_importances_"
   ]
  },
  {
   "cell_type": "code",
   "execution_count": 78,
   "id": "910c8e76-74ab-4edf-9405-9d853aeeca30",
   "metadata": {},
   "outputs": [],
   "source": [
    "importance = ETreec.feature_importances_\n",
    "feature_names = ETreec.feature_names_in_"
   ]
  },
  {
   "cell_type": "code",
   "execution_count": 79,
   "id": "42426306-84aa-4a43-be18-14c367919fc4",
   "metadata": {},
   "outputs": [
    {
     "data": {
      "image/png": "[encoded data removed]",
      "text/plain": [
       "<Figure size 432x288 with 1 Axes>"
      ]
     },
     "metadata": {
      "needs_background": "light"
     },
     "output_type": "display_data"
    }
   ],
   "source": [
    "import matplotlib.pyplot as plt\n",
    "forest_importances = pd.Series(importance, index=feature_names)\n",
    "\n",
    "fig, ax = plt.subplots()\n",
    "forest_importances.plot.bar(ax=ax)\n",
    "ax.set_title(\"Feature importances using MDI\")\n",
    "ax.set_ylabel(\"Mean decrease in impurity\")\n",
    "fig.tight_layout()\n",
    "fig.savefig('distance_1', dpi=300)"
   ]
  },
  {
   "cell_type": "markdown",
   "id": "3aba6efe-306a-47d3-ae09-a06fd734174a",
   "metadata": {
    "id": "lXJtTMQrhzXv"
   },
   "source": [
    "### **XGBOOST**"
   ]
  },
  {
   "cell_type": "code",
   "execution_count": 80,
   "id": "23626ae3-4149-4862-8925-68d1540d99b1",
   "metadata": {
    "id": "9mWhXbTv0SLR"
   },
   "outputs": [],
   "source": [
    "from xgboost.sklearn import XGBClassifier\n",
    "xgbc = XGBClassifier(        \n",
    "        n_estimators=100,     #樹的個數\n",
    "        learning_rate= 0.1,    # 如同學習率 \n",
    "        max_depth=24,       # 構建樹的深度，越大越容易過擬合    \n",
    "        subsample=1,         # 隨機取樣訓練樣本 訓練例項的子取樣比\n",
    "        gamma=0,         # 用於控制是否後剪枝的引數,越大越保守，一般0.1、0.2這樣子\n",
    "        reg_lambda=2,#0.8,   #1       # 控制模型複雜度的權重值的L2正則化項引數，引數越大，模型越不容易過擬合。\n",
    "        max_delta_step=0,        #最大增量步長，我們允許每個樹的權重估計。\n",
    "        colsample_bytree=1,         # 生成樹時進行的列取樣 \n",
    "        min_child_weight=0.01, \n",
    "                     # 這個引數預設是 1，是每個葉子裡面 h 的和至少是多少，對正負樣本不均衡時的 0-1 分類而言\n",
    "                     # 假設 h 在 0.01 附近，min_child_weight 為 1 意味著葉子節點中最少需要包含 100 個樣本。\n",
    "                     #這個引數非常影響結果，控制葉142子節點中二階導的和的最小值，該引數值越小，越容易 overfitting。\n",
    "        seed=999,   #隨機種子\n",
    "#        reg_alpha=0,        # L1 正則項引數\n",
    "        #scale_pos_weight=1,        #如果取值大於0的話，在類別樣本不平衡的情況下有助於快速收斂。平衡正負權重\n",
    "        #objective= 'multi:softmax',         #多分類的問題 指定學習任務和相應的學習目標\n",
    "        #num_class=10,        # 類別數，多分類與 multisoftmax 並用\n",
    "#        silent=0 ,        # 設定成1則沒有執行資訊輸出，最好是設定為0.是否在執行升級時列印訊息。\n",
    "#        nthread=4,        # cpu 執行緒數 預設最大\n",
    "        #eval_metric= 'auc'\n",
    ")\n"
   ]
  },
  {
   "cell_type": "code",
   "execution_count": 81,
   "id": "f9f15c4e-0c34-486c-bbc7-c7ec3d3c2b4e",
   "metadata": {
    "id": "KEzt-No4elyX"
   },
   "outputs": [
    {
     "name": "stderr",
     "output_type": "stream",
     "text": [
      "C:\\Users\\kiwi\\anaconda3\\envs\\study__py_r\\lib\\site-packages\\xgboost\\sklearn.py:1224: UserWarning: The use of label encoder in XGBClassifier is deprecated and will be removed in a future release. To remove this warning, do the following: 1) Pass option use_label_encoder=False when constructing XGBClassifier object; and 2) Encode your labels (y) as integers starting with 0, i.e. 0, 1, 2, ..., [num_class - 1].\n",
      "  warnings.warn(label_encoder_deprecation_msg, UserWarning)\n"
     ]
    },
    {
     "name": "stdout",
     "output_type": "stream",
     "text": [
      "[16:49:16] WARNING: ..\\src\\learner.cc:1115: Starting in XGBoost 1.3.0, the default evaluation metric used with the objective 'binary:logistic' was changed from 'error' to 'logloss'. Explicitly set eval_metric if you'd like to restore the old behavior.\n",
      "[0 1 0 ... 0 1 0]\n"
     ]
    }
   ],
   "source": [
    "xgbc.fit(X_train, y_train)\n",
    "XGB_pred=xgbc.predict(X_test)\n",
    "print(XGB_pred)"
   ]
  },
  {
   "cell_type": "code",
   "execution_count": 82,
   "id": "618aec71-5621-4d59-b4aa-06cc1868a394",
   "metadata": {
    "id": "ZeFNmBUR8WF-"
   },
   "outputs": [
    {
     "name": "stdout",
     "output_type": "stream",
     "text": [
      "0.997921057399796\n"
     ]
    }
   ],
   "source": [
    "XGBtrain_score=xgbc.score(X_train, y_train)\n",
    "print(XGBtrain_score)"
   ]
  },
  {
   "cell_type": "code",
   "execution_count": 83,
   "id": "55af3269-7eda-461f-a112-a4f4cfed45e9",
   "metadata": {
    "id": "Jhpa7pWeZibb"
   },
   "outputs": [
    {
     "name": "stdout",
     "output_type": "stream",
     "text": [
      "The Accuracy of XGBOOST Classifier on testing set: 0.9026602683918613\n"
     ]
    }
   ],
   "source": [
    "XGBtest_score=xgbc.score(X_test,y_test)\n",
    "print('The Accuracy of XGBOOST Classifier on testing set:', XGBtest_score)"
   ]
  },
  {
   "cell_type": "code",
   "execution_count": 84,
   "id": "d07a8293-586c-494b-8bff-8b0c0e97fc63",
   "metadata": {
    "id": "FRcF2ZTJZipJ"
   },
   "outputs": [
    {
     "name": "stdout",
     "output_type": "stream",
     "text": [
      "              precision    recall  f1-score   support\n",
      "\n",
      "           0       0.89      0.92      0.90     65686\n",
      "           1       0.92      0.88      0.90     65391\n",
      "\n",
      "    accuracy                           0.90    131077\n",
      "   macro avg       0.90      0.90      0.90    131077\n",
      "weighted avg       0.90      0.90      0.90    131077\n",
      "\n",
      "[[60544  5142]\n",
      " [ 7617 57774]]\n"
     ]
    }
   ],
   "source": [
    "from sklearn.metrics import classification_report, confusion_matrix\n",
    "\n",
    "print(classification_report(y_test,XGB_pred))\n",
    "print(confusion_matrix(y_test,XGB_pred))"
   ]
  },
  {
   "cell_type": "code",
   "execution_count": 85,
   "id": "1cbf2a5f-954a-406b-8459-f6eb325db988",
   "metadata": {
    "id": "rcVgYf2jilxr"
   },
   "outputs": [
    {
     "data": {
      "text/plain": [
       "array([0.04516199, 0.00385682, 0.00461843, 0.04493734, 0.00572444,\n",
       "       0.00549789, 0.02551593, 0.01383667, 0.01662917, 0.01276053,\n",
       "       0.00764964, 0.00929299, 0.01125799, 0.00848855, 0.0093595 ,\n",
       "       0.00849392, 0.00708645, 0.0071098 , 0.00497143, 0.00526871,\n",
       "       0.00657244, 0.00505938, 0.0093617 , 0.00537777, 0.005807  ,\n",
       "       0.00938146, 0.00514124, 0.00739893, 0.00588365, 0.12117976,\n",
       "       0.00852913, 0.        , 0.02830401, 0.36278784, 0.01083767,\n",
       "       0.06438248, 0.0173401 , 0.06913728], dtype=float32)"
      ]
     },
     "execution_count": 85,
     "metadata": {},
     "output_type": "execute_result"
    }
   ],
   "source": [
    "xgbc.feature_importances_"
   ]
  },
  {
   "cell_type": "markdown",
   "id": "7a6c54c3-044c-4193-85b6-4dad215e8297",
   "metadata": {},
   "source": [
    "## **Feature Redection - Use Feature Importance by Decision Tree( ExtraTrees)**"
   ]
  },
  {
   "cell_type": "code",
   "execution_count": 86,
   "id": "1e02ab2e-e309-47aa-a322-77ad25087f4c",
   "metadata": {},
   "outputs": [],
   "source": [
    "data3 = data3_all.drop(['Amenity','Bump', 'Give_Way', 'No_Exit', 'Railway', 'Roundabout', 'Station', 'Stop', 'Traffic_Calming','Precipitation(in)','Crossing','Junction'], axis=1)"
   ]
  },
  {
   "cell_type": "code",
   "execution_count": 87,
   "id": "9c0056c3-799e-4b36-af7b-67e62941bdf1",
   "metadata": {},
   "outputs": [],
   "source": [
    "labels = data3['Distance_Bisection']\n",
    "#data3 = data3.drop(['Severity_Bisection', 'Distance(mi)', 'cautionIdentifier'], axis=1)\n",
    "data3 = data3.drop(['Distance_Bisection'], axis=1)\n",
    "#data3 = data3.drop(['Severity_Bisection'], axis=1)\n",
    "\n",
    "from sklearn.model_selection import train_test_split\n",
    "X_train, X_test, y_train, y_test = train_test_split(data3, labels,test_size=0.2, random_state=100)"
   ]
  },
  {
   "cell_type": "markdown",
   "id": "fb42c22f-22db-44f7-8a8c-cb7fb7e4f394",
   "metadata": {
    "id": "lXJtTMQrhzXv"
   },
   "source": [
    "### XGBoost"
   ]
  },
  {
   "cell_type": "code",
   "execution_count": 96,
   "id": "94a9619c-72bc-4e39-b61b-5d6873b63800",
   "metadata": {
    "id": "9mWhXbTv0SLR"
   },
   "outputs": [],
   "source": [
    "from xgboost.sklearn import XGBClassifier\n",
    "xgbc = XGBClassifier(        \n",
    "        n_estimators=100,     #樹的個數\n",
    "        learning_rate= 0.1,    # 如同學習率 \n",
    "        max_depth=24,       # 構建樹的深度，越大越容易過擬合    \n",
    "        subsample=1,         # 隨機取樣訓練樣本 訓練例項的子取樣比\n",
    "        gamma=0,         # 用於控制是否後剪枝的引數,越大越保守，一般0.1、0.2這樣子\n",
    "        reg_lambda=2,#0.8,   #1       # 控制模型複雜度的權重值的L2正則化項引數，引數越大，模型越不容易過擬合。\n",
    "        max_delta_step=0,        #最大增量步長，我們允許每個樹的權重估計。\n",
    "        colsample_bytree=1,         # 生成樹時進行的列取樣 \n",
    "        min_child_weight=0.01, \n",
    "                     # 這個引數預設是 1，是每個葉子裡面 h 的和至少是多少，對正負樣本不均衡時的 0-1 分類而言\n",
    "                     # 假設 h 在 0.01 附近，min_child_weight 為 1 意味著葉子節點中最少需要包含 100 個樣本。\n",
    "                     #這個引數非常影響結果，控制葉142子節點中二階導的和的最小值，該引數值越小，越容易 overfitting。\n",
    "        seed=999,   #隨機種子\n",
    "#        reg_alpha=0,        # L1 正則項引數\n",
    "        #scale_pos_weight=1,        #如果取值大於0的話，在類別樣本不平衡的情況下有助於快速收斂。平衡正負權重\n",
    "        #objective= 'multi:softmax',         #多分類的問題 指定學習任務和相應的學習目標\n",
    "        #num_class=10,        # 類別數，多分類與 multisoftmax 並用\n",
    "#        silent=0 ,        # 設定成1則沒有執行資訊輸出，最好是設定為0.是否在執行升級時列印訊息。\n",
    "#        nthread=4,        # cpu 執行緒數 預設最大\n",
    "        #eval_metric= 'auc'\n",
    ")\n"
   ]
  },
  {
   "cell_type": "code",
   "execution_count": 97,
   "id": "dfcdc8c6-be46-495a-b46f-4b3e7e4f7ae0",
   "metadata": {
    "id": "KEzt-No4elyX"
   },
   "outputs": [
    {
     "name": "stderr",
     "output_type": "stream",
     "text": [
      "C:\\Users\\kiwi\\anaconda3\\envs\\study__py_r\\lib\\site-packages\\xgboost\\sklearn.py:1224: UserWarning: The use of label encoder in XGBClassifier is deprecated and will be removed in a future release. To remove this warning, do the following: 1) Pass option use_label_encoder=False when constructing XGBClassifier object; and 2) Encode your labels (y) as integers starting with 0, i.e. 0, 1, 2, ..., [num_class - 1].\n",
      "  warnings.warn(label_encoder_deprecation_msg, UserWarning)\n"
     ]
    },
    {
     "name": "stdout",
     "output_type": "stream",
     "text": [
      "[17:01:55] WARNING: ..\\src\\learner.cc:1115: Starting in XGBoost 1.3.0, the default evaluation metric used with the objective 'binary:logistic' was changed from 'error' to 'logloss'. Explicitly set eval_metric if you'd like to restore the old behavior.\n",
      "[0 1 0 ... 0 1 0]\n"
     ]
    }
   ],
   "source": [
    "xgbc.fit(X_train, y_train)\n",
    "XGB_pred=xgbc.predict(X_test)\n",
    "print(XGB_pred)"
   ]
  },
  {
   "cell_type": "code",
   "execution_count": 98,
   "id": "3d61d3b6-2946-4dc0-a16d-6597963c95b1",
   "metadata": {
    "id": "ZeFNmBUR8WF-"
   },
   "outputs": [
    {
     "name": "stdout",
     "output_type": "stream",
     "text": [
      "0.9977551234491374\n"
     ]
    }
   ],
   "source": [
    "XGBtrain_score=xgbc.score(X_train, y_train)\n",
    "print(XGBtrain_score)"
   ]
  },
  {
   "cell_type": "code",
   "execution_count": 99,
   "id": "4f74263f-1231-4189-81d9-34e6d3cf0f2b",
   "metadata": {
    "id": "Jhpa7pWeZibb"
   },
   "outputs": [
    {
     "name": "stdout",
     "output_type": "stream",
     "text": [
      "The Accuracy of XGBOOST Classifier on testing set: 0.9026602683918613\n"
     ]
    }
   ],
   "source": [
    "XGBtest_score=xgbc.score(X_test,y_test)\n",
    "print('The Accuracy of XGBOOST Classifier on testing set:', XGBtest_score)"
   ]
  },
  {
   "cell_type": "code",
   "execution_count": 100,
   "id": "f390c8e9-0dcd-45a8-81dd-41a678b04582",
   "metadata": {
    "id": "FRcF2ZTJZipJ"
   },
   "outputs": [
    {
     "name": "stdout",
     "output_type": "stream",
     "text": [
      "              precision    recall  f1-score   support\n",
      "\n",
      "           0       0.89      0.92      0.90     65686\n",
      "           1       0.92      0.88      0.90     65391\n",
      "\n",
      "    accuracy                           0.90    131077\n",
      "   macro avg       0.90      0.90      0.90    131077\n",
      "weighted avg       0.90      0.90      0.90    131077\n",
      "\n",
      "[[60593  5093]\n",
      " [ 7666 57725]]\n"
     ]
    }
   ],
   "source": [
    "from sklearn.metrics import classification_report, confusion_matrix\n",
    "\n",
    "print(classification_report(y_test,XGB_pred))\n",
    "print(confusion_matrix(y_test,XGB_pred))"
   ]
  },
  {
   "cell_type": "code",
   "execution_count": 101,
   "id": "b83cb3f6-4056-41d8-91eb-527e0794d349",
   "metadata": {
    "id": "rcVgYf2jilxr"
   },
   "outputs": [
    {
     "data": {
      "text/plain": [
       "array([0.05020567, 0.00438842, 0.00522252, 0.04906693, 0.00648788,\n",
       "       0.0061071 , 0.0287028 , 0.01522566, 0.01796913, 0.01393108,\n",
       "       0.00851886, 0.0102017 , 0.01235729, 0.00935526, 0.01042131,\n",
       "       0.00935089, 0.00792113, 0.1098133 , 0.00934187, 0.        ,\n",
       "       0.03181672, 0.408152  , 0.01206473, 0.06926564, 0.01779204,\n",
       "       0.07632006], dtype=float32)"
      ]
     },
     "execution_count": 101,
     "metadata": {},
     "output_type": "execute_result"
    }
   ],
   "source": [
    "xgbc.feature_importances_"
   ]
  },
  {
   "cell_type": "markdown",
   "id": "230fac48-cb94-4587-a393-7a0b0c836918",
   "metadata": {},
   "source": [
    "### ExtraTrees"
   ]
  },
  {
   "cell_type": "code",
   "execution_count": 102,
   "id": "e91c0549-5ccb-428e-a249-58ec3aba8084",
   "metadata": {
    "id": "IWlQ-5Gg3sb1"
   },
   "outputs": [],
   "source": [
    "ETreec = ExtraTreesClassifier(max_depth=50,n_estimators=50,criterion='gini')"
   ]
  },
  {
   "cell_type": "code",
   "execution_count": 103,
   "id": "cabfcc62-9922-4f83-aeb6-f14fbe45778a",
   "metadata": {
    "id": "sDA63tHRUndW"
   },
   "outputs": [
    {
     "name": "stdout",
     "output_type": "stream",
     "text": [
      "[0 1 0 ... 0 1 0]\n"
     ]
    }
   ],
   "source": [
    "ETreec.fit(X_train, y_train)\n",
    "ETree_pred=ETreec.predict(X_test)\n",
    "print(ETree_pred)"
   ]
  },
  {
   "cell_type": "code",
   "execution_count": 104,
   "id": "3d35ff69-1c08-465f-b3ff-aae75a64ac52",
   "metadata": {
    "id": "RMNwnXp8UnhE"
   },
   "outputs": [
    {
     "name": "stdout",
     "output_type": "stream",
     "text": [
      "0.9999065429473303\n"
     ]
    }
   ],
   "source": [
    "ETreetrain_score=ETreec.score(X_train, y_train)\n",
    "print(ETreetrain_score)"
   ]
  },
  {
   "cell_type": "code",
   "execution_count": 105,
   "id": "7f4a9043-3722-4c65-ba30-f4837a19db05",
   "metadata": {
    "id": "FXule039UnlC"
   },
   "outputs": [
    {
     "name": "stdout",
     "output_type": "stream",
     "text": [
      "The Accuracy of ExtraTrees Classifier on testing set: 0.8749208480511456\n"
     ]
    }
   ],
   "source": [
    "ETreetest_score=ETreec.score(X_test,y_test)\n",
    "print('The Accuracy of ExtraTrees Classifier on testing set:', ETreetest_score)\n"
   ]
  },
  {
   "cell_type": "code",
   "execution_count": 106,
   "id": "47f8abaa-6500-47d9-a5d0-c1d92f32304e",
   "metadata": {
    "id": "yge1ZrUFUnsu"
   },
   "outputs": [
    {
     "name": "stdout",
     "output_type": "stream",
     "text": [
      "              precision    recall  f1-score   support\n",
      "\n",
      "           0       0.85      0.91      0.88     65686\n",
      "           1       0.90      0.84      0.87     65391\n",
      "\n",
      "    accuracy                           0.87    131077\n",
      "   macro avg       0.88      0.87      0.87    131077\n",
      "weighted avg       0.88      0.87      0.87    131077\n",
      "\n",
      "[[59480  6206]\n",
      " [10189 55202]]\n"
     ]
    }
   ],
   "source": [
    "from sklearn.metrics import classification_report, confusion_matrix\n",
    "print(classification_report(y_test,ETree_pred))\n",
    "print(confusion_matrix(y_test,ETree_pred))"
   ]
  },
  {
   "cell_type": "code",
   "execution_count": 107,
   "id": "3b13e627-55d5-4513-bb3e-1cd2696ba0fa",
   "metadata": {
    "id": "rVZUP0C1Kgce"
   },
   "outputs": [
    {
     "data": {
      "text/plain": [
       "array([0.04688552, 0.01387809, 0.03390836, 0.08637463, 0.02729834,\n",
       "       0.03081793, 0.0306839 , 0.06724082, 0.09809647, 0.01234348,\n",
       "       0.03433284, 0.04168675, 0.04153826, 0.04070895, 0.04456849,\n",
       "       0.01864997, 0.03371924, 0.03723172, 0.03662915, 0.01402824,\n",
       "       0.04153961, 0.05825422, 0.01479371, 0.04176405, 0.02357522,\n",
       "       0.02945205])"
      ]
     },
     "execution_count": 107,
     "metadata": {},
     "output_type": "execute_result"
    }
   ],
   "source": [
    "ETreec.feature_importances_"
   ]
  },
  {
   "cell_type": "code",
   "execution_count": 108,
   "id": "bab584c1-d76c-4ac1-a74e-8d52491f24c3",
   "metadata": {},
   "outputs": [],
   "source": [
    "importance = ETreec.feature_importances_\n",
    "feature_names = ETreec.feature_names_in_"
   ]
  },
  {
   "cell_type": "code",
   "execution_count": 109,
   "id": "57c42d82-3c5e-4a9c-b0a2-280ef392b737",
   "metadata": {},
   "outputs": [
    {
     "data": {
      "image/png": "[encoded data removed]",
      "text/plain": [
       "<Figure size 432x288 with 1 Axes>"
      ]
     },
     "metadata": {
      "needs_background": "light"
     },
     "output_type": "display_data"
    }
   ],
   "source": [
    "import matplotlib.pyplot as plt\n",
    "forest_importances = pd.Series(importance, index=feature_names)\n",
    "\n",
    "fig, ax = plt.subplots()\n",
    "forest_importances.plot.bar(ax=ax)\n",
    "ax.set_title(\"Feature importances using MDI\")\n",
    "ax.set_ylabel(\"Mean decrease in impurity\")\n",
    "fig.tight_layout()\n",
    "fig.savefig('distance_1', dpi=300)"
   ]
  },
  {
   "cell_type": "markdown",
   "id": "0838b632-2a83-42b5-add1-a44ff1318c90",
   "metadata": {
    "id": "iMmxJNQVp3u8"
   },
   "source": [
    "### C4.5 - CART"
   ]
  },
  {
   "cell_type": "code",
   "execution_count": 110,
   "id": "0cc71e56-a74a-47bd-a5d0-b5f04a4f5360",
   "metadata": {
    "id": "JQBjpfWVUZgi"
   },
   "outputs": [],
   "source": [
    "from sklearn.tree import DecisionTreeClassifier # Import Decision Tree Classifier\n",
    "from sklearn import metrics #Import scikit-learn metrics module for accuracy calculation"
   ]
  },
  {
   "cell_type": "code",
   "execution_count": 111,
   "id": "dbec0026-2654-4a77-92ff-3bbdd9a65d24",
   "metadata": {
    "id": "xRymVwyUp9dz"
   },
   "outputs": [
    {
     "name": "stdout",
     "output_type": "stream",
     "text": [
      "[0 1 0 ... 0 1 0]\n"
     ]
    }
   ],
   "source": [
    "# Create Decision Tree classifer object\n",
    "# max_depth=5,min_samples_leaf=20 決定修剪的Threshole\n",
    "CartC45 = DecisionTreeClassifier(criterion=\"gini\",max_depth=40,min_samples_leaf=10)  #CART-->gini c4.5-->entropy min_samples_leaf=20, max_depth=4\n",
    "\n",
    "# Train Decision Tree Classifer\n",
    "CartC45.fit(X_train,y_train)\n",
    "CartC45_pred =CartC45.predict(X_test)\n",
    "print(CartC45_pred)"
   ]
  },
  {
   "cell_type": "code",
   "execution_count": 112,
   "id": "4799f7fb-608e-41b0-8888-5ce4ae9bd4c5",
   "metadata": {
    "id": "8r8PUEVZcXUZ"
   },
   "outputs": [
    {
     "name": "stdout",
     "output_type": "stream",
     "text": [
      "2155861    0\n",
      "958909     1\n",
      "662800     0\n",
      "699289     0\n",
      "2150113    0\n",
      "          ..\n",
      "631864     0\n",
      "2066717    0\n",
      "1978273    0\n",
      "518620     1\n",
      "2208937    0\n",
      "Name: Distance_Bisection, Length: 131077, dtype: int64\n"
     ]
    }
   ],
   "source": [
    "print(y_test)"
   ]
  },
  {
   "cell_type": "code",
   "execution_count": 113,
   "id": "3f0b5b0e-2e52-4255-9d20-b733ff1f5e0e",
   "metadata": {
    "id": "Xl8lAsadp9mE"
   },
   "outputs": [
    {
     "name": "stdout",
     "output_type": "stream",
     "text": [
      "0.9033120035094077\n"
     ]
    }
   ],
   "source": [
    "CartC45train_score=CartC45.score(X_train, y_train)\n",
    "print(CartC45train_score)"
   ]
  },
  {
   "cell_type": "code",
   "execution_count": 114,
   "id": "3ae38b5f-458a-421c-bedc-a30c97bc91d4",
   "metadata": {
    "id": "RF8C2Jaxp9sH"
   },
   "outputs": [
    {
     "name": "stdout",
     "output_type": "stream",
     "text": [
      "The Accuracy of CART/C4.5 Classifier on testing set: 0.846410888256521\n"
     ]
    }
   ],
   "source": [
    "CartC45test_score=CartC45.score(X_test,y_test)\n",
    "print('The Accuracy of CART/C4.5 Classifier on testing set:', CartC45test_score)"
   ]
  },
  {
   "cell_type": "code",
   "execution_count": 115,
   "id": "1e343a7b-9857-4d8d-8ea1-9cef6e9e81f0",
   "metadata": {
    "id": "CngRuVz3Zq0F"
   },
   "outputs": [
    {
     "name": "stdout",
     "output_type": "stream",
     "text": [
      "              precision    recall  f1-score   support\n",
      "\n",
      "           0       0.84      0.86      0.85     65686\n",
      "           1       0.86      0.83      0.84     65391\n",
      "\n",
      "    accuracy                           0.85    131077\n",
      "   macro avg       0.85      0.85      0.85    131077\n",
      "weighted avg       0.85      0.85      0.85    131077\n",
      "\n",
      "[[56643  9043]\n",
      " [11089 54302]]\n"
     ]
    }
   ],
   "source": [
    "from sklearn.metrics import classification_report, confusion_matrix\n",
    "print(classification_report(y_test,CartC45_pred))\n",
    "print(confusion_matrix(y_test,CartC45_pred))"
   ]
  },
  {
   "cell_type": "code",
   "execution_count": 116,
   "id": "5d391930-2a53-4166-be60-39e14c9ba33b",
   "metadata": {},
   "outputs": [
    {
     "data": {
      "text/plain": [
       "array([0.08266695, 0.00297677, 0.01531329, 0.15357252, 0.01032912,\n",
       "       0.01030662, 0.03167309, 0.10230912, 0.11140021, 0.00743252,\n",
       "       0.01748775, 0.01898658, 0.01839337, 0.0239662 , 0.03349054,\n",
       "       0.00687372, 0.01181894, 0.04752499, 0.01834004, 0.00371119,\n",
       "       0.00359964, 0.18957244, 0.00428532, 0.04262399, 0.00529188,\n",
       "       0.02605319])"
      ]
     },
     "execution_count": 116,
     "metadata": {},
     "output_type": "execute_result"
    }
   ],
   "source": [
    "CartC45.feature_importances_"
   ]
  },
  {
   "cell_type": "markdown",
   "id": "c39a2a39-04f0-4680-a460-2bc29c2995fd",
   "metadata": {
    "id": "xmSTHCfJhSoH"
   },
   "source": [
    "### LightGBM"
   ]
  },
  {
   "cell_type": "code",
   "execution_count": 117,
   "id": "5f984265-a065-4d32-a040-e1faf0179c19",
   "metadata": {
    "id": "oiSDE7IvTHSA"
   },
   "outputs": [],
   "source": [
    "import lightgbm as lgb\n",
    "from sklearn.preprocessing import LabelBinarizer"
   ]
  },
  {
   "cell_type": "code",
   "execution_count": 118,
   "id": "9c04b19a-b520-4091-a3bf-73852e48c5a9",
   "metadata": {
    "id": "V2IwFi-qhCyf"
   },
   "outputs": [],
   "source": [
    "import lightgbm as lgb\n",
    "lgbmc = lgb.LGBMClassifier()"
   ]
  },
  {
   "cell_type": "code",
   "execution_count": 119,
   "id": "c5c778b2-ed59-4e02-abd4-fb257aabaab0",
   "metadata": {
    "id": "UkUi3RL-wpJ-"
   },
   "outputs": [
    {
     "name": "stdout",
     "output_type": "stream",
     "text": [
      "[0 1 0 ... 0 1 0]\n"
     ]
    }
   ],
   "source": [
    "lgbmc.fit(X_train, y_train)\n",
    "LGBM_pred=lgbmc.predict(X_test)\n",
    "print(LGBM_pred)"
   ]
  },
  {
   "cell_type": "code",
   "execution_count": 120,
   "id": "d109627c-9c39-4b07-b38b-0d3cef7315a1",
   "metadata": {
    "id": "rFv0BNYvhC66"
   },
   "outputs": [
    {
     "name": "stdout",
     "output_type": "stream",
     "text": [
      "0.8435681521251943\n"
     ]
    }
   ],
   "source": [
    "LGBMtrain_score=lgbmc.score(X_train, y_train)\n",
    "print(LGBMtrain_score)"
   ]
  },
  {
   "cell_type": "code",
   "execution_count": 121,
   "id": "a9da5d54-b270-49bf-85ea-78cfb207268a",
   "metadata": {
    "id": "CydScMUBimwa"
   },
   "outputs": [
    {
     "name": "stdout",
     "output_type": "stream",
     "text": [
      "The Accuracy of LightGBM Classifier on testing set: 0.8432676976128535\n"
     ]
    }
   ],
   "source": [
    "LGBMtest_score=lgbmc.score(X_test,y_test)\n",
    "print('The Accuracy of LightGBM Classifier on testing set:', LGBMtest_score)"
   ]
  },
  {
   "cell_type": "code",
   "execution_count": 122,
   "id": "f0192ee2-5535-4a15-bc9b-40e87f68b4c1",
   "metadata": {
    "id": "SRX5a3LxhC2a"
   },
   "outputs": [
    {
     "name": "stdout",
     "output_type": "stream",
     "text": [
      "              precision    recall  f1-score   support\n",
      "\n",
      "           0       0.82      0.88      0.85     65686\n",
      "           1       0.87      0.80      0.84     65391\n",
      "\n",
      "    accuracy                           0.84    131077\n",
      "   macro avg       0.85      0.84      0.84    131077\n",
      "weighted avg       0.85      0.84      0.84    131077\n",
      "\n",
      "[[58110  7576]\n",
      " [12968 52423]]\n"
     ]
    }
   ],
   "source": [
    "print(classification_report(y_test,LGBM_pred))\n",
    "print(confusion_matrix(y_test,LGBM_pred))"
   ]
  },
  {
   "cell_type": "markdown",
   "id": "6b6027dc-d1d7-44be-9c8c-f096da10bbe6",
   "metadata": {
    "id": "PRJ4SVNShmI_"
   },
   "source": [
    "### RandomForest"
   ]
  },
  {
   "cell_type": "code",
   "execution_count": 123,
   "id": "b8769bfa-9f95-4cac-bacd-dd1aa68150bf",
   "metadata": {
    "id": "2bCS01x077oZ"
   },
   "outputs": [],
   "source": [
    "from sklearn.ensemble import RandomForestClassifier\n",
    "rfc=RandomForestClassifier(bootstrap=True, ccp_alpha=0.0, class_weight=None,\n",
    "                       criterion='gini', max_depth=None, max_features='auto',\n",
    "                       max_leaf_nodes=None, max_samples=None,\n",
    "                       min_impurity_decrease=0.0, \n",
    "                       min_samples_leaf=40, min_samples_split=2,\n",
    "                       min_weight_fraction_leaf=0.0, n_estimators=1000,\n",
    "                       n_jobs=None, oob_score=False, random_state=None,\n",
    "                       verbose=0, warm_start=False)\n",
    "#rfc=RandomForestClassifier()#使用預設直"
   ]
  },
  {
   "cell_type": "code",
   "execution_count": 124,
   "id": "b07a82a4-0354-41ab-b1af-db4af138cf35",
   "metadata": {
    "id": "axe_ATKI3sB5"
   },
   "outputs": [
    {
     "name": "stdout",
     "output_type": "stream",
     "text": [
      "[0 1 0 ... 0 1 0]\n"
     ]
    }
   ],
   "source": [
    "rfc.fit(X_train, y_train)\n",
    "RF_pred=rfc.predict(X_test)\n",
    "print(RF_pred)"
   ]
  },
  {
   "cell_type": "code",
   "execution_count": 125,
   "id": "9e31c17e-f6b6-4ebb-a12a-23c8d3d9ebee",
   "metadata": {
    "id": "r6LDe3Ft6-ET"
   },
   "outputs": [
    {
     "name": "stdout",
     "output_type": "stream",
     "text": [
      "0.8656011291137792\n"
     ]
    }
   ],
   "source": [
    "RFtrain_score=rfc.score(X_train, y_train)\n",
    "print(RFtrain_score)"
   ]
  },
  {
   "cell_type": "code",
   "execution_count": 126,
   "id": "13c33ac5-f7c5-4a1c-ac28-8ba3777ba5de",
   "metadata": {
    "id": "NvJc3m5k3sLQ"
   },
   "outputs": [
    {
     "name": "stdout",
     "output_type": "stream",
     "text": [
      "The Accuracy of RandomForest Classifier on testing set: 0.8543375267972261\n"
     ]
    }
   ],
   "source": [
    "RFtest_score=rfc.score(X_test,y_test)\n",
    "print('The Accuracy of RandomForest Classifier on testing set:', RFtest_score)"
   ]
  },
  {
   "cell_type": "code",
   "execution_count": 127,
   "id": "2301fde2-fddd-4900-99b9-4935fcd67c79",
   "metadata": {
    "id": "iO5IGAIzKgx_"
   },
   "outputs": [
    {
     "name": "stdout",
     "output_type": "stream",
     "text": [
      "              precision    recall  f1-score   support\n",
      "\n",
      "           0       0.83      0.90      0.86     65686\n",
      "           1       0.89      0.81      0.85     65391\n",
      "\n",
      "    accuracy                           0.85    131077\n",
      "   macro avg       0.86      0.85      0.85    131077\n",
      "weighted avg       0.86      0.85      0.85    131077\n",
      "\n",
      "[[58939  6747]\n",
      " [12346 53045]]\n"
     ]
    }
   ],
   "source": [
    "print(classification_report(y_test,RF_pred))\n",
    "print(confusion_matrix(y_test,RF_pred))"
   ]
  },
  {
   "cell_type": "markdown",
   "id": "a5a40dc2-494e-4565-b44f-c6d951b39217",
   "metadata": {
    "id": "vVnSFYMpW2sE"
   },
   "source": [
    "### AdaBoost"
   ]
  },
  {
   "cell_type": "code",
   "execution_count": 128,
   "id": "d3960c8f-bfc6-4416-b9ef-bacdcd57dc93",
   "metadata": {
    "id": "R4fyrXviUnwM"
   },
   "outputs": [],
   "source": [
    "from sklearn.ensemble import AdaBoostClassifier#若為數值要改成  AdaBoostregressor\n",
    "AdaBoostc = AdaBoostClassifier(random_state=0)"
   ]
  },
  {
   "cell_type": "code",
   "execution_count": 129,
   "id": "30f2a164-f524-4cf4-8a21-2831d3cea5b2",
   "metadata": {
    "id": "z3tar0i3W4Ro"
   },
   "outputs": [
    {
     "name": "stdout",
     "output_type": "stream",
     "text": [
      "[0 1 0 ... 0 1 0]\n"
     ]
    }
   ],
   "source": [
    "AdaBoostc.fit(X_train, y_train)\n",
    "AdaBoostc_pred=AdaBoostc.predict(X_test)\n",
    "print(AdaBoostc_pred)"
   ]
  },
  {
   "cell_type": "code",
   "execution_count": 130,
   "id": "2c595618-e145-4b16-8dfb-9b3b4ef5d08d",
   "metadata": {
    "id": "qEeojyCkW4Vw"
   },
   "outputs": [
    {
     "name": "stdout",
     "output_type": "stream",
     "text": [
      "0.7953996242645025\n"
     ]
    }
   ],
   "source": [
    "AdaBoosttrain_score=AdaBoostc.score(X_train, y_train)\n",
    "print(AdaBoosttrain_score)"
   ]
  },
  {
   "cell_type": "code",
   "execution_count": 131,
   "id": "6cf8d4f6-8e04-468a-99c0-4b62584279d1",
   "metadata": {
    "id": "mNdyrcBhW4c_"
   },
   "outputs": [
    {
     "name": "stdout",
     "output_type": "stream",
     "text": [
      "The Accuracy of AdaBoost Classifier on testing set: 0.7969742975502949\n"
     ]
    }
   ],
   "source": [
    "AdaBoosttest_score=AdaBoostc.score(X_test,y_test)\n",
    "print('The Accuracy of AdaBoost Classifier on testing set:', AdaBoosttest_score)"
   ]
  },
  {
   "cell_type": "code",
   "execution_count": 132,
   "id": "2b555426-8b56-4f02-8d79-675136ec8346",
   "metadata": {
    "id": "7vXP8772W4g0"
   },
   "outputs": [
    {
     "name": "stdout",
     "output_type": "stream",
     "text": [
      "              precision    recall  f1-score   support\n",
      "\n",
      "           0       0.79      0.82      0.80     65686\n",
      "           1       0.81      0.78      0.79     65391\n",
      "\n",
      "    accuracy                           0.80    131077\n",
      "   macro avg       0.80      0.80      0.80    131077\n",
      "weighted avg       0.80      0.80      0.80    131077\n",
      "\n",
      "[[53678 12008]\n",
      " [14604 50787]]\n"
     ]
    }
   ],
   "source": [
    "print(classification_report(y_test,AdaBoostc_pred))\n",
    "print(confusion_matrix(y_test,AdaBoostc_pred))"
   ]
  },
  {
   "cell_type": "code",
   "execution_count": null,
   "id": "4e6c320a-f71f-4fd2-8895-78ea63ff007d",
   "metadata": {},
   "outputs": [],
   "source": []
  },
  {
   "cell_type": "markdown",
   "id": "11dba24c-4422-4326-bb9e-1f24de4ba6a8",
   "metadata": {
    "id": "UMB7N52IinGY"
   },
   "source": [
    "### CatBOOST"
   ]
  },
  {
   "cell_type": "code",
   "execution_count": 136,
   "id": "5a4e7e59-ad16-42a5-8856-1e4f392d1e60",
   "metadata": {
    "id": "bnUt2_3ZjZra"
   },
   "outputs": [],
   "source": [
    "# !pip install catboost\n",
    "# !pip install ipywidgets\n",
    "# !jupyter nbextension enable --py widgetsnbextension"
   ]
  },
  {
   "cell_type": "code",
   "execution_count": 137,
   "id": "82a2eb43-98d3-4868-abd6-70aa19fa7397",
   "metadata": {
    "id": "buEoHirZpVNL"
   },
   "outputs": [],
   "source": [
    "import numpy as np\n",
    "import pandas as pd\n",
    "import matplotlib.pyplot as plt\n",
    "# plt.style.use('ggplot') \n",
    "import seaborn as sns\n",
    "from catboost import CatBoostClassifier, Pool, cv\n",
    "from sklearn.metrics import accuracy_score\n",
    "from sklearn.preprocessing import MinMaxScaler\n",
    "from sklearn.feature_selection import VarianceThreshold\n"
   ]
  },
  {
   "cell_type": "code",
   "execution_count": 138,
   "id": "dce2388c-7a82-49f9-8e5b-5db632a34ff1",
   "metadata": {
    "id": "FwBkSb1701FM"
   },
   "outputs": [],
   "source": [
    "CatBc = CatBoostClassifier(iterations=100,\n",
    "  learning_rate=1,\n",
    "  depth=8,\n",
    "  loss_function='MultiClass')"
   ]
  },
  {
   "cell_type": "code",
   "execution_count": 143,
   "id": "84613d12-dcdc-473b-ae5a-7878df2191b1",
   "metadata": {
    "id": "GWcW0Rc8z7du"
   },
   "outputs": [
    {
     "name": "stdout",
     "output_type": "stream",
     "text": [
      "0:\tlearn: 0.4884662\ttotal: 251ms\tremaining: 24.9s\n",
      "1:\tlearn: 0.4408301\ttotal: 465ms\tremaining: 22.8s\n",
      "2:\tlearn: 0.4155320\ttotal: 722ms\tremaining: 23.3s\n",
      "3:\tlearn: 0.4042423\ttotal: 953ms\tremaining: 22.9s\n",
      "4:\tlearn: 0.3960382\ttotal: 1.18s\tremaining: 22.4s\n",
      "5:\tlearn: 0.3915349\ttotal: 1.4s\tremaining: 22s\n",
      "6:\tlearn: 0.3878622\ttotal: 1.62s\tremaining: 21.5s\n",
      "7:\tlearn: 0.3835496\ttotal: 1.85s\tremaining: 21.3s\n",
      "8:\tlearn: 0.3806868\ttotal: 2.06s\tremaining: 20.9s\n",
      "9:\tlearn: 0.3772565\ttotal: 2.3s\tremaining: 20.7s\n",
      "10:\tlearn: 0.3758389\ttotal: 2.52s\tremaining: 20.4s\n",
      "11:\tlearn: 0.3741933\ttotal: 2.76s\tremaining: 20.3s\n",
      "12:\tlearn: 0.3726034\ttotal: 3s\tremaining: 20.1s\n",
      "13:\tlearn: 0.3709909\ttotal: 3.24s\tremaining: 19.9s\n",
      "14:\tlearn: 0.3687805\ttotal: 3.48s\tremaining: 19.7s\n",
      "15:\tlearn: 0.3675947\ttotal: 3.69s\tremaining: 19.4s\n",
      "16:\tlearn: 0.3665216\ttotal: 3.92s\tremaining: 19.1s\n",
      "17:\tlearn: 0.3638067\ttotal: 4.16s\tremaining: 18.9s\n",
      "18:\tlearn: 0.3626437\ttotal: 4.37s\tremaining: 18.6s\n",
      "19:\tlearn: 0.3613318\ttotal: 4.61s\tremaining: 18.4s\n",
      "20:\tlearn: 0.3604257\ttotal: 4.8s\tremaining: 18.1s\n",
      "21:\tlearn: 0.3594684\ttotal: 5.05s\tremaining: 17.9s\n",
      "22:\tlearn: 0.3584683\ttotal: 5.29s\tremaining: 17.7s\n",
      "23:\tlearn: 0.3573283\ttotal: 5.52s\tremaining: 17.5s\n",
      "24:\tlearn: 0.3562286\ttotal: 5.82s\tremaining: 17.5s\n",
      "25:\tlearn: 0.3540710\ttotal: 6.05s\tremaining: 17.2s\n",
      "26:\tlearn: 0.3533445\ttotal: 6.26s\tremaining: 16.9s\n",
      "27:\tlearn: 0.3526662\ttotal: 6.46s\tremaining: 16.6s\n",
      "28:\tlearn: 0.3514052\ttotal: 6.68s\tremaining: 16.3s\n",
      "29:\tlearn: 0.3500072\ttotal: 6.89s\tremaining: 16.1s\n",
      "30:\tlearn: 0.3490601\ttotal: 7.11s\tremaining: 15.8s\n",
      "31:\tlearn: 0.3480345\ttotal: 7.34s\tremaining: 15.6s\n",
      "32:\tlearn: 0.3471220\ttotal: 7.58s\tremaining: 15.4s\n",
      "33:\tlearn: 0.3464535\ttotal: 7.8s\tremaining: 15.1s\n",
      "34:\tlearn: 0.3455659\ttotal: 8s\tremaining: 14.9s\n",
      "35:\tlearn: 0.3445826\ttotal: 8.24s\tremaining: 14.7s\n",
      "36:\tlearn: 0.3436284\ttotal: 8.44s\tremaining: 14.4s\n",
      "37:\tlearn: 0.3426736\ttotal: 8.71s\tremaining: 14.2s\n",
      "38:\tlearn: 0.3419181\ttotal: 8.89s\tremaining: 13.9s\n",
      "39:\tlearn: 0.3411282\ttotal: 9.21s\tremaining: 13.8s\n",
      "40:\tlearn: 0.3400492\ttotal: 9.46s\tremaining: 13.6s\n",
      "41:\tlearn: 0.3394344\ttotal: 9.74s\tremaining: 13.5s\n",
      "42:\tlearn: 0.3386814\ttotal: 9.95s\tremaining: 13.2s\n",
      "43:\tlearn: 0.3380987\ttotal: 10.2s\tremaining: 12.9s\n",
      "44:\tlearn: 0.3374545\ttotal: 10.4s\tremaining: 12.7s\n",
      "45:\tlearn: 0.3370084\ttotal: 10.6s\tremaining: 12.5s\n",
      "46:\tlearn: 0.3363180\ttotal: 10.8s\tremaining: 12.2s\n",
      "47:\tlearn: 0.3356581\ttotal: 11s\tremaining: 12s\n",
      "48:\tlearn: 0.3351364\ttotal: 11.3s\tremaining: 11.7s\n",
      "49:\tlearn: 0.3342625\ttotal: 11.5s\tremaining: 11.5s\n",
      "50:\tlearn: 0.3336262\ttotal: 11.7s\tremaining: 11.3s\n",
      "51:\tlearn: 0.3330315\ttotal: 11.9s\tremaining: 11s\n",
      "52:\tlearn: 0.3319875\ttotal: 12.2s\tremaining: 10.8s\n",
      "53:\tlearn: 0.3315133\ttotal: 12.4s\tremaining: 10.5s\n",
      "54:\tlearn: 0.3310940\ttotal: 12.6s\tremaining: 10.3s\n",
      "55:\tlearn: 0.3304617\ttotal: 12.8s\tremaining: 10.1s\n",
      "56:\tlearn: 0.3299950\ttotal: 13.1s\tremaining: 9.85s\n",
      "57:\tlearn: 0.3296110\ttotal: 13.3s\tremaining: 9.6s\n",
      "58:\tlearn: 0.3287347\ttotal: 13.5s\tremaining: 9.39s\n",
      "59:\tlearn: 0.3284473\ttotal: 13.7s\tremaining: 9.15s\n",
      "60:\tlearn: 0.3280078\ttotal: 13.9s\tremaining: 8.91s\n",
      "61:\tlearn: 0.3273308\ttotal: 14.2s\tremaining: 8.7s\n",
      "62:\tlearn: 0.3266410\ttotal: 14.5s\tremaining: 8.5s\n",
      "63:\tlearn: 0.3264117\ttotal: 14.7s\tremaining: 8.27s\n",
      "64:\tlearn: 0.3255316\ttotal: 14.9s\tremaining: 8.04s\n",
      "65:\tlearn: 0.3248960\ttotal: 15.2s\tremaining: 7.81s\n",
      "66:\tlearn: 0.3245718\ttotal: 15.4s\tremaining: 7.58s\n",
      "67:\tlearn: 0.3241737\ttotal: 15.6s\tremaining: 7.36s\n",
      "68:\tlearn: 0.3237505\ttotal: 16s\tremaining: 7.17s\n",
      "69:\tlearn: 0.3232318\ttotal: 16.2s\tremaining: 6.93s\n",
      "70:\tlearn: 0.3229150\ttotal: 16.4s\tremaining: 6.7s\n",
      "71:\tlearn: 0.3221697\ttotal: 16.8s\tremaining: 6.53s\n",
      "72:\tlearn: 0.3216750\ttotal: 17s\tremaining: 6.3s\n",
      "73:\tlearn: 0.3212897\ttotal: 17.3s\tremaining: 6.08s\n",
      "74:\tlearn: 0.3208577\ttotal: 17.6s\tremaining: 5.87s\n",
      "75:\tlearn: 0.3202343\ttotal: 18s\tremaining: 5.67s\n",
      "76:\tlearn: 0.3196822\ttotal: 18.3s\tremaining: 5.46s\n",
      "77:\tlearn: 0.3193687\ttotal: 18.5s\tremaining: 5.23s\n",
      "78:\tlearn: 0.3192290\ttotal: 18.7s\tremaining: 4.98s\n",
      "79:\tlearn: 0.3185938\ttotal: 19s\tremaining: 4.76s\n",
      "80:\tlearn: 0.3182538\ttotal: 19.3s\tremaining: 4.52s\n",
      "81:\tlearn: 0.3177872\ttotal: 19.6s\tremaining: 4.3s\n",
      "82:\tlearn: 0.3171088\ttotal: 19.9s\tremaining: 4.07s\n",
      "83:\tlearn: 0.3167652\ttotal: 20.2s\tremaining: 3.85s\n",
      "84:\tlearn: 0.3163294\ttotal: 20.4s\tremaining: 3.6s\n",
      "85:\tlearn: 0.3156755\ttotal: 20.7s\tremaining: 3.37s\n",
      "86:\tlearn: 0.3149894\ttotal: 20.9s\tremaining: 3.13s\n",
      "87:\tlearn: 0.3146273\ttotal: 21.1s\tremaining: 2.88s\n",
      "88:\tlearn: 0.3141188\ttotal: 21.4s\tremaining: 2.65s\n",
      "89:\tlearn: 0.3139470\ttotal: 21.6s\tremaining: 2.4s\n",
      "90:\tlearn: 0.3135579\ttotal: 21.9s\tremaining: 2.16s\n",
      "91:\tlearn: 0.3132579\ttotal: 22.1s\tremaining: 1.92s\n",
      "92:\tlearn: 0.3128747\ttotal: 22.3s\tremaining: 1.68s\n",
      "93:\tlearn: 0.3122854\ttotal: 22.5s\tremaining: 1.44s\n",
      "94:\tlearn: 0.3119857\ttotal: 22.7s\tremaining: 1.2s\n",
      "95:\tlearn: 0.3117193\ttotal: 23s\tremaining: 960ms\n",
      "96:\tlearn: 0.3113791\ttotal: 23.3s\tremaining: 719ms\n",
      "97:\tlearn: 0.3110114\ttotal: 23.5s\tremaining: 480ms\n",
      "98:\tlearn: 0.3104695\ttotal: 23.8s\tremaining: 240ms\n",
      "99:\tlearn: 0.3102192\ttotal: 24s\tremaining: 0us\n"
     ]
    }
   ],
   "source": [
    "CatBc.fit(X_train, y_train)\n",
    "CatB_pred=CatBc.predict(X_test)\n",
    "# print(CatB_pred)"
   ]
  },
  {
   "cell_type": "code",
   "execution_count": 144,
   "id": "2d686063-e130-4008-8004-566325bb862e",
   "metadata": {
    "id": "tMX3j47Y0H5U"
   },
   "outputs": [
    {
     "name": "stdout",
     "output_type": "stream",
     "text": [
      "0.8702129485700117\n"
     ]
    }
   ],
   "source": [
    "CatBtrain_score=CatBc.score(X_train, y_train)\n",
    "print(CatBtrain_score)"
   ]
  },
  {
   "cell_type": "code",
   "execution_count": 145,
   "id": "89a09c34-756e-4400-8c0e-e77295973951",
   "metadata": {
    "id": "XfxEDMXi0H8z"
   },
   "outputs": [
    {
     "name": "stdout",
     "output_type": "stream",
     "text": [
      "The Accuracy of CatBOOST Classifier on testing set: 0.8603874058759355\n"
     ]
    }
   ],
   "source": [
    "CatBest_score=CatBc.score(X_test,y_test)\n",
    "print('The Accuracy of CatBOOST Classifier on testing set:',CatBest_score)"
   ]
  },
  {
   "cell_type": "code",
   "execution_count": 146,
   "id": "25d1fa32-f4d7-4db1-b645-83a2200137b0",
   "metadata": {
    "id": "TDJfhYOVtCsp"
   },
   "outputs": [
    {
     "name": "stdout",
     "output_type": "stream",
     "text": [
      "              precision    recall  f1-score   support\n",
      "\n",
      "           0       0.84      0.88      0.86     65686\n",
      "           1       0.88      0.84      0.86     65391\n",
      "\n",
      "    accuracy                           0.86    131077\n",
      "   macro avg       0.86      0.86      0.86    131077\n",
      "weighted avg       0.86      0.86      0.86    131077\n",
      "\n",
      "[[58114  7572]\n",
      " [10728 54663]]\n"
     ]
    }
   ],
   "source": [
    "print(classification_report(y_test,CatB_pred))\n",
    "print(confusion_matrix(y_test,CatB_pred))"
   ]
  },
  {
   "cell_type": "code",
   "execution_count": null,
   "id": "6615f1a7-5669-4b04-b93f-85d868499016",
   "metadata": {},
   "outputs": [],
   "source": []
  },
  {
   "cell_type": "code",
   "execution_count": null,
   "id": "9e94e720-d7d6-4e23-a878-37dbb43f1cfc",
   "metadata": {},
   "outputs": [],
   "source": []
  }
 ],
 "metadata": {
  "kernelspec": {
   "display_name": "Python 3 (ipykernel)",
   "language": "python",
   "name": "python3"
  },
  "language_info": {
   "codemirror_mode": {
    "name": "ipython",
    "version": 3
   },
   "file_extension": ".py",
   "mimetype": "text/x-python",
   "name": "python",
   "nbconvert_exporter": "python",
   "pygments_lexer": "ipython3",
   "version": "3.7.1"
  }
 },
 "nbformat": 4,
 "nbformat_minor": 5
}
